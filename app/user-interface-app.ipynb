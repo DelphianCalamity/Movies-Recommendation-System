{
 "cells": [
  {
   "cell_type": "code",
   "execution_count": null,
   "metadata": {},
   "outputs": [],
   "source": [
    "\"\"\"Main module for App Engine app.\"\"\"\n",
    "\n",
    "from flask import Flask, jsonify, request\n",
    "\n",
    "from recommendations import Recommendations\n",
    "\n",
    "app = Flask(__name__)\n",
    "\n",
    "rec_util = Recommendations()\n",
    "\n",
    "DEFAULT_RECS = 5\n",
    "\n",
    "\n",
    "@app.route('/recommendation', methods=['GET'])\n",
    "def recommendation():\n",
    "  \"\"\"Given a user id, return a list of recommended item ids.\"\"\"\n",
    "  user_id = request.args.get('userId')\n",
    "  num_recs = request.args.get('numRecs')\n",
    "\n",
    "  # validate args\n",
    "  if user_id is None:\n",
    "    return 'No User Id provided.', 400\n",
    "  if num_recs is None:\n",
    "    num_recs = DEFAULT_RECS\n",
    "  try:\n",
    "    uid_int = int(user_id)\n",
    "    nrecs_int = int(num_recs)\n",
    "  except:\n",
    "    return 'User id and number of recs arguments must be integers.', 400\n",
    "\n",
    "  # get recommended articles\n",
    "  rec_list = rec_util.get_recommendations(uid_int, nrecs_int)\n",
    "\n",
    "  if rec_list is None:\n",
    "    return 'User Id not found : %s' % user_id, 400\n",
    "\n",
    "  json_response = jsonify({'articles': [str(i) for i in rec_list]})\n",
    "  return json_response, 200\n",
    "\n",
    "\n",
    "@app.route('/readiness_check', methods=['GET'])\n",
    "def readiness_check():\n",
    "  return '', 200\n",
    "\n",
    "if __name__ == '__main__':\n",
    "  app.run(host='127.0.0.1', port=8080, debug=True)"
   ]
  }
 ],
 "metadata": {
  "kernelspec": {
   "display_name": "Python (tf-gpu)",
   "language": "python",
   "name": "tf_gpu"
  },
  "language_info": {
   "codemirror_mode": {
    "name": "ipython",
    "version": 3
   },
   "file_extension": ".py",
   "mimetype": "text/x-python",
   "name": "python",
   "nbconvert_exporter": "python",
   "pygments_lexer": "ipython3",
   "version": "3.7.3"
  }
 },
 "nbformat": 4,
 "nbformat_minor": 2
}
