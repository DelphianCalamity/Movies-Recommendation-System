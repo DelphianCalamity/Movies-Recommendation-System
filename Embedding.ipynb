{
  "cells": [
    {
      "cell_type": "markdown",
      "metadata": {
        "pycharm": {}
      },
      "source": "# Contents\n- [Data Exploration](#Data-Exploration)\n- [Embedding Only](#Embedding-only)\n- [Embedding \u0026 Neural Network](#Embedding-\u0026-Neural-Network)\n- [Adding Genre data to the network](#Adding-Genre-data-to-the-network)"
    },
    {
      "cell_type": "code",
      "execution_count": 1,
      "metadata": {
        "pycharm": {
          "is_executing": false
        }
      },
      "outputs": [
        {
          "name": "stderr",
          "output_type": "stream",
          "text": [
            "Using TensorFlow backend.\n"
          ]
        },
        {
          "name": "stdout",
          "output_type": "stream",
          "text": [
            "   userId  movieId  rating   timestamp             title  \\\n",
            "0       0        0     4.0   964982703  Toy Story (1995)   \n",
            "1       4        0     4.0   847434962  Toy Story (1995)   \n",
            "2       6        0     4.5  1106635946  Toy Story (1995)   \n",
            "3      14        0     2.5  1510577970  Toy Story (1995)   \n",
            "4      16        0     4.5  1305696483  Toy Story (1995)   \n",
            "\n",
            "                                        genres  \n",
            "0  Adventure|Animation|Children|Comedy|Fantasy  \n",
            "1  Adventure|Animation|Children|Comedy|Fantasy  \n",
            "2  Adventure|Animation|Children|Comedy|Fantasy  \n",
            "3  Adventure|Animation|Children|Comedy|Fantasy  \n",
            "4  Adventure|Animation|Children|Comedy|Fantasy  \n"
          ]
        }
      ],
      "source": "import pandas as pd\nfrom datetime import datetime\nfrom matplotlib import pyplot as plt\nfrom IPython.display import SVG\nimport keras\nfrom keras.optimizers import Adam\nfrom keras.utils.vis_utils import model_to_dot\nfrom sklearn.metrics import mean_absolute_error\nfrom sklearn.metrics import mean_squared_error\nfrom sklearn.preprocessing import MultiLabelBinarizer\nfrom math import sqrt\n\nratings \u003d pd.read_csv(\u0027ml-latest-small/ratings.csv\u0027)\nmovies \u003d pd.read_csv(\u0027ml-latest-small/movies.csv\u0027)\n\nratings \u003d pd.merge(ratings, movies, on\u003d\u0027movieId\u0027)\n\n# ratings \u003d ratings.drop(\u0027genres\u0027, 1)\nratings.userId \u003d ratings.userId.astype(\u0027category\u0027).cat.codes.values\nratings.movieId \u003d ratings.movieId.astype(\u0027category\u0027).cat.codes.values\nprint(ratings.head())"
    },
    {
      "cell_type": "markdown",
      "metadata": {
        "pycharm": {
          "metadata": false,
          "name": "#%% md\n"
        }
      },
      "source": [
        "# Data Exploration "
      ]
    },
    {
      "cell_type": "code",
      "execution_count": 2,
      "metadata": {
        "pycharm": {
          "is_executing": false,
          "metadata": false,
          "name": "#%%\n"
        }
      },
      "outputs": [
        {
          "name": "stdout",
          "output_type": "stream",
          "text": [
            "Number of users: 610\n",
            "Number of movies: 9724\n"
          ]
        },
        {
          "data": {
            "text/plain": [
              "\u003cmatplotlib.axes._subplots.AxesSubplot at 0x15b2b2678d0\u003e"
            ]
          },
          "execution_count": 2,
          "metadata": {},
          "output_type": "execute_result"
        },
        {
          "data": {
            "image/png": "[encoded data removed]",
            "text/plain": [
              "\u003cFigure size 432x288 with 1 Axes\u003e"
            ]
          },
          "metadata": {
            "needs_background": "light"
          },
          "output_type": "display_data"
        }
      ],
      "source": [
        "n_users, n_movies \u003d len(ratings[\u0027userId\u0027].unique()), len(ratings[\u0027movieId\u0027].unique())\n",
        "\n",
        "print(\"Number of users:\",n_users)\n",
        "print(\"Number of movies:\",n_movies)\n",
        "\n",
        "#Convert timestamps to dates\n",
        "ratings[\u0027timestamp\u0027] \u003d ratings[\u0027timestamp\u0027].apply(lambda x: datetime.fromtimestamp(x).strftime(\u0027%Y-%m-%d\u0027))\n",
        "ratings[\u0027timestamp\u0027] \u003d pd.to_datetime(ratings[\u0027timestamp\u0027])\n",
        "\n",
        "#plot timestamps frequencies\n",
        "ratings[\"timestamp\"].groupby(ratings[\"timestamp\"].dt.year).count().plot(kind\u003d\"bar\",)"
      ]
    },
    {
      "cell_type": "code",
      "execution_count": 3,
      "metadata": {
        "pycharm": {
          "is_executing": false,
          "metadata": false,
          "name": "#%%\n"
        }
      },
      "outputs": [
        {
          "data": {
            "image/png": "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\u003d\u003d\n",
            "text/plain": [
              "\u003cFigure size 432x288 with 1 Axes\u003e"
            ]
          },
          "metadata": {
            "needs_background": "light"
          },
          "output_type": "display_data"
        }
      ],
      "source": [
        "# Plot ratings frequencies\n",
        "ratings[\u0027rating\u0027].groupby(ratings[\u0027rating\u0027]).count().plot(kind\u003d\u0027bar\u0027)\n",
        "\n",
        "#split dataset based on date\n",
        "#train \u003d ratings[(ratings[\u0027timestamp\u0027] \u003c \u00272017-07-01\u0027) ]\n",
        "#test \u003d ratings[(ratings[\u0027timestamp\u0027] \u003e\u003d \u00272017-07-01\u0027) ]\n",
        "ratings \u003d ratings.drop(\u0027timestamp\u0027, 1)"
      ]
    },
    {
      "cell_type": "markdown",
      "metadata": {
        "pycharm": {
          "metadata": false,
          "name": "#%% md\n"
        }
      },
      "source": [
        "Dataset split"
      ]
    },
    {
      "cell_type": "code",
      "execution_count": 4,
      "metadata": {
        "pycharm": {
          "is_executing": false,
          "metadata": false,
          "name": "#%%\n"
        }
      },
      "outputs": [
        {
          "name": "stdout",
          "output_type": "stream",
          "text": [
            "Number of rows in test data set: 5042\n",
            "Number of rows in training data set: 95794\n"
          ]
        }
      ],
      "source": [
        "from sklearn.model_selection import train_test_split\n",
        "train, test \u003d train_test_split(ratings, test_size\u003d0.05)\n",
        "print(\"Number of rows in test data set:\", (len(test)))\n",
        "print(\"Number of rows in training data set:\",(len(train)))"
      ]
    },
    {
      "cell_type": "markdown",
      "metadata": {
        "pycharm": {}
      },
      "source": [
        "# Embedding only"
      ]
    },
    {
      "cell_type": "code",
      "execution_count": 5,
      "metadata": {
        "pycharm": {
          "is_executing": false,
          "metadata": false,
          "name": "#%%\n"
        }
      },
      "outputs": [
        {
          "name": "stdout",
          "output_type": "stream",
          "text": [
            "WARNING:tensorflow:From C:\\Users\\machine\\Anaconda3\\envs\\tf_gpu\\lib\\site-packages\\tensorflow\\python\\framework\\op_def_library.py:263: colocate_with (from tensorflow.python.framework.ops) is deprecated and will be removed in a future version.\n",
            "Instructions for updating:\n",
            "Colocations handled automatically by placer.\n"
          ]
        },
        {
          "data": {
            "image/svg+xml": [
              "\u003csvg height\u003d\"304pt\" viewBox\u003d\"0.00 0.00 679.50 304.00\" width\u003d\"680pt\" xmlns\u003d\"http://www.w3.org/2000/svg\" xmlns:xlink\u003d\"http://www.w3.org/1999/xlink\"\u003e\n",
              "\u003cg class\u003d\"graph\" id\u003d\"graph0\" transform\u003d\"scale(1 1) rotate(0) translate(4 300)\"\u003e\n",
              "\u003ctitle\u003eG\u003c/title\u003e\n",
              "\u003cpolygon fill\u003d\"white\" points\u003d\"-4,4 -4,-300 675.5,-300 675.5,4 -4,4\" stroke\u003d\"none\"/\u003e\n",
              "\u003c!-- 1491078029384 --\u003e\n",
              "\u003cg class\u003d\"node\" id\u003d\"node1\"\u003e\u003ctitle\u003e1491078029384\u003c/title\u003e\n",
              "\u003cpolygon fill\u003d\"none\" points\u003d\"43,-249.5 43,-295.5 288,-295.5 288,-249.5 43,-249.5\" stroke\u003d\"black\"/\u003e\n",
              "\u003ctext font-family\u003d\"Times New Roman,serif\" font-size\u003d\"14.00\" text-anchor\u003d\"middle\" x\u003d\"102.5\" y\u003d\"-268.8\"\u003eMovie: InputLayer\u003c/text\u003e\n",
              "\u003cpolyline fill\u003d\"none\" points\u003d\"162,-249.5 162,-295.5 \" stroke\u003d\"black\"/\u003e\n",
              "\u003ctext font-family\u003d\"Times New Roman,serif\" font-size\u003d\"14.00\" text-anchor\u003d\"middle\" x\u003d\"190\" y\u003d\"-280.3\"\u003einput:\u003c/text\u003e\n",
              "\u003cpolyline fill\u003d\"none\" points\u003d\"162,-272.5 218,-272.5 \" stroke\u003d\"black\"/\u003e\n",
              "\u003ctext font-family\u003d\"Times New Roman,serif\" font-size\u003d\"14.00\" text-anchor\u003d\"middle\" x\u003d\"190\" y\u003d\"-257.3\"\u003eoutput:\u003c/text\u003e\n",
              "\u003cpolyline fill\u003d\"none\" points\u003d\"218,-249.5 218,-295.5 \" stroke\u003d\"black\"/\u003e\n",
              "\u003ctext font-family\u003d\"Times New Roman,serif\" font-size\u003d\"14.00\" text-anchor\u003d\"middle\" x\u003d\"253\" y\u003d\"-280.3\"\u003e(None, 1)\u003c/text\u003e\n",
              "\u003cpolyline fill\u003d\"none\" points\u003d\"218,-272.5 288,-272.5 \" stroke\u003d\"black\"/\u003e\n",
              "\u003ctext font-family\u003d\"Times New Roman,serif\" font-size\u003d\"14.00\" text-anchor\u003d\"middle\" x\u003d\"253\" y\u003d\"-257.3\"\u003e(None, 1)\u003c/text\u003e\n",
              "\u003c/g\u003e\n",
              "\u003c!-- 1491078029552 --\u003e\n",
              "\u003cg class\u003d\"node\" id\u003d\"node3\"\u003e\u003ctitle\u003e1491078029552\u003c/title\u003e\n",
              "\u003cpolygon fill\u003d\"none\" points\u003d\"0,-166.5 0,-212.5 331,-212.5 331,-166.5 0,-166.5\" stroke\u003d\"black\"/\u003e\n",
              "\u003ctext font-family\u003d\"Times New Roman,serif\" font-size\u003d\"14.00\" text-anchor\u003d\"middle\" x\u003d\"95.5\" y\u003d\"-185.8\"\u003eMovie-Embedding: Embedding\u003c/text\u003e\n",
              "\u003cpolyline fill\u003d\"none\" points\u003d\"191,-166.5 191,-212.5 \" stroke\u003d\"black\"/\u003e\n",
              "\u003ctext font-family\u003d\"Times New Roman,serif\" font-size\u003d\"14.00\" text-anchor\u003d\"middle\" x\u003d\"219\" y\u003d\"-197.3\"\u003einput:\u003c/text\u003e\n",
              "\u003cpolyline fill\u003d\"none\" points\u003d\"191,-189.5 247,-189.5 \" stroke\u003d\"black\"/\u003e\n",
              "\u003ctext font-family\u003d\"Times New Roman,serif\" font-size\u003d\"14.00\" text-anchor\u003d\"middle\" x\u003d\"219\" y\u003d\"-174.3\"\u003eoutput:\u003c/text\u003e\n",
              "\u003cpolyline fill\u003d\"none\" points\u003d\"247,-166.5 247,-212.5 \" stroke\u003d\"black\"/\u003e\n",
              "\u003ctext font-family\u003d\"Times New Roman,serif\" font-size\u003d\"14.00\" text-anchor\u003d\"middle\" x\u003d\"289\" y\u003d\"-197.3\"\u003e(None, 1)\u003c/text\u003e\n",
              "\u003cpolyline fill\u003d\"none\" points\u003d\"247,-189.5 331,-189.5 \" stroke\u003d\"black\"/\u003e\n",
              "\u003ctext font-family\u003d\"Times New Roman,serif\" font-size\u003d\"14.00\" text-anchor\u003d\"middle\" x\u003d\"289\" y\u003d\"-174.3\"\u003e(None, 1, 3)\u003c/text\u003e\n",
              "\u003c/g\u003e\n",
              "\u003c!-- 1491078029384\u0026#45;\u0026gt;1491078029552 --\u003e\n",
              "\u003cg class\u003d\"edge\" id\u003d\"edge1\"\u003e\u003ctitle\u003e1491078029384-\u0026gt;1491078029552\u003c/title\u003e\n",
              "\u003cpath d\u003d\"M165.5,-249.366C165.5,-241.152 165.5,-231.658 165.5,-222.725\" fill\u003d\"none\" stroke\u003d\"black\"/\u003e\n",
              "\u003cpolygon fill\u003d\"black\" points\u003d\"169,-222.607 165.5,-212.607 162,-222.607 169,-222.607\" stroke\u003d\"black\"/\u003e\n",
              "\u003c/g\u003e\n",
              "\u003c!-- 1491077987464 --\u003e\n",
              "\u003cg class\u003d\"node\" id\u003d\"node2\"\u003e\u003ctitle\u003e1491077987464\u003c/title\u003e\n",
              "\u003cpolygon fill\u003d\"none\" points\u003d\"392.5,-249.5 392.5,-295.5 628.5,-295.5 628.5,-249.5 392.5,-249.5\" stroke\u003d\"black\"/\u003e\n",
              "\u003ctext font-family\u003d\"Times New Roman,serif\" font-size\u003d\"14.00\" text-anchor\u003d\"middle\" x\u003d\"447.5\" y\u003d\"-268.8\"\u003eUser: InputLayer\u003c/text\u003e\n",
              "\u003cpolyline fill\u003d\"none\" points\u003d\"502.5,-249.5 502.5,-295.5 \" stroke\u003d\"black\"/\u003e\n",
              "\u003ctext font-family\u003d\"Times New Roman,serif\" font-size\u003d\"14.00\" text-anchor\u003d\"middle\" x\u003d\"530.5\" y\u003d\"-280.3\"\u003einput:\u003c/text\u003e\n",
              "\u003cpolyline fill\u003d\"none\" points\u003d\"502.5,-272.5 558.5,-272.5 \" stroke\u003d\"black\"/\u003e\n",
              "\u003ctext font-family\u003d\"Times New Roman,serif\" font-size\u003d\"14.00\" text-anchor\u003d\"middle\" x\u003d\"530.5\" y\u003d\"-257.3\"\u003eoutput:\u003c/text\u003e\n",
              "\u003cpolyline fill\u003d\"none\" points\u003d\"558.5,-249.5 558.5,-295.5 \" stroke\u003d\"black\"/\u003e\n",
              "\u003ctext font-family\u003d\"Times New Roman,serif\" font-size\u003d\"14.00\" text-anchor\u003d\"middle\" x\u003d\"593.5\" y\u003d\"-280.3\"\u003e(None, 1)\u003c/text\u003e\n",
              "\u003cpolyline fill\u003d\"none\" points\u003d\"558.5,-272.5 628.5,-272.5 \" stroke\u003d\"black\"/\u003e\n",
              "\u003ctext font-family\u003d\"Times New Roman,serif\" font-size\u003d\"14.00\" text-anchor\u003d\"middle\" x\u003d\"593.5\" y\u003d\"-257.3\"\u003e(None, 1)\u003c/text\u003e\n",
              "\u003c/g\u003e\n",
              "\u003c!-- 1491078030504 --\u003e\n",
              "\u003cg class\u003d\"node\" id\u003d\"node4\"\u003e\u003ctitle\u003e1491078030504\u003c/title\u003e\n",
              "\u003cpolygon fill\u003d\"none\" points\u003d\"349.5,-166.5 349.5,-212.5 671.5,-212.5 671.5,-166.5 349.5,-166.5\" stroke\u003d\"black\"/\u003e\n",
              "\u003ctext font-family\u003d\"Times New Roman,serif\" font-size\u003d\"14.00\" text-anchor\u003d\"middle\" x\u003d\"440.5\" y\u003d\"-185.8\"\u003eUser-Embedding: Embedding\u003c/text\u003e\n",
              "\u003cpolyline fill\u003d\"none\" points\u003d\"531.5,-166.5 531.5,-212.5 \" stroke\u003d\"black\"/\u003e\n",
              "\u003ctext font-family\u003d\"Times New Roman,serif\" font-size\u003d\"14.00\" text-anchor\u003d\"middle\" x\u003d\"559.5\" y\u003d\"-197.3\"\u003einput:\u003c/text\u003e\n",
              "\u003cpolyline fill\u003d\"none\" points\u003d\"531.5,-189.5 587.5,-189.5 \" stroke\u003d\"black\"/\u003e\n",
              "\u003ctext font-family\u003d\"Times New Roman,serif\" font-size\u003d\"14.00\" text-anchor\u003d\"middle\" x\u003d\"559.5\" y\u003d\"-174.3\"\u003eoutput:\u003c/text\u003e\n",
              "\u003cpolyline fill\u003d\"none\" points\u003d\"587.5,-166.5 587.5,-212.5 \" stroke\u003d\"black\"/\u003e\n",
              "\u003ctext font-family\u003d\"Times New Roman,serif\" font-size\u003d\"14.00\" text-anchor\u003d\"middle\" x\u003d\"629.5\" y\u003d\"-197.3\"\u003e(None, 1)\u003c/text\u003e\n",
              "\u003cpolyline fill\u003d\"none\" points\u003d\"587.5,-189.5 671.5,-189.5 \" stroke\u003d\"black\"/\u003e\n",
              "\u003ctext font-family\u003d\"Times New Roman,serif\" font-size\u003d\"14.00\" text-anchor\u003d\"middle\" x\u003d\"629.5\" y\u003d\"-174.3\"\u003e(None, 1, 3)\u003c/text\u003e\n",
              "\u003c/g\u003e\n",
              "\u003c!-- 1491077987464\u0026#45;\u0026gt;1491078030504 --\u003e\n",
              "\u003cg class\u003d\"edge\" id\u003d\"edge2\"\u003e\u003ctitle\u003e1491077987464-\u0026gt;1491078030504\u003c/title\u003e\n",
              "\u003cpath d\u003d\"M510.5,-249.366C510.5,-241.152 510.5,-231.658 510.5,-222.725\" fill\u003d\"none\" stroke\u003d\"black\"/\u003e\n",
              "\u003cpolygon fill\u003d\"black\" points\u003d\"514,-222.607 510.5,-212.607 507,-222.607 514,-222.607\" stroke\u003d\"black\"/\u003e\n",
              "\u003c/g\u003e\n",
              "\u003c!-- 1491078030672 --\u003e\n",
              "\u003cg class\u003d\"node\" id\u003d\"node5\"\u003e\u003ctitle\u003e1491078030672\u003c/title\u003e\n",
              "\u003cpolygon fill\u003d\"none\" points\u003d\"50.5,-83.5 50.5,-129.5 330.5,-129.5 330.5,-83.5 50.5,-83.5\" stroke\u003d\"black\"/\u003e\n",
              "\u003ctext font-family\u003d\"Times New Roman,serif\" font-size\u003d\"14.00\" text-anchor\u003d\"middle\" x\u003d\"120.5\" y\u003d\"-102.8\"\u003eFlattenMovies: Flatten\u003c/text\u003e\n",
              "\u003cpolyline fill\u003d\"none\" points\u003d\"190.5,-83.5 190.5,-129.5 \" stroke\u003d\"black\"/\u003e\n",
              "\u003ctext font-family\u003d\"Times New Roman,serif\" font-size\u003d\"14.00\" text-anchor\u003d\"middle\" x\u003d\"218.5\" y\u003d\"-114.3\"\u003einput:\u003c/text\u003e\n",
              "\u003cpolyline fill\u003d\"none\" points\u003d\"190.5,-106.5 246.5,-106.5 \" stroke\u003d\"black\"/\u003e\n",
              "\u003ctext font-family\u003d\"Times New Roman,serif\" font-size\u003d\"14.00\" text-anchor\u003d\"middle\" x\u003d\"218.5\" y\u003d\"-91.3\"\u003eoutput:\u003c/text\u003e\n",
              "\u003cpolyline fill\u003d\"none\" points\u003d\"246.5,-83.5 246.5,-129.5 \" stroke\u003d\"black\"/\u003e\n",
              "\u003ctext font-family\u003d\"Times New Roman,serif\" font-size\u003d\"14.00\" text-anchor\u003d\"middle\" x\u003d\"288.5\" y\u003d\"-114.3\"\u003e(None, 1, 3)\u003c/text\u003e\n",
              "\u003cpolyline fill\u003d\"none\" points\u003d\"246.5,-106.5 330.5,-106.5 \" stroke\u003d\"black\"/\u003e\n",
              "\u003ctext font-family\u003d\"Times New Roman,serif\" font-size\u003d\"14.00\" text-anchor\u003d\"middle\" x\u003d\"288.5\" y\u003d\"-91.3\"\u003e(None, 3)\u003c/text\u003e\n",
              "\u003c/g\u003e\n",
              "\u003c!-- 1491078029552\u0026#45;\u0026gt;1491078030672 --\u003e\n",
              "\u003cg class\u003d\"edge\" id\u003d\"edge3\"\u003e\u003ctitle\u003e1491078029552-\u0026gt;1491078030672\u003c/title\u003e\n",
              "\u003cpath d\u003d\"M172.331,-166.366C174.894,-158.062 177.861,-148.451 180.644,-139.434\" fill\u003d\"none\" stroke\u003d\"black\"/\u003e\n",
              "\u003cpolygon fill\u003d\"black\" points\u003d\"184.072,-140.194 183.677,-129.607 177.383,-138.13 184.072,-140.194\" stroke\u003d\"black\"/\u003e\n",
              "\u003c/g\u003e\n",
              "\u003c!-- 1491078030168 --\u003e\n",
              "\u003cg class\u003d\"node\" id\u003d\"node6\"\u003e\u003ctitle\u003e1491078030168\u003c/title\u003e\n",
              "\u003cpolygon fill\u003d\"none\" points\u003d\"362,-83.5 362,-129.5 633,-129.5 633,-83.5 362,-83.5\" stroke\u003d\"black\"/\u003e\n",
              "\u003ctext font-family\u003d\"Times New Roman,serif\" font-size\u003d\"14.00\" text-anchor\u003d\"middle\" x\u003d\"427.5\" y\u003d\"-102.8\"\u003eFlattenUsers: Flatten\u003c/text\u003e\n",
              "\u003cpolyline fill\u003d\"none\" points\u003d\"493,-83.5 493,-129.5 \" stroke\u003d\"black\"/\u003e\n",
              "\u003ctext font-family\u003d\"Times New Roman,serif\" font-size\u003d\"14.00\" text-anchor\u003d\"middle\" x\u003d\"521\" y\u003d\"-114.3\"\u003einput:\u003c/text\u003e\n",
              "\u003cpolyline fill\u003d\"none\" points\u003d\"493,-106.5 549,-106.5 \" stroke\u003d\"black\"/\u003e\n",
              "\u003ctext font-family\u003d\"Times New Roman,serif\" font-size\u003d\"14.00\" text-anchor\u003d\"middle\" x\u003d\"521\" y\u003d\"-91.3\"\u003eoutput:\u003c/text\u003e\n",
              "\u003cpolyline fill\u003d\"none\" points\u003d\"549,-83.5 549,-129.5 \" stroke\u003d\"black\"/\u003e\n",
              "\u003ctext font-family\u003d\"Times New Roman,serif\" font-size\u003d\"14.00\" text-anchor\u003d\"middle\" x\u003d\"591\" y\u003d\"-114.3\"\u003e(None, 1, 3)\u003c/text\u003e\n",
              "\u003cpolyline fill\u003d\"none\" points\u003d\"549,-106.5 633,-106.5 \" stroke\u003d\"black\"/\u003e\n",
              "\u003ctext font-family\u003d\"Times New Roman,serif\" font-size\u003d\"14.00\" text-anchor\u003d\"middle\" x\u003d\"591\" y\u003d\"-91.3\"\u003e(None, 3)\u003c/text\u003e\n",
              "\u003c/g\u003e\n",
              "\u003c!-- 1491078030504\u0026#45;\u0026gt;1491078030168 --\u003e\n",
              "\u003cg class\u003d\"edge\" id\u003d\"edge4\"\u003e\u003ctitle\u003e1491078030504-\u0026gt;1491078030168\u003c/title\u003e\n",
              "\u003cpath d\u003d\"M506.948,-166.366C505.629,-158.152 504.106,-148.658 502.672,-139.725\" fill\u003d\"none\" stroke\u003d\"black\"/\u003e\n",
              "\u003cpolygon fill\u003d\"black\" points\u003d\"506.089,-138.926 501.048,-129.607 499.177,-140.035 506.089,-138.926\" stroke\u003d\"black\"/\u003e\n",
              "\u003c/g\u003e\n",
              "\u003c!-- 1491078030056 --\u003e\n",
              "\u003cg class\u003d\"node\" id\u003d\"node7\"\u003e\u003ctitle\u003e1491078030056\u003c/title\u003e\n",
              "\u003cpolygon fill\u003d\"none\" points\u003d\"207,-0.5 207,-46.5 480,-46.5 480,-0.5 207,-0.5\" stroke\u003d\"black\"/\u003e\n",
              "\u003ctext font-family\u003d\"Times New Roman,serif\" font-size\u003d\"14.00\" text-anchor\u003d\"middle\" x\u003d\"245.5\" y\u003d\"-19.8\"\u003edot_1: Dot\u003c/text\u003e\n",
              "\u003cpolyline fill\u003d\"none\" points\u003d\"284,-0.5 284,-46.5 \" stroke\u003d\"black\"/\u003e\n",
              "\u003ctext font-family\u003d\"Times New Roman,serif\" font-size\u003d\"14.00\" text-anchor\u003d\"middle\" x\u003d\"312\" y\u003d\"-31.3\"\u003einput:\u003c/text\u003e\n",
              "\u003cpolyline fill\u003d\"none\" points\u003d\"284,-23.5 340,-23.5 \" stroke\u003d\"black\"/\u003e\n",
              "\u003ctext font-family\u003d\"Times New Roman,serif\" font-size\u003d\"14.00\" text-anchor\u003d\"middle\" x\u003d\"312\" y\u003d\"-8.3\"\u003eoutput:\u003c/text\u003e\n",
              "\u003cpolyline fill\u003d\"none\" points\u003d\"340,-0.5 340,-46.5 \" stroke\u003d\"black\"/\u003e\n",
              "\u003ctext font-family\u003d\"Times New Roman,serif\" font-size\u003d\"14.00\" text-anchor\u003d\"middle\" x\u003d\"410\" y\u003d\"-31.3\"\u003e[(None, 3), (None, 3)]\u003c/text\u003e\n",
              "\u003cpolyline fill\u003d\"none\" points\u003d\"340,-23.5 480,-23.5 \" stroke\u003d\"black\"/\u003e\n",
              "\u003ctext font-family\u003d\"Times New Roman,serif\" font-size\u003d\"14.00\" text-anchor\u003d\"middle\" x\u003d\"410\" y\u003d\"-8.3\"\u003e(None, 1)\u003c/text\u003e\n",
              "\u003c/g\u003e\n",
              "\u003c!-- 1491078030672\u0026#45;\u0026gt;1491078030056 --\u003e\n",
              "\u003cg class\u003d\"edge\" id\u003d\"edge5\"\u003e\u003ctitle\u003e1491078030672-\u0026gt;1491078030056\u003c/title\u003e\n",
              "\u003cpath d\u003d\"M232.308,-83.3664C250.945,-73.4998 273.067,-61.7881 292.652,-51.4194\" fill\u003d\"none\" stroke\u003d\"black\"/\u003e\n",
              "\u003cpolygon fill\u003d\"black\" points\u003d\"294.542,-54.379 301.743,-46.6068 291.267,-48.1925 294.542,-54.379\" stroke\u003d\"black\"/\u003e\n",
              "\u003c/g\u003e\n",
              "\u003c!-- 1491078030168\u0026#45;\u0026gt;1491078030056 --\u003e\n",
              "\u003cg class\u003d\"edge\" id\u003d\"edge6\"\u003e\u003ctitle\u003e1491078030168-\u0026gt;1491078030056\u003c/title\u003e\n",
              "\u003cpath d\u003d\"M455.419,-83.3664C436.575,-73.4551 414.192,-61.682 394.413,-51.2787\" fill\u003d\"none\" stroke\u003d\"black\"/\u003e\n",
              "\u003cpolygon fill\u003d\"black\" points\u003d\"396.01,-48.1643 385.53,-46.6068 392.751,-54.3596 396.01,-48.1643\" stroke\u003d\"black\"/\u003e\n",
              "\u003c/g\u003e\n",
              "\u003c/g\u003e\n",
              "\u003c/svg\u003e"
            ],
            "text/plain": [
              "\u003cIPython.core.display.SVG object\u003e"
            ]
          },
          "execution_count": 5,
          "metadata": {},
          "output_type": "execute_result"
        }
      ],
      "source": [
        "n_latent_factors \u003d 3\n",
        "movie_input \u003d keras.layers.Input(shape\u003d[1],name\u003d\u0027Movie\u0027)\n",
        "movie_embedding \u003d keras.layers.Embedding(n_movies + 1, n_latent_factors, name\u003d\u0027Movie-Embedding\u0027)(movie_input)\n",
        "movie_vec \u003d keras.layers.Flatten(name\u003d\u0027FlattenMovies\u0027)(movie_embedding)\n",
        "\n",
        "user_input \u003d keras.layers.Input(shape\u003d[1],name\u003d\u0027User\u0027)\n",
        "user_vec \u003d keras.layers.Flatten(name\u003d\u0027FlattenUsers\u0027)(keras.layers.Embedding(n_users + 1, n_latent_factors,name\u003d\u0027User-Embedding\u0027)(user_input))\n",
        "\n",
        "prod \u003d keras.layers.dot([movie_vec,user_vec],axes\u003d1)\n",
        "\n",
        "model \u003d keras.Model([user_input, movie_input], prod)\n",
        "model.compile(optimizer\u003dAdam(),loss\u003d \u0027mean_absolute_error\u0027)\n",
        "\n",
        "#visualize model\n",
        "SVG(model_to_dot(model,show_shapes\u003dTrue, rankdir\u003d\u0027HB\u0027).create(prog\u003d\u0027dot\u0027, format\u003d\u0027svg\u0027))"
      ]
    },
    {
      "cell_type": "code",
      "execution_count": 6,
      "metadata": {
        "pycharm": {
          "is_executing": false
        }
      },
      "outputs": [
        {
          "name": "stdout",
          "output_type": "stream",
          "text": [
            "WARNING:tensorflow:From C:\\Users\\machine\\Anaconda3\\envs\\tf_gpu\\lib\\site-packages\\tensorflow\\python\\ops\\math_ops.py:3066: to_int32 (from tensorflow.python.ops.math_ops) is deprecated and will be removed in a future version.\n",
            "Instructions for updating:\n",
            "Use tf.cast instead.\n"
          ]
        },
        {
          "data": {
            "text/plain": [
              "Text(0, 0.5, \u0027Train Error\u0027)"
            ]
          },
          "execution_count": 6,
          "metadata": {},
          "output_type": "execute_result"
        },
        {
          "data": {
            "image/png": "[encoded data removed]",
            "text/plain": [
              "\u003cFigure size 432x288 with 1 Axes\u003e"
            ]
          },
          "metadata": {
            "needs_background": "light"
          },
          "output_type": "display_data"
        }
      ],
      "source": [
        "history \u003d model.fit([train[\u0027userId\u0027], train[\u0027movieId\u0027]], train.rating,batch_size\u003d256, epochs\u003d100, verbose\u003d0)\n",
        "pd.Series(history.history[\u0027loss\u0027]).plot()\n",
        "plt.xlabel(\"Epoch\")\n",
        "plt.ylabel(\"Train Error\")"
      ]
    },
    {
      "cell_type": "code",
      "execution_count": 7,
      "metadata": {
        "pycharm": {
          "is_executing": false,
          "metadata": false,
          "name": "#%%\n"
        }
      },
      "outputs": [
        {
          "name": "stdout",
          "output_type": "stream",
          "text": [
            "MAE: 0.76903142660173\n",
            "RMSE: 1.0955687002185586\n"
          ]
        }
      ],
      "source": [
        "y_hat \u003d model.predict([test.userId, test.movieId])\n",
        "y_true \u003d test.rating\n",
        "print(\"MAE:\",mean_absolute_error(y_true,y_hat))\n",
        "print(\"RMSE:\",sqrt(mean_squared_error(y_true, y_hat)))"
      ]
    },
    {
      "cell_type": "markdown",
      "metadata": {
        "pycharm": {}
      },
      "source": [
        "# Embedding \u0026 Neural Network"
      ]
    },
    {
      "cell_type": "code",
      "execution_count": 8,
      "metadata": {
        "pycharm": {
          "is_executing": false,
          "metadata": false,
          "name": "#%%\n"
        }
      },
      "outputs": [
        {
          "name": "stdout",
          "output_type": "stream",
          "text": [
            "WARNING:tensorflow:From C:\\Users\\machine\\Anaconda3\\envs\\tf_gpu\\lib\\site-packages\\keras\\backend\\tensorflow_backend.py:3445: calling dropout (from tensorflow.python.ops.nn_ops) with keep_prob is deprecated and will be removed in a future version.\n",
            "Instructions for updating:\n",
            "Please use `rate` instead of `keep_prob`. Rate should be set to `rate \u003d 1 - keep_prob`.\n"
          ]
        },
        {
          "data": {
            "image/svg+xml": [
              "\u003csvg height\u003d\"719pt\" viewBox\u003d\"0.00 0.00 679.50 719.00\" width\u003d\"680pt\" xmlns\u003d\"http://www.w3.org/2000/svg\" xmlns:xlink\u003d\"http://www.w3.org/1999/xlink\"\u003e\n",
              "\u003cg class\u003d\"graph\" id\u003d\"graph0\" transform\u003d\"scale(1 1) rotate(0) translate(4 715)\"\u003e\n",
              "\u003ctitle\u003eG\u003c/title\u003e\n",
              "\u003cpolygon fill\u003d\"white\" points\u003d\"-4,4 -4,-715 675.5,-715 675.5,4 -4,4\" stroke\u003d\"none\"/\u003e\n",
              "\u003c!-- 1491088671296 --\u003e\n",
              "\u003cg class\u003d\"node\" id\u003d\"node1\"\u003e\u003ctitle\u003e1491088671296\u003c/title\u003e\n",
              "\u003cpolygon fill\u003d\"none\" points\u003d\"43,-664.5 43,-710.5 288,-710.5 288,-664.5 43,-664.5\" stroke\u003d\"black\"/\u003e\n",
              "\u003ctext font-family\u003d\"Times New Roman,serif\" font-size\u003d\"14.00\" text-anchor\u003d\"middle\" x\u003d\"102.5\" y\u003d\"-683.8\"\u003eMovie: InputLayer\u003c/text\u003e\n",
              "\u003cpolyline fill\u003d\"none\" points\u003d\"162,-664.5 162,-710.5 \" stroke\u003d\"black\"/\u003e\n",
              "\u003ctext font-family\u003d\"Times New Roman,serif\" font-size\u003d\"14.00\" text-anchor\u003d\"middle\" x\u003d\"190\" y\u003d\"-695.3\"\u003einput:\u003c/text\u003e\n",
              "\u003cpolyline fill\u003d\"none\" points\u003d\"162,-687.5 218,-687.5 \" stroke\u003d\"black\"/\u003e\n",
              "\u003ctext font-family\u003d\"Times New Roman,serif\" font-size\u003d\"14.00\" text-anchor\u003d\"middle\" x\u003d\"190\" y\u003d\"-672.3\"\u003eoutput:\u003c/text\u003e\n",
              "\u003cpolyline fill\u003d\"none\" points\u003d\"218,-664.5 218,-710.5 \" stroke\u003d\"black\"/\u003e\n",
              "\u003ctext font-family\u003d\"Times New Roman,serif\" font-size\u003d\"14.00\" text-anchor\u003d\"middle\" x\u003d\"253\" y\u003d\"-695.3\"\u003e(None, 1)\u003c/text\u003e\n",
              "\u003cpolyline fill\u003d\"none\" points\u003d\"218,-687.5 288,-687.5 \" stroke\u003d\"black\"/\u003e\n",
              "\u003ctext font-family\u003d\"Times New Roman,serif\" font-size\u003d\"14.00\" text-anchor\u003d\"middle\" x\u003d\"253\" y\u003d\"-672.3\"\u003e(None, 1)\u003c/text\u003e\n",
              "\u003c/g\u003e\n",
              "\u003c!-- 1490542546672 --\u003e\n",
              "\u003cg class\u003d\"node\" id\u003d\"node3\"\u003e\u003ctitle\u003e1490542546672\u003c/title\u003e\n",
              "\u003cpolygon fill\u003d\"none\" points\u003d\"0,-581.5 0,-627.5 331,-627.5 331,-581.5 0,-581.5\" stroke\u003d\"black\"/\u003e\n",
              "\u003ctext font-family\u003d\"Times New Roman,serif\" font-size\u003d\"14.00\" text-anchor\u003d\"middle\" x\u003d\"95.5\" y\u003d\"-600.8\"\u003eMovie-Embedding: Embedding\u003c/text\u003e\n",
              "\u003cpolyline fill\u003d\"none\" points\u003d\"191,-581.5 191,-627.5 \" stroke\u003d\"black\"/\u003e\n",
              "\u003ctext font-family\u003d\"Times New Roman,serif\" font-size\u003d\"14.00\" text-anchor\u003d\"middle\" x\u003d\"219\" y\u003d\"-612.3\"\u003einput:\u003c/text\u003e\n",
              "\u003cpolyline fill\u003d\"none\" points\u003d\"191,-604.5 247,-604.5 \" stroke\u003d\"black\"/\u003e\n",
              "\u003ctext font-family\u003d\"Times New Roman,serif\" font-size\u003d\"14.00\" text-anchor\u003d\"middle\" x\u003d\"219\" y\u003d\"-589.3\"\u003eoutput:\u003c/text\u003e\n",
              "\u003cpolyline fill\u003d\"none\" points\u003d\"247,-581.5 247,-627.5 \" stroke\u003d\"black\"/\u003e\n",
              "\u003ctext font-family\u003d\"Times New Roman,serif\" font-size\u003d\"14.00\" text-anchor\u003d\"middle\" x\u003d\"289\" y\u003d\"-612.3\"\u003e(None, 1)\u003c/text\u003e\n",
              "\u003cpolyline fill\u003d\"none\" points\u003d\"247,-604.5 331,-604.5 \" stroke\u003d\"black\"/\u003e\n",
              "\u003ctext font-family\u003d\"Times New Roman,serif\" font-size\u003d\"14.00\" text-anchor\u003d\"middle\" x\u003d\"289\" y\u003d\"-589.3\"\u003e(None, 1, 8)\u003c/text\u003e\n",
              "\u003c/g\u003e\n",
              "\u003c!-- 1491088671296\u0026#45;\u0026gt;1490542546672 --\u003e\n",
              "\u003cg class\u003d\"edge\" id\u003d\"edge1\"\u003e\u003ctitle\u003e1491088671296-\u0026gt;1490542546672\u003c/title\u003e\n",
              "\u003cpath d\u003d\"M165.5,-664.366C165.5,-656.152 165.5,-646.658 165.5,-637.725\" fill\u003d\"none\" stroke\u003d\"black\"/\u003e\n",
              "\u003cpolygon fill\u003d\"black\" points\u003d\"169,-637.607 165.5,-627.607 162,-637.607 169,-637.607\" stroke\u003d\"black\"/\u003e\n",
              "\u003c/g\u003e\n",
              "\u003c!-- 1490441825304 --\u003e\n",
              "\u003cg class\u003d\"node\" id\u003d\"node2\"\u003e\u003ctitle\u003e1490441825304\u003c/title\u003e\n",
              "\u003cpolygon fill\u003d\"none\" points\u003d\"392.5,-664.5 392.5,-710.5 628.5,-710.5 628.5,-664.5 392.5,-664.5\" stroke\u003d\"black\"/\u003e\n",
              "\u003ctext font-family\u003d\"Times New Roman,serif\" font-size\u003d\"14.00\" text-anchor\u003d\"middle\" x\u003d\"447.5\" y\u003d\"-683.8\"\u003eUser: InputLayer\u003c/text\u003e\n",
              "\u003cpolyline fill\u003d\"none\" points\u003d\"502.5,-664.5 502.5,-710.5 \" stroke\u003d\"black\"/\u003e\n",
              "\u003ctext font-family\u003d\"Times New Roman,serif\" font-size\u003d\"14.00\" text-anchor\u003d\"middle\" x\u003d\"530.5\" y\u003d\"-695.3\"\u003einput:\u003c/text\u003e\n",
              "\u003cpolyline fill\u003d\"none\" points\u003d\"502.5,-687.5 558.5,-687.5 \" stroke\u003d\"black\"/\u003e\n",
              "\u003ctext font-family\u003d\"Times New Roman,serif\" font-size\u003d\"14.00\" text-anchor\u003d\"middle\" x\u003d\"530.5\" y\u003d\"-672.3\"\u003eoutput:\u003c/text\u003e\n",
              "\u003cpolyline fill\u003d\"none\" points\u003d\"558.5,-664.5 558.5,-710.5 \" stroke\u003d\"black\"/\u003e\n",
              "\u003ctext font-family\u003d\"Times New Roman,serif\" font-size\u003d\"14.00\" text-anchor\u003d\"middle\" x\u003d\"593.5\" y\u003d\"-695.3\"\u003e(None, 1)\u003c/text\u003e\n",
              "\u003cpolyline fill\u003d\"none\" points\u003d\"558.5,-687.5 628.5,-687.5 \" stroke\u003d\"black\"/\u003e\n",
              "\u003ctext font-family\u003d\"Times New Roman,serif\" font-size\u003d\"14.00\" text-anchor\u003d\"middle\" x\u003d\"593.5\" y\u003d\"-672.3\"\u003e(None, 1)\u003c/text\u003e\n",
              "\u003c/g\u003e\n",
              "\u003c!-- 1491088671856 --\u003e\n",
              "\u003cg class\u003d\"node\" id\u003d\"node4\"\u003e\u003ctitle\u003e1491088671856\u003c/title\u003e\n",
              "\u003cpolygon fill\u003d\"none\" points\u003d\"349.5,-581.5 349.5,-627.5 671.5,-627.5 671.5,-581.5 349.5,-581.5\" stroke\u003d\"black\"/\u003e\n",
              "\u003ctext font-family\u003d\"Times New Roman,serif\" font-size\u003d\"14.00\" text-anchor\u003d\"middle\" x\u003d\"440.5\" y\u003d\"-600.8\"\u003eUser-Embedding: Embedding\u003c/text\u003e\n",
              "\u003cpolyline fill\u003d\"none\" points\u003d\"531.5,-581.5 531.5,-627.5 \" stroke\u003d\"black\"/\u003e\n",
              "\u003ctext font-family\u003d\"Times New Roman,serif\" font-size\u003d\"14.00\" text-anchor\u003d\"middle\" x\u003d\"559.5\" y\u003d\"-612.3\"\u003einput:\u003c/text\u003e\n",
              "\u003cpolyline fill\u003d\"none\" points\u003d\"531.5,-604.5 587.5,-604.5 \" stroke\u003d\"black\"/\u003e\n",
              "\u003ctext font-family\u003d\"Times New Roman,serif\" font-size\u003d\"14.00\" text-anchor\u003d\"middle\" x\u003d\"559.5\" y\u003d\"-589.3\"\u003eoutput:\u003c/text\u003e\n",
              "\u003cpolyline fill\u003d\"none\" points\u003d\"587.5,-581.5 587.5,-627.5 \" stroke\u003d\"black\"/\u003e\n",
              "\u003ctext font-family\u003d\"Times New Roman,serif\" font-size\u003d\"14.00\" text-anchor\u003d\"middle\" x\u003d\"629.5\" y\u003d\"-612.3\"\u003e(None, 1)\u003c/text\u003e\n",
              "\u003cpolyline fill\u003d\"none\" points\u003d\"587.5,-604.5 671.5,-604.5 \" stroke\u003d\"black\"/\u003e\n",
              "\u003ctext font-family\u003d\"Times New Roman,serif\" font-size\u003d\"14.00\" text-anchor\u003d\"middle\" x\u003d\"629.5\" y\u003d\"-589.3\"\u003e(None, 1, 5)\u003c/text\u003e\n",
              "\u003c/g\u003e\n",
              "\u003c!-- 1490441825304\u0026#45;\u0026gt;1491088671856 --\u003e\n",
              "\u003cg class\u003d\"edge\" id\u003d\"edge2\"\u003e\u003ctitle\u003e1490441825304-\u0026gt;1491088671856\u003c/title\u003e\n",
              "\u003cpath d\u003d\"M510.5,-664.366C510.5,-656.152 510.5,-646.658 510.5,-637.725\" fill\u003d\"none\" stroke\u003d\"black\"/\u003e\n",
              "\u003cpolygon fill\u003d\"black\" points\u003d\"514,-637.607 510.5,-627.607 507,-637.607 514,-637.607\" stroke\u003d\"black\"/\u003e\n",
              "\u003c/g\u003e\n",
              "\u003c!-- 1491088664392 --\u003e\n",
              "\u003cg class\u003d\"node\" id\u003d\"node5\"\u003e\u003ctitle\u003e1491088664392\u003c/title\u003e\n",
              "\u003cpolygon fill\u003d\"none\" points\u003d\"50.5,-498.5 50.5,-544.5 330.5,-544.5 330.5,-498.5 50.5,-498.5\" stroke\u003d\"black\"/\u003e\n",
              "\u003ctext font-family\u003d\"Times New Roman,serif\" font-size\u003d\"14.00\" text-anchor\u003d\"middle\" x\u003d\"120.5\" y\u003d\"-517.8\"\u003eFlattenMovies: Flatten\u003c/text\u003e\n",
              "\u003cpolyline fill\u003d\"none\" points\u003d\"190.5,-498.5 190.5,-544.5 \" stroke\u003d\"black\"/\u003e\n",
              "\u003ctext font-family\u003d\"Times New Roman,serif\" font-size\u003d\"14.00\" text-anchor\u003d\"middle\" x\u003d\"218.5\" y\u003d\"-529.3\"\u003einput:\u003c/text\u003e\n",
              "\u003cpolyline fill\u003d\"none\" points\u003d\"190.5,-521.5 246.5,-521.5 \" stroke\u003d\"black\"/\u003e\n",
              "\u003ctext font-family\u003d\"Times New Roman,serif\" font-size\u003d\"14.00\" text-anchor\u003d\"middle\" x\u003d\"218.5\" y\u003d\"-506.3\"\u003eoutput:\u003c/text\u003e\n",
              "\u003cpolyline fill\u003d\"none\" points\u003d\"246.5,-498.5 246.5,-544.5 \" stroke\u003d\"black\"/\u003e\n",
              "\u003ctext font-family\u003d\"Times New Roman,serif\" font-size\u003d\"14.00\" text-anchor\u003d\"middle\" x\u003d\"288.5\" y\u003d\"-529.3\"\u003e(None, 1, 8)\u003c/text\u003e\n",
              "\u003cpolyline fill\u003d\"none\" points\u003d\"246.5,-521.5 330.5,-521.5 \" stroke\u003d\"black\"/\u003e\n",
              "\u003ctext font-family\u003d\"Times New Roman,serif\" font-size\u003d\"14.00\" text-anchor\u003d\"middle\" x\u003d\"288.5\" y\u003d\"-506.3\"\u003e(None, 8)\u003c/text\u003e\n",
              "\u003c/g\u003e\n",
              "\u003c!-- 1490542546672\u0026#45;\u0026gt;1491088664392 --\u003e\n",
              "\u003cg class\u003d\"edge\" id\u003d\"edge3\"\u003e\u003ctitle\u003e1490542546672-\u0026gt;1491088664392\u003c/title\u003e\n",
              "\u003cpath d\u003d\"M172.331,-581.366C174.894,-573.062 177.861,-563.451 180.644,-554.434\" fill\u003d\"none\" stroke\u003d\"black\"/\u003e\n",
              "\u003cpolygon fill\u003d\"black\" points\u003d\"184.072,-555.194 183.677,-544.607 177.383,-553.13 184.072,-555.194\" stroke\u003d\"black\"/\u003e\n",
              "\u003c/g\u003e\n",
              "\u003c!-- 1490533035312 --\u003e\n",
              "\u003cg class\u003d\"node\" id\u003d\"node6\"\u003e\u003ctitle\u003e1490533035312\u003c/title\u003e\n",
              "\u003cpolygon fill\u003d\"none\" points\u003d\"362,-498.5 362,-544.5 633,-544.5 633,-498.5 362,-498.5\" stroke\u003d\"black\"/\u003e\n",
              "\u003ctext font-family\u003d\"Times New Roman,serif\" font-size\u003d\"14.00\" text-anchor\u003d\"middle\" x\u003d\"427.5\" y\u003d\"-517.8\"\u003eFlattenUsers: Flatten\u003c/text\u003e\n",
              "\u003cpolyline fill\u003d\"none\" points\u003d\"493,-498.5 493,-544.5 \" stroke\u003d\"black\"/\u003e\n",
              "\u003ctext font-family\u003d\"Times New Roman,serif\" font-size\u003d\"14.00\" text-anchor\u003d\"middle\" x\u003d\"521\" y\u003d\"-529.3\"\u003einput:\u003c/text\u003e\n",
              "\u003cpolyline fill\u003d\"none\" points\u003d\"493,-521.5 549,-521.5 \" stroke\u003d\"black\"/\u003e\n",
              "\u003ctext font-family\u003d\"Times New Roman,serif\" font-size\u003d\"14.00\" text-anchor\u003d\"middle\" x\u003d\"521\" y\u003d\"-506.3\"\u003eoutput:\u003c/text\u003e\n",
              "\u003cpolyline fill\u003d\"none\" points\u003d\"549,-498.5 549,-544.5 \" stroke\u003d\"black\"/\u003e\n",
              "\u003ctext font-family\u003d\"Times New Roman,serif\" font-size\u003d\"14.00\" text-anchor\u003d\"middle\" x\u003d\"591\" y\u003d\"-529.3\"\u003e(None, 1, 5)\u003c/text\u003e\n",
              "\u003cpolyline fill\u003d\"none\" points\u003d\"549,-521.5 633,-521.5 \" stroke\u003d\"black\"/\u003e\n",
              "\u003ctext font-family\u003d\"Times New Roman,serif\" font-size\u003d\"14.00\" text-anchor\u003d\"middle\" x\u003d\"591\" y\u003d\"-506.3\"\u003e(None, 5)\u003c/text\u003e\n",
              "\u003c/g\u003e\n",
              "\u003c!-- 1491088671856\u0026#45;\u0026gt;1490533035312 --\u003e\n",
              "\u003cg class\u003d\"edge\" id\u003d\"edge4\"\u003e\u003ctitle\u003e1491088671856-\u0026gt;1490533035312\u003c/title\u003e\n",
              "\u003cpath d\u003d\"M506.948,-581.366C505.629,-573.152 504.106,-563.658 502.672,-554.725\" fill\u003d\"none\" stroke\u003d\"black\"/\u003e\n",
              "\u003cpolygon fill\u003d\"black\" points\u003d\"506.089,-553.926 501.048,-544.607 499.177,-555.035 506.089,-553.926\" stroke\u003d\"black\"/\u003e\n",
              "\u003c/g\u003e\n",
              "\u003c!-- 1490542254792 --\u003e\n",
              "\u003cg class\u003d\"node\" id\u003d\"node7\"\u003e\u003ctitle\u003e1490542254792\u003c/title\u003e\n",
              "\u003cpolygon fill\u003d\"none\" points\u003d\"78.5,-415.5 78.5,-461.5 334.5,-461.5 334.5,-415.5 78.5,-415.5\" stroke\u003d\"black\"/\u003e\n",
              "\u003ctext font-family\u003d\"Times New Roman,serif\" font-size\u003d\"14.00\" text-anchor\u003d\"middle\" x\u003d\"143.5\" y\u003d\"-434.8\"\u003edropout_1: Dropout\u003c/text\u003e\n",
              "\u003cpolyline fill\u003d\"none\" points\u003d\"208.5,-415.5 208.5,-461.5 \" stroke\u003d\"black\"/\u003e\n",
              "\u003ctext font-family\u003d\"Times New Roman,serif\" font-size\u003d\"14.00\" text-anchor\u003d\"middle\" x\u003d\"236.5\" y\u003d\"-446.3\"\u003einput:\u003c/text\u003e\n",
              "\u003cpolyline fill\u003d\"none\" points\u003d\"208.5,-438.5 264.5,-438.5 \" stroke\u003d\"black\"/\u003e\n",
              "\u003ctext font-family\u003d\"Times New Roman,serif\" font-size\u003d\"14.00\" text-anchor\u003d\"middle\" x\u003d\"236.5\" y\u003d\"-423.3\"\u003eoutput:\u003c/text\u003e\n",
              "\u003cpolyline fill\u003d\"none\" points\u003d\"264.5,-415.5 264.5,-461.5 \" stroke\u003d\"black\"/\u003e\n",
              "\u003ctext font-family\u003d\"Times New Roman,serif\" font-size\u003d\"14.00\" text-anchor\u003d\"middle\" x\u003d\"299.5\" y\u003d\"-446.3\"\u003e(None, 8)\u003c/text\u003e\n",
              "\u003cpolyline fill\u003d\"none\" points\u003d\"264.5,-438.5 334.5,-438.5 \" stroke\u003d\"black\"/\u003e\n",
              "\u003ctext font-family\u003d\"Times New Roman,serif\" font-size\u003d\"14.00\" text-anchor\u003d\"middle\" x\u003d\"299.5\" y\u003d\"-423.3\"\u003e(None, 8)\u003c/text\u003e\n",
              "\u003c/g\u003e\n",
              "\u003c!-- 1491088664392\u0026#45;\u0026gt;1490542254792 --\u003e\n",
              "\u003cg class\u003d\"edge\" id\u003d\"edge5\"\u003e\u003ctitle\u003e1491088664392-\u0026gt;1490542254792\u003c/title\u003e\n",
              "\u003cpath d\u003d\"M194.872,-498.366C196.512,-490.062 198.411,-480.451 200.192,-471.434\" fill\u003d\"none\" stroke\u003d\"black\"/\u003e\n",
              "\u003cpolygon fill\u003d\"black\" points\u003d\"203.629,-472.096 202.133,-461.607 196.762,-470.739 203.629,-472.096\" stroke\u003d\"black\"/\u003e\n",
              "\u003c/g\u003e\n",
              "\u003c!-- 1490533032176 --\u003e\n",
              "\u003cg class\u003d\"node\" id\u003d\"node8\"\u003e\u003ctitle\u003e1490533032176\u003c/title\u003e\n",
              "\u003cpolygon fill\u003d\"none\" points\u003d\"360.5,-415.5 360.5,-461.5 616.5,-461.5 616.5,-415.5 360.5,-415.5\" stroke\u003d\"black\"/\u003e\n",
              "\u003ctext font-family\u003d\"Times New Roman,serif\" font-size\u003d\"14.00\" text-anchor\u003d\"middle\" x\u003d\"425.5\" y\u003d\"-434.8\"\u003edropout_2: Dropout\u003c/text\u003e\n",
              "\u003cpolyline fill\u003d\"none\" points\u003d\"490.5,-415.5 490.5,-461.5 \" stroke\u003d\"black\"/\u003e\n",
              "\u003ctext font-family\u003d\"Times New Roman,serif\" font-size\u003d\"14.00\" text-anchor\u003d\"middle\" x\u003d\"518.5\" y\u003d\"-446.3\"\u003einput:\u003c/text\u003e\n",
              "\u003cpolyline fill\u003d\"none\" points\u003d\"490.5,-438.5 546.5,-438.5 \" stroke\u003d\"black\"/\u003e\n",
              "\u003ctext font-family\u003d\"Times New Roman,serif\" font-size\u003d\"14.00\" text-anchor\u003d\"middle\" x\u003d\"518.5\" y\u003d\"-423.3\"\u003eoutput:\u003c/text\u003e\n",
              "\u003cpolyline fill\u003d\"none\" points\u003d\"546.5,-415.5 546.5,-461.5 \" stroke\u003d\"black\"/\u003e\n",
              "\u003ctext font-family\u003d\"Times New Roman,serif\" font-size\u003d\"14.00\" text-anchor\u003d\"middle\" x\u003d\"581.5\" y\u003d\"-446.3\"\u003e(None, 5)\u003c/text\u003e\n",
              "\u003cpolyline fill\u003d\"none\" points\u003d\"546.5,-438.5 616.5,-438.5 \" stroke\u003d\"black\"/\u003e\n",
              "\u003ctext font-family\u003d\"Times New Roman,serif\" font-size\u003d\"14.00\" text-anchor\u003d\"middle\" x\u003d\"581.5\" y\u003d\"-423.3\"\u003e(None, 5)\u003c/text\u003e\n",
              "\u003c/g\u003e\n",
              "\u003c!-- 1490533035312\u0026#45;\u0026gt;1490533032176 --\u003e\n",
              "\u003cg class\u003d\"edge\" id\u003d\"edge6\"\u003e\u003ctitle\u003e1490533035312-\u0026gt;1490533032176\u003c/title\u003e\n",
              "\u003cpath d\u003d\"M495.041,-498.366C494.128,-490.152 493.073,-480.658 492.081,-471.725\" fill\u003d\"none\" stroke\u003d\"black\"/\u003e\n",
              "\u003cpolygon fill\u003d\"black\" points\u003d\"495.539,-471.159 490.956,-461.607 488.582,-471.932 495.539,-471.159\" stroke\u003d\"black\"/\u003e\n",
              "\u003c/g\u003e\n",
              "\u003c!-- 1491085348536 --\u003e\n",
              "\u003cg class\u003d\"node\" id\u003d\"node9\"\u003e\u003ctitle\u003e1491085348536\u003c/title\u003e\n",
              "\u003cpolygon fill\u003d\"none\" points\u003d\"163,-332.5 163,-378.5 532,-378.5 532,-332.5 163,-332.5\" stroke\u003d\"black\"/\u003e\n",
              "\u003ctext font-family\u003d\"Times New Roman,serif\" font-size\u003d\"14.00\" text-anchor\u003d\"middle\" x\u003d\"249.5\" y\u003d\"-351.8\"\u003econcatenate_1: Concatenate\u003c/text\u003e\n",
              "\u003cpolyline fill\u003d\"none\" points\u003d\"336,-332.5 336,-378.5 \" stroke\u003d\"black\"/\u003e\n",
              "\u003ctext font-family\u003d\"Times New Roman,serif\" font-size\u003d\"14.00\" text-anchor\u003d\"middle\" x\u003d\"364\" y\u003d\"-363.3\"\u003einput:\u003c/text\u003e\n",
              "\u003cpolyline fill\u003d\"none\" points\u003d\"336,-355.5 392,-355.5 \" stroke\u003d\"black\"/\u003e\n",
              "\u003ctext font-family\u003d\"Times New Roman,serif\" font-size\u003d\"14.00\" text-anchor\u003d\"middle\" x\u003d\"364\" y\u003d\"-340.3\"\u003eoutput:\u003c/text\u003e\n",
              "\u003cpolyline fill\u003d\"none\" points\u003d\"392,-332.5 392,-378.5 \" stroke\u003d\"black\"/\u003e\n",
              "\u003ctext font-family\u003d\"Times New Roman,serif\" font-size\u003d\"14.00\" text-anchor\u003d\"middle\" x\u003d\"462\" y\u003d\"-363.3\"\u003e[(None, 8), (None, 5)]\u003c/text\u003e\n",
              "\u003cpolyline fill\u003d\"none\" points\u003d\"392,-355.5 532,-355.5 \" stroke\u003d\"black\"/\u003e\n",
              "\u003ctext font-family\u003d\"Times New Roman,serif\" font-size\u003d\"14.00\" text-anchor\u003d\"middle\" x\u003d\"462\" y\u003d\"-340.3\"\u003e(None, 13)\u003c/text\u003e\n",
              "\u003c/g\u003e\n",
              "\u003c!-- 1490542254792\u0026#45;\u0026gt;1491085348536 --\u003e\n",
              "\u003cg class\u003d\"edge\" id\u003d\"edge7\"\u003e\u003ctitle\u003e1490542254792-\u0026gt;1491085348536\u003c/title\u003e\n",
              "\u003cpath d\u003d\"M245.029,-415.366C261.971,-405.634 282.038,-394.106 299.904,-383.842\" fill\u003d\"none\" stroke\u003d\"black\"/\u003e\n",
              "\u003cpolygon fill\u003d\"black\" points\u003d\"302.09,-386.623 309.018,-378.607 298.603,-380.553 302.09,-386.623\" stroke\u003d\"black\"/\u003e\n",
              "\u003c/g\u003e\n",
              "\u003c!-- 1490533032176\u0026#45;\u0026gt;1491085348536 --\u003e\n",
              "\u003cg class\u003d\"edge\" id\u003d\"edge8\"\u003e\u003ctitle\u003e1490533032176-\u0026gt;1491085348536\u003c/title\u003e\n",
              "\u003cpath d\u003d\"M449.971,-415.366C433.029,-405.634 412.962,-394.106 395.096,-383.842\" fill\u003d\"none\" stroke\u003d\"black\"/\u003e\n",
              "\u003cpolygon fill\u003d\"black\" points\u003d\"396.397,-380.553 385.982,-378.607 392.91,-386.623 396.397,-380.553\" stroke\u003d\"black\"/\u003e\n",
              "\u003c/g\u003e\n",
              "\u003c!-- 1491085404480 --\u003e\n",
              "\u003cg class\u003d\"node\" id\u003d\"node10\"\u003e\u003ctitle\u003e1491085404480\u003c/title\u003e\n",
              "\u003cpolygon fill\u003d\"none\" points\u003d\"199,-249.5 199,-295.5 496,-295.5 496,-249.5 199,-249.5\" stroke\u003d\"black\"/\u003e\n",
              "\u003ctext font-family\u003d\"Times New Roman,serif\" font-size\u003d\"14.00\" text-anchor\u003d\"middle\" x\u003d\"278\" y\u003d\"-268.8\"\u003eFullyConnected-1: Dense\u003c/text\u003e\n",
              "\u003cpolyline fill\u003d\"none\" points\u003d\"357,-249.5 357,-295.5 \" stroke\u003d\"black\"/\u003e\n",
              "\u003ctext font-family\u003d\"Times New Roman,serif\" font-size\u003d\"14.00\" text-anchor\u003d\"middle\" x\u003d\"385\" y\u003d\"-280.3\"\u003einput:\u003c/text\u003e\n",
              "\u003cpolyline fill\u003d\"none\" points\u003d\"357,-272.5 413,-272.5 \" stroke\u003d\"black\"/\u003e\n",
              "\u003ctext font-family\u003d\"Times New Roman,serif\" font-size\u003d\"14.00\" text-anchor\u003d\"middle\" x\u003d\"385\" y\u003d\"-257.3\"\u003eoutput:\u003c/text\u003e\n",
              "\u003cpolyline fill\u003d\"none\" points\u003d\"413,-249.5 413,-295.5 \" stroke\u003d\"black\"/\u003e\n",
              "\u003ctext font-family\u003d\"Times New Roman,serif\" font-size\u003d\"14.00\" text-anchor\u003d\"middle\" x\u003d\"454.5\" y\u003d\"-280.3\"\u003e(None, 13)\u003c/text\u003e\n",
              "\u003cpolyline fill\u003d\"none\" points\u003d\"413,-272.5 496,-272.5 \" stroke\u003d\"black\"/\u003e\n",
              "\u003ctext font-family\u003d\"Times New Roman,serif\" font-size\u003d\"14.00\" text-anchor\u003d\"middle\" x\u003d\"454.5\" y\u003d\"-257.3\"\u003e(None, 100)\u003c/text\u003e\n",
              "\u003c/g\u003e\n",
              "\u003c!-- 1491085348536\u0026#45;\u0026gt;1491085404480 --\u003e\n",
              "\u003cg class\u003d\"edge\" id\u003d\"edge9\"\u003e\u003ctitle\u003e1491085348536-\u0026gt;1491085404480\u003c/title\u003e\n",
              "\u003cpath d\u003d\"M347.5,-332.366C347.5,-324.152 347.5,-314.658 347.5,-305.725\" fill\u003d\"none\" stroke\u003d\"black\"/\u003e\n",
              "\u003cpolygon fill\u003d\"black\" points\u003d\"351,-305.607 347.5,-295.607 344,-305.607 351,-305.607\" stroke\u003d\"black\"/\u003e\n",
              "\u003c/g\u003e\n",
              "\u003c!-- 1491089624480 --\u003e\n",
              "\u003cg class\u003d\"node\" id\u003d\"node11\"\u003e\u003ctitle\u003e1491089624480\u003c/title\u003e\n",
              "\u003cpolygon fill\u003d\"none\" points\u003d\"199,-166.5 199,-212.5 496,-212.5 496,-166.5 199,-166.5\" stroke\u003d\"black\"/\u003e\n",
              "\u003ctext font-family\u003d\"Times New Roman,serif\" font-size\u003d\"14.00\" text-anchor\u003d\"middle\" x\u003d\"278\" y\u003d\"-185.8\"\u003eFullyConnected-2: Dense\u003c/text\u003e\n",
              "\u003cpolyline fill\u003d\"none\" points\u003d\"357,-166.5 357,-212.5 \" stroke\u003d\"black\"/\u003e\n",
              "\u003ctext font-family\u003d\"Times New Roman,serif\" font-size\u003d\"14.00\" text-anchor\u003d\"middle\" x\u003d\"385\" y\u003d\"-197.3\"\u003einput:\u003c/text\u003e\n",
              "\u003cpolyline fill\u003d\"none\" points\u003d\"357,-189.5 413,-189.5 \" stroke\u003d\"black\"/\u003e\n",
              "\u003ctext font-family\u003d\"Times New Roman,serif\" font-size\u003d\"14.00\" text-anchor\u003d\"middle\" x\u003d\"385\" y\u003d\"-174.3\"\u003eoutput:\u003c/text\u003e\n",
              "\u003cpolyline fill\u003d\"none\" points\u003d\"413,-166.5 413,-212.5 \" stroke\u003d\"black\"/\u003e\n",
              "\u003ctext font-family\u003d\"Times New Roman,serif\" font-size\u003d\"14.00\" text-anchor\u003d\"middle\" x\u003d\"454.5\" y\u003d\"-197.3\"\u003e(None, 100)\u003c/text\u003e\n",
              "\u003cpolyline fill\u003d\"none\" points\u003d\"413,-189.5 496,-189.5 \" stroke\u003d\"black\"/\u003e\n",
              "\u003ctext font-family\u003d\"Times New Roman,serif\" font-size\u003d\"14.00\" text-anchor\u003d\"middle\" x\u003d\"454.5\" y\u003d\"-174.3\"\u003e(None, 50)\u003c/text\u003e\n",
              "\u003c/g\u003e\n",
              "\u003c!-- 1491085404480\u0026#45;\u0026gt;1491089624480 --\u003e\n",
              "\u003cg class\u003d\"edge\" id\u003d\"edge10\"\u003e\u003ctitle\u003e1491085404480-\u0026gt;1491089624480\u003c/title\u003e\n",
              "\u003cpath d\u003d\"M347.5,-249.366C347.5,-241.152 347.5,-231.658 347.5,-222.725\" fill\u003d\"none\" stroke\u003d\"black\"/\u003e\n",
              "\u003cpolygon fill\u003d\"black\" points\u003d\"351,-222.607 347.5,-212.607 344,-222.607 351,-222.607\" stroke\u003d\"black\"/\u003e\n",
              "\u003c/g\u003e\n",
              "\u003c!-- 1492452912376 --\u003e\n",
              "\u003cg class\u003d\"node\" id\u003d\"node12\"\u003e\u003ctitle\u003e1492452912376\u003c/title\u003e\n",
              "\u003cpolygon fill\u003d\"none\" points\u003d\"202,-83.5 202,-129.5 493,-129.5 493,-83.5 202,-83.5\" stroke\u003d\"black\"/\u003e\n",
              "\u003ctext font-family\u003d\"Times New Roman,serif\" font-size\u003d\"14.00\" text-anchor\u003d\"middle\" x\u003d\"281\" y\u003d\"-102.8\"\u003eFullyConnected-3: Dense\u003c/text\u003e\n",
              "\u003cpolyline fill\u003d\"none\" points\u003d\"360,-83.5 360,-129.5 \" stroke\u003d\"black\"/\u003e\n",
              "\u003ctext font-family\u003d\"Times New Roman,serif\" font-size\u003d\"14.00\" text-anchor\u003d\"middle\" x\u003d\"388\" y\u003d\"-114.3\"\u003einput:\u003c/text\u003e\n",
              "\u003cpolyline fill\u003d\"none\" points\u003d\"360,-106.5 416,-106.5 \" stroke\u003d\"black\"/\u003e\n",
              "\u003ctext font-family\u003d\"Times New Roman,serif\" font-size\u003d\"14.00\" text-anchor\u003d\"middle\" x\u003d\"388\" y\u003d\"-91.3\"\u003eoutput:\u003c/text\u003e\n",
              "\u003cpolyline fill\u003d\"none\" points\u003d\"416,-83.5 416,-129.5 \" stroke\u003d\"black\"/\u003e\n",
              "\u003ctext font-family\u003d\"Times New Roman,serif\" font-size\u003d\"14.00\" text-anchor\u003d\"middle\" x\u003d\"454.5\" y\u003d\"-114.3\"\u003e(None, 50)\u003c/text\u003e\n",
              "\u003cpolyline fill\u003d\"none\" points\u003d\"416,-106.5 493,-106.5 \" stroke\u003d\"black\"/\u003e\n",
              "\u003ctext font-family\u003d\"Times New Roman,serif\" font-size\u003d\"14.00\" text-anchor\u003d\"middle\" x\u003d\"454.5\" y\u003d\"-91.3\"\u003e(None, 20)\u003c/text\u003e\n",
              "\u003c/g\u003e\n",
              "\u003c!-- 1491089624480\u0026#45;\u0026gt;1492452912376 --\u003e\n",
              "\u003cg class\u003d\"edge\" id\u003d\"edge11\"\u003e\u003ctitle\u003e1491089624480-\u0026gt;1492452912376\u003c/title\u003e\n",
              "\u003cpath d\u003d\"M347.5,-166.366C347.5,-158.152 347.5,-148.658 347.5,-139.725\" fill\u003d\"none\" stroke\u003d\"black\"/\u003e\n",
              "\u003cpolygon fill\u003d\"black\" points\u003d\"351,-139.607 347.5,-129.607 344,-139.607 351,-139.607\" stroke\u003d\"black\"/\u003e\n",
              "\u003c/g\u003e\n",
              "\u003c!-- 1492452911648 --\u003e\n",
              "\u003cg class\u003d\"node\" id\u003d\"node13\"\u003e\u003ctitle\u003e1492452911648\u003c/title\u003e\n",
              "\u003cpolygon fill\u003d\"none\" points\u003d\"223.5,-0.5 223.5,-46.5 471.5,-46.5 471.5,-0.5 223.5,-0.5\" stroke\u003d\"black\"/\u003e\n",
              "\u003ctext font-family\u003d\"Times New Roman,serif\" font-size\u003d\"14.00\" text-anchor\u003d\"middle\" x\u003d\"281\" y\u003d\"-19.8\"\u003eActivation: Dense\u003c/text\u003e\n",
              "\u003cpolyline fill\u003d\"none\" points\u003d\"338.5,-0.5 338.5,-46.5 \" stroke\u003d\"black\"/\u003e\n",
              "\u003ctext font-family\u003d\"Times New Roman,serif\" font-size\u003d\"14.00\" text-anchor\u003d\"middle\" x\u003d\"366.5\" y\u003d\"-31.3\"\u003einput:\u003c/text\u003e\n",
              "\u003cpolyline fill\u003d\"none\" points\u003d\"338.5,-23.5 394.5,-23.5 \" stroke\u003d\"black\"/\u003e\n",
              "\u003ctext font-family\u003d\"Times New Roman,serif\" font-size\u003d\"14.00\" text-anchor\u003d\"middle\" x\u003d\"366.5\" y\u003d\"-8.3\"\u003eoutput:\u003c/text\u003e\n",
              "\u003cpolyline fill\u003d\"none\" points\u003d\"394.5,-0.5 394.5,-46.5 \" stroke\u003d\"black\"/\u003e\n",
              "\u003ctext font-family\u003d\"Times New Roman,serif\" font-size\u003d\"14.00\" text-anchor\u003d\"middle\" x\u003d\"433\" y\u003d\"-31.3\"\u003e(None, 20)\u003c/text\u003e\n",
              "\u003cpolyline fill\u003d\"none\" points\u003d\"394.5,-23.5 471.5,-23.5 \" stroke\u003d\"black\"/\u003e\n",
              "\u003ctext font-family\u003d\"Times New Roman,serif\" font-size\u003d\"14.00\" text-anchor\u003d\"middle\" x\u003d\"433\" y\u003d\"-8.3\"\u003e(None, 1)\u003c/text\u003e\n",
              "\u003c/g\u003e\n",
              "\u003c!-- 1492452912376\u0026#45;\u0026gt;1492452911648 --\u003e\n",
              "\u003cg class\u003d\"edge\" id\u003d\"edge12\"\u003e\u003ctitle\u003e1492452912376-\u0026gt;1492452911648\u003c/title\u003e\n",
              "\u003cpath d\u003d\"M347.5,-83.3664C347.5,-75.1516 347.5,-65.6579 347.5,-56.7252\" fill\u003d\"none\" stroke\u003d\"black\"/\u003e\n",
              "\u003cpolygon fill\u003d\"black\" points\u003d\"351,-56.6068 347.5,-46.6068 344,-56.6069 351,-56.6068\" stroke\u003d\"black\"/\u003e\n",
              "\u003c/g\u003e\n",
              "\u003c/g\u003e\n",
              "\u003c/svg\u003e"
            ],
            "text/plain": [
              "\u003cIPython.core.display.SVG object\u003e"
            ]
          },
          "execution_count": 8,
          "metadata": {},
          "output_type": "execute_result"
        }
      ],
      "source": [
        "n_latent_factors_user \u003d 5\n",
        "n_latent_factors_movie \u003d 8\n",
        "\n",
        "movie_input \u003d keras.layers.Input(shape\u003d[1],name\u003d\u0027Movie\u0027)\n",
        "movie_embedding \u003d keras.layers.Embedding(n_movies + 1, n_latent_factors_movie, name\u003d\u0027Movie-Embedding\u0027)(movie_input)\n",
        "movie_vec \u003d keras.layers.Flatten(name\u003d\u0027FlattenMovies\u0027)(movie_embedding)\n",
        "movie_vec \u003d keras.layers.Dropout(0.5)(movie_vec)\n",
        "\n",
        "\n",
        "user_input \u003d keras.layers.Input(shape\u003d[1],name\u003d\u0027User\u0027)\n",
        "user_vec \u003d keras.layers.Flatten(name\u003d\u0027FlattenUsers\u0027)(keras.layers.Embedding(n_users + 1, n_latent_factors_user,name\u003d\u0027User-Embedding\u0027)(user_input))\n",
        "user_vec \u003d keras.layers.Dropout(0.5)(user_vec)\n",
        "\n",
        "\n",
        "concat \u003d keras.layers.concatenate([movie_vec, user_vec])\n",
        "concat_dropout \u003d keras.layers.Dropout(0.2)(concat)\n",
        "dense \u003d keras.layers.Dense(200,name\u003d\u0027FullyConnected\u0027)(concat)\n",
        "dropout_1 \u003d keras.layers.Dropout(0.2,name\u003d\u0027Dropout\u0027)(dense)\n",
        "dense_2 \u003d keras.layers.Dense(100,name\u003d\u0027FullyConnected-1\u0027)(concat)\n",
        "dropout_2 \u003d keras.layers.Dropout(0.2,name\u003d\u0027Dropout\u0027)(dense_2)\n",
        "dense_3 \u003d keras.layers.Dense(50,name\u003d\u0027FullyConnected-2\u0027)(dense_2)\n",
        "dropout_3 \u003d keras.layers.Dropout(0.2,name\u003d\u0027Dropout\u0027)(dense_3)\n",
        "dense_4 \u003d keras.layers.Dense(20,name\u003d\u0027FullyConnected-3\u0027, activation\u003d\u0027relu\u0027)(dense_3)\n",
        "\n",
        "\n",
        "result \u003d keras.layers.Dense(1, activation\u003d\u0027relu\u0027,name\u003d\u0027Activation\u0027)(dense_4)\n",
        "model \u003d keras.Model([user_input, movie_input], result)\n",
        "model.compile(optimizer\u003dAdam(lr\u003d0.001),loss\u003d \u0027mean_absolute_error\u0027)\n",
        "\n",
        "#visualize model\n",
        "SVG(model_to_dot(model,  show_shapes\u003dTrue, rankdir\u003d\u0027HB\u0027).create(prog\u003d\u0027dot\u0027, format\u003d\u0027svg\u0027))"
      ]
    },
    {
      "cell_type": "code",
      "execution_count": 9,
      "metadata": {
        "pycharm": {
          "is_executing": false,
          "metadata": false,
          "name": "#%%\n"
        }
      },
      "outputs": [
        {
          "data": {
            "text/plain": [
              "Text(0, 0.5, \u0027Train Error\u0027)"
            ]
          },
          "execution_count": 9,
          "metadata": {},
          "output_type": "execute_result"
        },
        {
          "data": {
            "image/png": "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\u003d\u003d\n",
            "text/plain": [
              "\u003cFigure size 432x288 with 1 Axes\u003e"
            ]
          },
          "metadata": {
            "needs_background": "light"
          },
          "output_type": "display_data"
        }
      ],
      "source": [
        "history \u003d model.fit([train[\u0027userId\u0027], train[\u0027movieId\u0027]], train.rating,batch_size\u003d256, epochs\u003d100, verbose\u003d0)\n",
        "pd.Series(history.history[\u0027loss\u0027]).plot()\n",
        "plt.xlabel(\"Epoch\")\n",
        "plt.ylabel(\"Train Error\")"
      ]
    },
    {
      "cell_type": "code",
      "execution_count": 10,
      "metadata": {
        "pycharm": {
          "is_executing": false,
          "metadata": false,
          "name": "#%%\n"
        }
      },
      "outputs": [
        {
          "name": "stdout",
          "output_type": "stream",
          "text": [
            "MAE: 0.674049725422827\n",
            "RMSE: 0.9079586447065845\n"
          ]
        }
      ],
      "source": [
        "y_hat \u003d model.predict([test.userId, test.movieId])\n",
        "y_true \u003d test.rating\n",
        "\n",
        "print(\"MAE:\",mean_absolute_error(y_true,y_hat))\n",
        "print(\"RMSE:\",sqrt(mean_squared_error(y_true, y_hat)))"
      ]
    },
    {
      "cell_type": "markdown",
      "metadata": {
        "pycharm": {
          "is_executing": false,
          "name": "#%% md\n"
        }
      },
      "source": "# Adding Genre data to the network\n\u003cbr\u003e\nCreate one-hot encoding for Genres\n"
    },
    {
      "cell_type": "code",
      "execution_count": 11,
      "metadata": {
        "pycharm": {
          "is_executing": false,
          "metadata": false,
          "name": "#%%\n"
        }
      },
      "outputs": [
        {
          "name": "stdout",
          "output_type": "stream",
          "text": [
            "   userId  movieId  rating             title  \\\n",
            "0       0        0     4.0  Toy Story (1995)   \n",
            "1       4        0     4.0  Toy Story (1995)   \n",
            "2       6        0     4.5  Toy Story (1995)   \n",
            "3      14        0     2.5  Toy Story (1995)   \n",
            "4      16        0     4.5  Toy Story (1995)   \n",
            "\n",
            "                                              genres  \n",
            "0  [Adventure, Animation, Children, Comedy, Fantasy]  \n",
            "1  [Adventure, Animation, Children, Comedy, Fantasy]  \n",
            "2  [Adventure, Animation, Children, Comedy, Fantasy]  \n",
            "3  [Adventure, Animation, Children, Comedy, Fantasy]  \n",
            "4  [Adventure, Animation, Children, Comedy, Fantasy]  \n",
            "(100836, 20)\n"
          ]
        }
      ],
      "source": [
        "ratings[\u0027genres\u0027] \u003d ratings.genres.apply(lambda x: x.split(\"|\"))\n",
        "movies[\u0027genres\u0027] \u003d movies.genres.apply(lambda x: x.split(\"|\"))\n",
        "\n",
        "one_hot \u003d MultiLabelBinarizer()\n",
        "one_hot.fit(movies[\u0027genres\u0027])\n",
        "genres \u003d one_hot.transform(ratings[\u0027genres\u0027])\n",
        "print(ratings.head())\n",
        "print(genres.shape)"
      ]
    },
    {
      "cell_type": "markdown",
      "metadata": {
        "pycharm": {
          "is_executing": false,
          "metadata": false,
          "name": "#%% md\n"
        }
      },
      "source": [
        "The total genres that the encoder used were 20. \u003cbr\u003e\n",
        "With this way we generate a (n_movies, 20) matrix having ones on genres that a specific movie has."
      ]
    },
    {
      "cell_type": "markdown",
      "metadata": {
        "pycharm": {
          "metadata": false,
          "name": "#%% md\n"
        }
      },
      "source": [
        "Split the dataset taking into consideration that we also need to split the genres array"
      ]
    },
    {
      "cell_type": "code",
      "execution_count": 12,
      "metadata": {
        "pycharm": {
          "metadata": false,
          "name": "#%%\n"
        }
      },
      "outputs": [],
      "source": [
        "train, test ,genres_train, genres_test \u003d train_test_split(ratings,genres, test_size\u003d0.05)\n"
      ]
    },
    {
      "cell_type": "code",
      "execution_count": 13,
      "metadata": {
        "pycharm": {
          "is_executing": false,
          "metadata": false,
          "name": "#%% \n"
        }
      },
      "outputs": [
        {
          "data": {
            "image/svg+xml": [
              "\u003csvg height\u003d\"719pt\" viewBox\u003d\"0.00 0.00 873.00 719.00\" width\u003d\"873pt\" xmlns\u003d\"http://www.w3.org/2000/svg\" xmlns:xlink\u003d\"http://www.w3.org/1999/xlink\"\u003e\n",
              "\u003cg class\u003d\"graph\" id\u003d\"graph0\" transform\u003d\"scale(1 1) rotate(0) translate(4 715)\"\u003e\n",
              "\u003ctitle\u003eG\u003c/title\u003e\n",
              "\u003cpolygon fill\u003d\"white\" points\u003d\"-4,4 -4,-715 869,-715 869,4 -4,4\" stroke\u003d\"none\"/\u003e\n",
              "\u003c!-- 1491088302656 --\u003e\n",
              "\u003cg class\u003d\"node\" id\u003d\"node1\"\u003e\u003ctitle\u003e1491088302656\u003c/title\u003e\n",
              "\u003cpolygon fill\u003d\"none\" points\u003d\"43,-664.5 43,-710.5 288,-710.5 288,-664.5 43,-664.5\" stroke\u003d\"black\"/\u003e\n",
              "\u003ctext font-family\u003d\"Times New Roman,serif\" font-size\u003d\"14.00\" text-anchor\u003d\"middle\" x\u003d\"102.5\" y\u003d\"-683.8\"\u003eMovie: InputLayer\u003c/text\u003e\n",
              "\u003cpolyline fill\u003d\"none\" points\u003d\"162,-664.5 162,-710.5 \" stroke\u003d\"black\"/\u003e\n",
              "\u003ctext font-family\u003d\"Times New Roman,serif\" font-size\u003d\"14.00\" text-anchor\u003d\"middle\" x\u003d\"190\" y\u003d\"-695.3\"\u003einput:\u003c/text\u003e\n",
              "\u003cpolyline fill\u003d\"none\" points\u003d\"162,-687.5 218,-687.5 \" stroke\u003d\"black\"/\u003e\n",
              "\u003ctext font-family\u003d\"Times New Roman,serif\" font-size\u003d\"14.00\" text-anchor\u003d\"middle\" x\u003d\"190\" y\u003d\"-672.3\"\u003eoutput:\u003c/text\u003e\n",
              "\u003cpolyline fill\u003d\"none\" points\u003d\"218,-664.5 218,-710.5 \" stroke\u003d\"black\"/\u003e\n",
              "\u003ctext font-family\u003d\"Times New Roman,serif\" font-size\u003d\"14.00\" text-anchor\u003d\"middle\" x\u003d\"253\" y\u003d\"-695.3\"\u003e(None, 1)\u003c/text\u003e\n",
              "\u003cpolyline fill\u003d\"none\" points\u003d\"218,-687.5 288,-687.5 \" stroke\u003d\"black\"/\u003e\n",
              "\u003ctext font-family\u003d\"Times New Roman,serif\" font-size\u003d\"14.00\" text-anchor\u003d\"middle\" x\u003d\"253\" y\u003d\"-672.3\"\u003e(None, 1)\u003c/text\u003e\n",
              "\u003c/g\u003e\n",
              "\u003c!-- 1491088302768 --\u003e\n",
              "\u003cg class\u003d\"node\" id\u003d\"node3\"\u003e\u003ctitle\u003e1491088302768\u003c/title\u003e\n",
              "\u003cpolygon fill\u003d\"none\" points\u003d\"0,-581.5 0,-627.5 331,-627.5 331,-581.5 0,-581.5\" stroke\u003d\"black\"/\u003e\n",
              "\u003ctext font-family\u003d\"Times New Roman,serif\" font-size\u003d\"14.00\" text-anchor\u003d\"middle\" x\u003d\"95.5\" y\u003d\"-600.8\"\u003eMovie-Embedding: Embedding\u003c/text\u003e\n",
              "\u003cpolyline fill\u003d\"none\" points\u003d\"191,-581.5 191,-627.5 \" stroke\u003d\"black\"/\u003e\n",
              "\u003ctext font-family\u003d\"Times New Roman,serif\" font-size\u003d\"14.00\" text-anchor\u003d\"middle\" x\u003d\"219\" y\u003d\"-612.3\"\u003einput:\u003c/text\u003e\n",
              "\u003cpolyline fill\u003d\"none\" points\u003d\"191,-604.5 247,-604.5 \" stroke\u003d\"black\"/\u003e\n",
              "\u003ctext font-family\u003d\"Times New Roman,serif\" font-size\u003d\"14.00\" text-anchor\u003d\"middle\" x\u003d\"219\" y\u003d\"-589.3\"\u003eoutput:\u003c/text\u003e\n",
              "\u003cpolyline fill\u003d\"none\" points\u003d\"247,-581.5 247,-627.5 \" stroke\u003d\"black\"/\u003e\n",
              "\u003ctext font-family\u003d\"Times New Roman,serif\" font-size\u003d\"14.00\" text-anchor\u003d\"middle\" x\u003d\"289\" y\u003d\"-612.3\"\u003e(None, 1)\u003c/text\u003e\n",
              "\u003cpolyline fill\u003d\"none\" points\u003d\"247,-604.5 331,-604.5 \" stroke\u003d\"black\"/\u003e\n",
              "\u003ctext font-family\u003d\"Times New Roman,serif\" font-size\u003d\"14.00\" text-anchor\u003d\"middle\" x\u003d\"289\" y\u003d\"-589.3\"\u003e(None, 1, 8)\u003c/text\u003e\n",
              "\u003c/g\u003e\n",
              "\u003c!-- 1491088302656\u0026#45;\u0026gt;1491088302768 --\u003e\n",
              "\u003cg class\u003d\"edge\" id\u003d\"edge1\"\u003e\u003ctitle\u003e1491088302656-\u0026gt;1491088302768\u003c/title\u003e\n",
              "\u003cpath d\u003d\"M165.5,-664.366C165.5,-656.152 165.5,-646.658 165.5,-637.725\" fill\u003d\"none\" stroke\u003d\"black\"/\u003e\n",
              "\u003cpolygon fill\u003d\"black\" points\u003d\"169,-637.607 165.5,-627.607 162,-637.607 169,-637.607\" stroke\u003d\"black\"/\u003e\n",
              "\u003c/g\u003e\n",
              "\u003c!-- 1491088303496 --\u003e\n",
              "\u003cg class\u003d\"node\" id\u003d\"node2\"\u003e\u003ctitle\u003e1491088303496\u003c/title\u003e\n",
              "\u003cpolygon fill\u003d\"none\" points\u003d\"392.5,-664.5 392.5,-710.5 628.5,-710.5 628.5,-664.5 392.5,-664.5\" stroke\u003d\"black\"/\u003e\n",
              "\u003ctext font-family\u003d\"Times New Roman,serif\" font-size\u003d\"14.00\" text-anchor\u003d\"middle\" x\u003d\"447.5\" y\u003d\"-683.8\"\u003eUser: InputLayer\u003c/text\u003e\n",
              "\u003cpolyline fill\u003d\"none\" points\u003d\"502.5,-664.5 502.5,-710.5 \" stroke\u003d\"black\"/\u003e\n",
              "\u003ctext font-family\u003d\"Times New Roman,serif\" font-size\u003d\"14.00\" text-anchor\u003d\"middle\" x\u003d\"530.5\" y\u003d\"-695.3\"\u003einput:\u003c/text\u003e\n",
              "\u003cpolyline fill\u003d\"none\" points\u003d\"502.5,-687.5 558.5,-687.5 \" stroke\u003d\"black\"/\u003e\n",
              "\u003ctext font-family\u003d\"Times New Roman,serif\" font-size\u003d\"14.00\" text-anchor\u003d\"middle\" x\u003d\"530.5\" y\u003d\"-672.3\"\u003eoutput:\u003c/text\u003e\n",
              "\u003cpolyline fill\u003d\"none\" points\u003d\"558.5,-664.5 558.5,-710.5 \" stroke\u003d\"black\"/\u003e\n",
              "\u003ctext font-family\u003d\"Times New Roman,serif\" font-size\u003d\"14.00\" text-anchor\u003d\"middle\" x\u003d\"593.5\" y\u003d\"-695.3\"\u003e(None, 1)\u003c/text\u003e\n",
              "\u003cpolyline fill\u003d\"none\" points\u003d\"558.5,-687.5 628.5,-687.5 \" stroke\u003d\"black\"/\u003e\n",
              "\u003ctext font-family\u003d\"Times New Roman,serif\" font-size\u003d\"14.00\" text-anchor\u003d\"middle\" x\u003d\"593.5\" y\u003d\"-672.3\"\u003e(None, 1)\u003c/text\u003e\n",
              "\u003c/g\u003e\n",
              "\u003c!-- 1491088303608 --\u003e\n",
              "\u003cg class\u003d\"node\" id\u003d\"node4\"\u003e\u003ctitle\u003e1491088303608\u003c/title\u003e\n",
              "\u003cpolygon fill\u003d\"none\" points\u003d\"349.5,-581.5 349.5,-627.5 671.5,-627.5 671.5,-581.5 349.5,-581.5\" stroke\u003d\"black\"/\u003e\n",
              "\u003ctext font-family\u003d\"Times New Roman,serif\" font-size\u003d\"14.00\" text-anchor\u003d\"middle\" x\u003d\"440.5\" y\u003d\"-600.8\"\u003eUser-Embedding: Embedding\u003c/text\u003e\n",
              "\u003cpolyline fill\u003d\"none\" points\u003d\"531.5,-581.5 531.5,-627.5 \" stroke\u003d\"black\"/\u003e\n",
              "\u003ctext font-family\u003d\"Times New Roman,serif\" font-size\u003d\"14.00\" text-anchor\u003d\"middle\" x\u003d\"559.5\" y\u003d\"-612.3\"\u003einput:\u003c/text\u003e\n",
              "\u003cpolyline fill\u003d\"none\" points\u003d\"531.5,-604.5 587.5,-604.5 \" stroke\u003d\"black\"/\u003e\n",
              "\u003ctext font-family\u003d\"Times New Roman,serif\" font-size\u003d\"14.00\" text-anchor\u003d\"middle\" x\u003d\"559.5\" y\u003d\"-589.3\"\u003eoutput:\u003c/text\u003e\n",
              "\u003cpolyline fill\u003d\"none\" points\u003d\"587.5,-581.5 587.5,-627.5 \" stroke\u003d\"black\"/\u003e\n",
              "\u003ctext font-family\u003d\"Times New Roman,serif\" font-size\u003d\"14.00\" text-anchor\u003d\"middle\" x\u003d\"629.5\" y\u003d\"-612.3\"\u003e(None, 1)\u003c/text\u003e\n",
              "\u003cpolyline fill\u003d\"none\" points\u003d\"587.5,-604.5 671.5,-604.5 \" stroke\u003d\"black\"/\u003e\n",
              "\u003ctext font-family\u003d\"Times New Roman,serif\" font-size\u003d\"14.00\" text-anchor\u003d\"middle\" x\u003d\"629.5\" y\u003d\"-589.3\"\u003e(None, 1, 5)\u003c/text\u003e\n",
              "\u003c/g\u003e\n",
              "\u003c!-- 1491088303496\u0026#45;\u0026gt;1491088303608 --\u003e\n",
              "\u003cg class\u003d\"edge\" id\u003d\"edge2\"\u003e\u003ctitle\u003e1491088303496-\u0026gt;1491088303608\u003c/title\u003e\n",
              "\u003cpath d\u003d\"M510.5,-664.366C510.5,-656.152 510.5,-646.658 510.5,-637.725\" fill\u003d\"none\" stroke\u003d\"black\"/\u003e\n",
              "\u003cpolygon fill\u003d\"black\" points\u003d\"514,-637.607 510.5,-627.607 507,-637.607 514,-637.607\" stroke\u003d\"black\"/\u003e\n",
              "\u003c/g\u003e\n",
              "\u003c!-- 1491088303440 --\u003e\n",
              "\u003cg class\u003d\"node\" id\u003d\"node5\"\u003e\u003ctitle\u003e1491088303440\u003c/title\u003e\n",
              "\u003cpolygon fill\u003d\"none\" points\u003d\"38.5,-498.5 38.5,-544.5 318.5,-544.5 318.5,-498.5 38.5,-498.5\" stroke\u003d\"black\"/\u003e\n",
              "\u003ctext font-family\u003d\"Times New Roman,serif\" font-size\u003d\"14.00\" text-anchor\u003d\"middle\" x\u003d\"108.5\" y\u003d\"-517.8\"\u003eFlattenMovies: Flatten\u003c/text\u003e\n",
              "\u003cpolyline fill\u003d\"none\" points\u003d\"178.5,-498.5 178.5,-544.5 \" stroke\u003d\"black\"/\u003e\n",
              "\u003ctext font-family\u003d\"Times New Roman,serif\" font-size\u003d\"14.00\" text-anchor\u003d\"middle\" x\u003d\"206.5\" y\u003d\"-529.3\"\u003einput:\u003c/text\u003e\n",
              "\u003cpolyline fill\u003d\"none\" points\u003d\"178.5,-521.5 234.5,-521.5 \" stroke\u003d\"black\"/\u003e\n",
              "\u003ctext font-family\u003d\"Times New Roman,serif\" font-size\u003d\"14.00\" text-anchor\u003d\"middle\" x\u003d\"206.5\" y\u003d\"-506.3\"\u003eoutput:\u003c/text\u003e\n",
              "\u003cpolyline fill\u003d\"none\" points\u003d\"234.5,-498.5 234.5,-544.5 \" stroke\u003d\"black\"/\u003e\n",
              "\u003ctext font-family\u003d\"Times New Roman,serif\" font-size\u003d\"14.00\" text-anchor\u003d\"middle\" x\u003d\"276.5\" y\u003d\"-529.3\"\u003e(None, 1, 8)\u003c/text\u003e\n",
              "\u003cpolyline fill\u003d\"none\" points\u003d\"234.5,-521.5 318.5,-521.5 \" stroke\u003d\"black\"/\u003e\n",
              "\u003ctext font-family\u003d\"Times New Roman,serif\" font-size\u003d\"14.00\" text-anchor\u003d\"middle\" x\u003d\"276.5\" y\u003d\"-506.3\"\u003e(None, 8)\u003c/text\u003e\n",
              "\u003c/g\u003e\n",
              "\u003c!-- 1491088302768\u0026#45;\u0026gt;1491088303440 --\u003e\n",
              "\u003cg class\u003d\"edge\" id\u003d\"edge3\"\u003e\u003ctitle\u003e1491088302768-\u0026gt;1491088303440\u003c/title\u003e\n",
              "\u003cpath d\u003d\"M169.052,-581.366C170.371,-573.152 171.894,-563.658 173.328,-554.725\" fill\u003d\"none\" stroke\u003d\"black\"/\u003e\n",
              "\u003cpolygon fill\u003d\"black\" points\u003d\"176.823,-555.035 174.952,-544.607 169.911,-553.926 176.823,-555.035\" stroke\u003d\"black\"/\u003e\n",
              "\u003c/g\u003e\n",
              "\u003c!-- 1491088303552 --\u003e\n",
              "\u003cg class\u003d\"node\" id\u003d\"node6\"\u003e\u003ctitle\u003e1491088303552\u003c/title\u003e\n",
              "\u003cpolygon fill\u003d\"none\" points\u003d\"362,-498.5 362,-544.5 633,-544.5 633,-498.5 362,-498.5\" stroke\u003d\"black\"/\u003e\n",
              "\u003ctext font-family\u003d\"Times New Roman,serif\" font-size\u003d\"14.00\" text-anchor\u003d\"middle\" x\u003d\"427.5\" y\u003d\"-517.8\"\u003eFlattenUsers: Flatten\u003c/text\u003e\n",
              "\u003cpolyline fill\u003d\"none\" points\u003d\"493,-498.5 493,-544.5 \" stroke\u003d\"black\"/\u003e\n",
              "\u003ctext font-family\u003d\"Times New Roman,serif\" font-size\u003d\"14.00\" text-anchor\u003d\"middle\" x\u003d\"521\" y\u003d\"-529.3\"\u003einput:\u003c/text\u003e\n",
              "\u003cpolyline fill\u003d\"none\" points\u003d\"493,-521.5 549,-521.5 \" stroke\u003d\"black\"/\u003e\n",
              "\u003ctext font-family\u003d\"Times New Roman,serif\" font-size\u003d\"14.00\" text-anchor\u003d\"middle\" x\u003d\"521\" y\u003d\"-506.3\"\u003eoutput:\u003c/text\u003e\n",
              "\u003cpolyline fill\u003d\"none\" points\u003d\"549,-498.5 549,-544.5 \" stroke\u003d\"black\"/\u003e\n",
              "\u003ctext font-family\u003d\"Times New Roman,serif\" font-size\u003d\"14.00\" text-anchor\u003d\"middle\" x\u003d\"591\" y\u003d\"-529.3\"\u003e(None, 1, 5)\u003c/text\u003e\n",
              "\u003cpolyline fill\u003d\"none\" points\u003d\"549,-521.5 633,-521.5 \" stroke\u003d\"black\"/\u003e\n",
              "\u003ctext font-family\u003d\"Times New Roman,serif\" font-size\u003d\"14.00\" text-anchor\u003d\"middle\" x\u003d\"591\" y\u003d\"-506.3\"\u003e(None, 5)\u003c/text\u003e\n",
              "\u003c/g\u003e\n",
              "\u003c!-- 1491088303608\u0026#45;\u0026gt;1491088303552 --\u003e\n",
              "\u003cg class\u003d\"edge\" id\u003d\"edge4\"\u003e\u003ctitle\u003e1491088303608-\u0026gt;1491088303552\u003c/title\u003e\n",
              "\u003cpath d\u003d\"M506.948,-581.366C505.629,-573.152 504.106,-563.658 502.672,-554.725\" fill\u003d\"none\" stroke\u003d\"black\"/\u003e\n",
              "\u003cpolygon fill\u003d\"black\" points\u003d\"506.089,-553.926 501.048,-544.607 499.177,-555.035 506.089,-553.926\" stroke\u003d\"black\"/\u003e\n",
              "\u003c/g\u003e\n",
              "\u003c!-- 1492454807704 --\u003e\n",
              "\u003cg class\u003d\"node\" id\u003d\"node7\"\u003e\u003ctitle\u003e1492454807704\u003c/title\u003e\n",
              "\u003cpolygon fill\u003d\"none\" points\u003d\"55.5,-415.5 55.5,-461.5 311.5,-461.5 311.5,-415.5 55.5,-415.5\" stroke\u003d\"black\"/\u003e\n",
              "\u003ctext font-family\u003d\"Times New Roman,serif\" font-size\u003d\"14.00\" text-anchor\u003d\"middle\" x\u003d\"120.5\" y\u003d\"-434.8\"\u003edropout_4: Dropout\u003c/text\u003e\n",
              "\u003cpolyline fill\u003d\"none\" points\u003d\"185.5,-415.5 185.5,-461.5 \" stroke\u003d\"black\"/\u003e\n",
              "\u003ctext font-family\u003d\"Times New Roman,serif\" font-size\u003d\"14.00\" text-anchor\u003d\"middle\" x\u003d\"213.5\" y\u003d\"-446.3\"\u003einput:\u003c/text\u003e\n",
              "\u003cpolyline fill\u003d\"none\" points\u003d\"185.5,-438.5 241.5,-438.5 \" stroke\u003d\"black\"/\u003e\n",
              "\u003ctext font-family\u003d\"Times New Roman,serif\" font-size\u003d\"14.00\" text-anchor\u003d\"middle\" x\u003d\"213.5\" y\u003d\"-423.3\"\u003eoutput:\u003c/text\u003e\n",
              "\u003cpolyline fill\u003d\"none\" points\u003d\"241.5,-415.5 241.5,-461.5 \" stroke\u003d\"black\"/\u003e\n",
              "\u003ctext font-family\u003d\"Times New Roman,serif\" font-size\u003d\"14.00\" text-anchor\u003d\"middle\" x\u003d\"276.5\" y\u003d\"-446.3\"\u003e(None, 8)\u003c/text\u003e\n",
              "\u003cpolyline fill\u003d\"none\" points\u003d\"241.5,-438.5 311.5,-438.5 \" stroke\u003d\"black\"/\u003e\n",
              "\u003ctext font-family\u003d\"Times New Roman,serif\" font-size\u003d\"14.00\" text-anchor\u003d\"middle\" x\u003d\"276.5\" y\u003d\"-423.3\"\u003e(None, 8)\u003c/text\u003e\n",
              "\u003c/g\u003e\n",
              "\u003c!-- 1491088303440\u0026#45;\u0026gt;1492454807704 --\u003e\n",
              "\u003cg class\u003d\"edge\" id\u003d\"edge5\"\u003e\u003ctitle\u003e1491088303440-\u0026gt;1492454807704\u003c/title\u003e\n",
              "\u003cpath d\u003d\"M179.866,-498.366C180.373,-490.152 180.959,-480.658 181.511,-471.725\" fill\u003d\"none\" stroke\u003d\"black\"/\u003e\n",
              "\u003cpolygon fill\u003d\"black\" points\u003d\"185.013,-471.804 182.135,-461.607 178.026,-471.372 185.013,-471.804\" stroke\u003d\"black\"/\u003e\n",
              "\u003c/g\u003e\n",
              "\u003c!-- 1491088303944 --\u003e\n",
              "\u003cg class\u003d\"node\" id\u003d\"node8\"\u003e\u003ctitle\u003e1491088303944\u003c/title\u003e\n",
              "\u003cpolygon fill\u003d\"none\" points\u003d\"339.5,-415.5 339.5,-461.5 595.5,-461.5 595.5,-415.5 339.5,-415.5\" stroke\u003d\"black\"/\u003e\n",
              "\u003ctext font-family\u003d\"Times New Roman,serif\" font-size\u003d\"14.00\" text-anchor\u003d\"middle\" x\u003d\"404.5\" y\u003d\"-434.8\"\u003edropout_5: Dropout\u003c/text\u003e\n",
              "\u003cpolyline fill\u003d\"none\" points\u003d\"469.5,-415.5 469.5,-461.5 \" stroke\u003d\"black\"/\u003e\n",
              "\u003ctext font-family\u003d\"Times New Roman,serif\" font-size\u003d\"14.00\" text-anchor\u003d\"middle\" x\u003d\"497.5\" y\u003d\"-446.3\"\u003einput:\u003c/text\u003e\n",
              "\u003cpolyline fill\u003d\"none\" points\u003d\"469.5,-438.5 525.5,-438.5 \" stroke\u003d\"black\"/\u003e\n",
              "\u003ctext font-family\u003d\"Times New Roman,serif\" font-size\u003d\"14.00\" text-anchor\u003d\"middle\" x\u003d\"497.5\" y\u003d\"-423.3\"\u003eoutput:\u003c/text\u003e\n",
              "\u003cpolyline fill\u003d\"none\" points\u003d\"525.5,-415.5 525.5,-461.5 \" stroke\u003d\"black\"/\u003e\n",
              "\u003ctext font-family\u003d\"Times New Roman,serif\" font-size\u003d\"14.00\" text-anchor\u003d\"middle\" x\u003d\"560.5\" y\u003d\"-446.3\"\u003e(None, 5)\u003c/text\u003e\n",
              "\u003cpolyline fill\u003d\"none\" points\u003d\"525.5,-438.5 595.5,-438.5 \" stroke\u003d\"black\"/\u003e\n",
              "\u003ctext font-family\u003d\"Times New Roman,serif\" font-size\u003d\"14.00\" text-anchor\u003d\"middle\" x\u003d\"560.5\" y\u003d\"-423.3\"\u003e(None, 5)\u003c/text\u003e\n",
              "\u003c/g\u003e\n",
              "\u003c!-- 1491088303552\u0026#45;\u0026gt;1491088303944 --\u003e\n",
              "\u003cg class\u003d\"edge\" id\u003d\"edge6\"\u003e\u003ctitle\u003e1491088303552-\u0026gt;1491088303944\u003c/title\u003e\n",
              "\u003cpath d\u003d\"M489.302,-498.366C486.194,-489.973 482.591,-480.245 479.22,-471.143\" fill\u003d\"none\" stroke\u003d\"black\"/\u003e\n",
              "\u003cpolygon fill\u003d\"black\" points\u003d\"482.443,-469.769 475.688,-461.607 475.879,-472.2 482.443,-469.769\" stroke\u003d\"black\"/\u003e\n",
              "\u003c/g\u003e\n",
              "\u003c!-- 1494649062456 --\u003e\n",
              "\u003cg class\u003d\"node\" id\u003d\"node10\"\u003e\u003ctitle\u003e1494649062456\u003c/title\u003e\n",
              "\u003cpolygon fill\u003d\"none\" points\u003d\"249.5,-332.5 249.5,-378.5 685.5,-378.5 685.5,-332.5 249.5,-332.5\" stroke\u003d\"black\"/\u003e\n",
              "\u003ctext font-family\u003d\"Times New Roman,serif\" font-size\u003d\"14.00\" text-anchor\u003d\"middle\" x\u003d\"336\" y\u003d\"-351.8\"\u003econcatenate_2: Concatenate\u003c/text\u003e\n",
              "\u003cpolyline fill\u003d\"none\" points\u003d\"422.5,-332.5 422.5,-378.5 \" stroke\u003d\"black\"/\u003e\n",
              "\u003ctext font-family\u003d\"Times New Roman,serif\" font-size\u003d\"14.00\" text-anchor\u003d\"middle\" x\u003d\"450.5\" y\u003d\"-363.3\"\u003einput:\u003c/text\u003e\n",
              "\u003cpolyline fill\u003d\"none\" points\u003d\"422.5,-355.5 478.5,-355.5 \" stroke\u003d\"black\"/\u003e\n",
              "\u003ctext font-family\u003d\"Times New Roman,serif\" font-size\u003d\"14.00\" text-anchor\u003d\"middle\" x\u003d\"450.5\" y\u003d\"-340.3\"\u003eoutput:\u003c/text\u003e\n",
              "\u003cpolyline fill\u003d\"none\" points\u003d\"478.5,-332.5 478.5,-378.5 \" stroke\u003d\"black\"/\u003e\n",
              "\u003ctext font-family\u003d\"Times New Roman,serif\" font-size\u003d\"14.00\" text-anchor\u003d\"middle\" x\u003d\"582\" y\u003d\"-363.3\"\u003e[(None, 8), (None, 5), (None, 20)]\u003c/text\u003e\n",
              "\u003cpolyline fill\u003d\"none\" points\u003d\"478.5,-355.5 685.5,-355.5 \" stroke\u003d\"black\"/\u003e\n",
              "\u003ctext font-family\u003d\"Times New Roman,serif\" font-size\u003d\"14.00\" text-anchor\u003d\"middle\" x\u003d\"582\" y\u003d\"-340.3\"\u003e(None, 33)\u003c/text\u003e\n",
              "\u003c/g\u003e\n",
              "\u003c!-- 1492454807704\u0026#45;\u0026gt;1494649062456 --\u003e\n",
              "\u003cg class\u003d\"edge\" id\u003d\"edge7\"\u003e\u003ctitle\u003e1492454807704-\u0026gt;1494649062456\u003c/title\u003e\n",
              "\u003cpath d\u003d\"M260.729,-415.473C297.67,-404.937 342.054,-392.279 380.215,-381.395\" fill\u003d\"none\" stroke\u003d\"black\"/\u003e\n",
              "\u003cpolygon fill\u003d\"black\" points\u003d\"381.63,-384.631 390.286,-378.522 379.71,-377.899 381.63,-384.631\" stroke\u003d\"black\"/\u003e\n",
              "\u003c/g\u003e\n",
              "\u003c!-- 1491088303944\u0026#45;\u0026gt;1494649062456 --\u003e\n",
              "\u003cg class\u003d\"edge\" id\u003d\"edge8\"\u003e\u003ctitle\u003e1491088303944-\u0026gt;1494649062456\u003c/title\u003e\n",
              "\u003cpath d\u003d\"M467.5,-415.366C467.5,-407.152 467.5,-397.658 467.5,-388.725\" fill\u003d\"none\" stroke\u003d\"black\"/\u003e\n",
              "\u003cpolygon fill\u003d\"black\" points\u003d\"471,-388.607 467.5,-378.607 464,-388.607 471,-388.607\" stroke\u003d\"black\"/\u003e\n",
              "\u003c/g\u003e\n",
              "\u003c!-- 1494649063464 --\u003e\n",
              "\u003cg class\u003d\"node\" id\u003d\"node9\"\u003e\u003ctitle\u003e1494649063464\u003c/title\u003e\n",
              "\u003cpolygon fill\u003d\"none\" points\u003d\"614,-415.5 614,-461.5 865,-461.5 865,-415.5 614,-415.5\" stroke\u003d\"black\"/\u003e\n",
              "\u003ctext font-family\u003d\"Times New Roman,serif\" font-size\u003d\"14.00\" text-anchor\u003d\"middle\" x\u003d\"673\" y\u003d\"-434.8\"\u003eGenre: InputLayer\u003c/text\u003e\n",
              "\u003cpolyline fill\u003d\"none\" points\u003d\"732,-415.5 732,-461.5 \" stroke\u003d\"black\"/\u003e\n",
              "\u003ctext font-family\u003d\"Times New Roman,serif\" font-size\u003d\"14.00\" text-anchor\u003d\"middle\" x\u003d\"760\" y\u003d\"-446.3\"\u003einput:\u003c/text\u003e\n",
              "\u003cpolyline fill\u003d\"none\" points\u003d\"732,-438.5 788,-438.5 \" stroke\u003d\"black\"/\u003e\n",
              "\u003ctext font-family\u003d\"Times New Roman,serif\" font-size\u003d\"14.00\" text-anchor\u003d\"middle\" x\u003d\"760\" y\u003d\"-423.3\"\u003eoutput:\u003c/text\u003e\n",
              "\u003cpolyline fill\u003d\"none\" points\u003d\"788,-415.5 788,-461.5 \" stroke\u003d\"black\"/\u003e\n",
              "\u003ctext font-family\u003d\"Times New Roman,serif\" font-size\u003d\"14.00\" text-anchor\u003d\"middle\" x\u003d\"826.5\" y\u003d\"-446.3\"\u003e(None, 20)\u003c/text\u003e\n",
              "\u003cpolyline fill\u003d\"none\" points\u003d\"788,-438.5 865,-438.5 \" stroke\u003d\"black\"/\u003e\n",
              "\u003ctext font-family\u003d\"Times New Roman,serif\" font-size\u003d\"14.00\" text-anchor\u003d\"middle\" x\u003d\"826.5\" y\u003d\"-423.3\"\u003e(None, 20)\u003c/text\u003e\n",
              "\u003c/g\u003e\n",
              "\u003c!-- 1494649063464\u0026#45;\u0026gt;1494649062456 --\u003e\n",
              "\u003cg class\u003d\"edge\" id\u003d\"edge9\"\u003e\u003ctitle\u003e1494649063464-\u0026gt;1494649062456\u003c/title\u003e\n",
              "\u003cpath d\u003d\"M665.534,-415.473C630.154,-404.937 587.645,-392.279 551.097,-381.395\" fill\u003d\"none\" stroke\u003d\"black\"/\u003e\n",
              "\u003cpolygon fill\u003d\"black\" points\u003d\"552.034,-378.022 541.451,-378.522 550.036,-384.731 552.034,-378.022\" stroke\u003d\"black\"/\u003e\n",
              "\u003c/g\u003e\n",
              "\u003c!-- 1491088305400 --\u003e\n",
              "\u003cg class\u003d\"node\" id\u003d\"node11\"\u003e\u003ctitle\u003e1491088305400\u003c/title\u003e\n",
              "\u003cpolygon fill\u003d\"none\" points\u003d\"319,-249.5 319,-295.5 616,-295.5 616,-249.5 319,-249.5\" stroke\u003d\"black\"/\u003e\n",
              "\u003ctext font-family\u003d\"Times New Roman,serif\" font-size\u003d\"14.00\" text-anchor\u003d\"middle\" x\u003d\"398\" y\u003d\"-268.8\"\u003eFullyConnected-1: Dense\u003c/text\u003e\n",
              "\u003cpolyline fill\u003d\"none\" points\u003d\"477,-249.5 477,-295.5 \" stroke\u003d\"black\"/\u003e\n",
              "\u003ctext font-family\u003d\"Times New Roman,serif\" font-size\u003d\"14.00\" text-anchor\u003d\"middle\" x\u003d\"505\" y\u003d\"-280.3\"\u003einput:\u003c/text\u003e\n",
              "\u003cpolyline fill\u003d\"none\" points\u003d\"477,-272.5 533,-272.5 \" stroke\u003d\"black\"/\u003e\n",
              "\u003ctext font-family\u003d\"Times New Roman,serif\" font-size\u003d\"14.00\" text-anchor\u003d\"middle\" x\u003d\"505\" y\u003d\"-257.3\"\u003eoutput:\u003c/text\u003e\n",
              "\u003cpolyline fill\u003d\"none\" points\u003d\"533,-249.5 533,-295.5 \" stroke\u003d\"black\"/\u003e\n",
              "\u003ctext font-family\u003d\"Times New Roman,serif\" font-size\u003d\"14.00\" text-anchor\u003d\"middle\" x\u003d\"574.5\" y\u003d\"-280.3\"\u003e(None, 33)\u003c/text\u003e\n",
              "\u003cpolyline fill\u003d\"none\" points\u003d\"533,-272.5 616,-272.5 \" stroke\u003d\"black\"/\u003e\n",
              "\u003ctext font-family\u003d\"Times New Roman,serif\" font-size\u003d\"14.00\" text-anchor\u003d\"middle\" x\u003d\"574.5\" y\u003d\"-257.3\"\u003e(None, 100)\u003c/text\u003e\n",
              "\u003c/g\u003e\n",
              "\u003c!-- 1494649062456\u0026#45;\u0026gt;1491088305400 --\u003e\n",
              "\u003cg class\u003d\"edge\" id\u003d\"edge10\"\u003e\u003ctitle\u003e1494649062456-\u0026gt;1491088305400\u003c/title\u003e\n",
              "\u003cpath d\u003d\"M467.5,-332.366C467.5,-324.152 467.5,-314.658 467.5,-305.725\" fill\u003d\"none\" stroke\u003d\"black\"/\u003e\n",
              "\u003cpolygon fill\u003d\"black\" points\u003d\"471,-305.607 467.5,-295.607 464,-305.607 471,-305.607\" stroke\u003d\"black\"/\u003e\n",
              "\u003c/g\u003e\n",
              "\u003c!-- 1491090999392 --\u003e\n",
              "\u003cg class\u003d\"node\" id\u003d\"node12\"\u003e\u003ctitle\u003e1491090999392\u003c/title\u003e\n",
              "\u003cpolygon fill\u003d\"none\" points\u003d\"319,-166.5 319,-212.5 616,-212.5 616,-166.5 319,-166.5\" stroke\u003d\"black\"/\u003e\n",
              "\u003ctext font-family\u003d\"Times New Roman,serif\" font-size\u003d\"14.00\" text-anchor\u003d\"middle\" x\u003d\"398\" y\u003d\"-185.8\"\u003eFullyConnected-2: Dense\u003c/text\u003e\n",
              "\u003cpolyline fill\u003d\"none\" points\u003d\"477,-166.5 477,-212.5 \" stroke\u003d\"black\"/\u003e\n",
              "\u003ctext font-family\u003d\"Times New Roman,serif\" font-size\u003d\"14.00\" text-anchor\u003d\"middle\" x\u003d\"505\" y\u003d\"-197.3\"\u003einput:\u003c/text\u003e\n",
              "\u003cpolyline fill\u003d\"none\" points\u003d\"477,-189.5 533,-189.5 \" stroke\u003d\"black\"/\u003e\n",
              "\u003ctext font-family\u003d\"Times New Roman,serif\" font-size\u003d\"14.00\" text-anchor\u003d\"middle\" x\u003d\"505\" y\u003d\"-174.3\"\u003eoutput:\u003c/text\u003e\n",
              "\u003cpolyline fill\u003d\"none\" points\u003d\"533,-166.5 533,-212.5 \" stroke\u003d\"black\"/\u003e\n",
              "\u003ctext font-family\u003d\"Times New Roman,serif\" font-size\u003d\"14.00\" text-anchor\u003d\"middle\" x\u003d\"574.5\" y\u003d\"-197.3\"\u003e(None, 100)\u003c/text\u003e\n",
              "\u003cpolyline fill\u003d\"none\" points\u003d\"533,-189.5 616,-189.5 \" stroke\u003d\"black\"/\u003e\n",
              "\u003ctext font-family\u003d\"Times New Roman,serif\" font-size\u003d\"14.00\" text-anchor\u003d\"middle\" x\u003d\"574.5\" y\u003d\"-174.3\"\u003e(None, 50)\u003c/text\u003e\n",
              "\u003c/g\u003e\n",
              "\u003c!-- 1491088305400\u0026#45;\u0026gt;1491090999392 --\u003e\n",
              "\u003cg class\u003d\"edge\" id\u003d\"edge11\"\u003e\u003ctitle\u003e1491088305400-\u0026gt;1491090999392\u003c/title\u003e\n",
              "\u003cpath d\u003d\"M467.5,-249.366C467.5,-241.152 467.5,-231.658 467.5,-222.725\" fill\u003d\"none\" stroke\u003d\"black\"/\u003e\n",
              "\u003cpolygon fill\u003d\"black\" points\u003d\"471,-222.607 467.5,-212.607 464,-222.607 471,-222.607\" stroke\u003d\"black\"/\u003e\n",
              "\u003c/g\u003e\n",
              "\u003c!-- 1491091400184 --\u003e\n",
              "\u003cg class\u003d\"node\" id\u003d\"node13\"\u003e\u003ctitle\u003e1491091400184\u003c/title\u003e\n",
              "\u003cpolygon fill\u003d\"none\" points\u003d\"322,-83.5 322,-129.5 613,-129.5 613,-83.5 322,-83.5\" stroke\u003d\"black\"/\u003e\n",
              "\u003ctext font-family\u003d\"Times New Roman,serif\" font-size\u003d\"14.00\" text-anchor\u003d\"middle\" x\u003d\"401\" y\u003d\"-102.8\"\u003eFullyConnected-3: Dense\u003c/text\u003e\n",
              "\u003cpolyline fill\u003d\"none\" points\u003d\"480,-83.5 480,-129.5 \" stroke\u003d\"black\"/\u003e\n",
              "\u003ctext font-family\u003d\"Times New Roman,serif\" font-size\u003d\"14.00\" text-anchor\u003d\"middle\" x\u003d\"508\" y\u003d\"-114.3\"\u003einput:\u003c/text\u003e\n",
              "\u003cpolyline fill\u003d\"none\" points\u003d\"480,-106.5 536,-106.5 \" stroke\u003d\"black\"/\u003e\n",
              "\u003ctext font-family\u003d\"Times New Roman,serif\" font-size\u003d\"14.00\" text-anchor\u003d\"middle\" x\u003d\"508\" y\u003d\"-91.3\"\u003eoutput:\u003c/text\u003e\n",
              "\u003cpolyline fill\u003d\"none\" points\u003d\"536,-83.5 536,-129.5 \" stroke\u003d\"black\"/\u003e\n",
              "\u003ctext font-family\u003d\"Times New Roman,serif\" font-size\u003d\"14.00\" text-anchor\u003d\"middle\" x\u003d\"574.5\" y\u003d\"-114.3\"\u003e(None, 50)\u003c/text\u003e\n",
              "\u003cpolyline fill\u003d\"none\" points\u003d\"536,-106.5 613,-106.5 \" stroke\u003d\"black\"/\u003e\n",
              "\u003ctext font-family\u003d\"Times New Roman,serif\" font-size\u003d\"14.00\" text-anchor\u003d\"middle\" x\u003d\"574.5\" y\u003d\"-91.3\"\u003e(None, 20)\u003c/text\u003e\n",
              "\u003c/g\u003e\n",
              "\u003c!-- 1491090999392\u0026#45;\u0026gt;1491091400184 --\u003e\n",
              "\u003cg class\u003d\"edge\" id\u003d\"edge12\"\u003e\u003ctitle\u003e1491090999392-\u0026gt;1491091400184\u003c/title\u003e\n",
              "\u003cpath d\u003d\"M467.5,-166.366C467.5,-158.152 467.5,-148.658 467.5,-139.725\" fill\u003d\"none\" stroke\u003d\"black\"/\u003e\n",
              "\u003cpolygon fill\u003d\"black\" points\u003d\"471,-139.607 467.5,-129.607 464,-139.607 471,-139.607\" stroke\u003d\"black\"/\u003e\n",
              "\u003c/g\u003e\n",
              "\u003c!-- 1491091529232 --\u003e\n",
              "\u003cg class\u003d\"node\" id\u003d\"node14\"\u003e\u003ctitle\u003e1491091529232\u003c/title\u003e\n",
              "\u003cpolygon fill\u003d\"none\" points\u003d\"343.5,-0.5 343.5,-46.5 591.5,-46.5 591.5,-0.5 343.5,-0.5\" stroke\u003d\"black\"/\u003e\n",
              "\u003ctext font-family\u003d\"Times New Roman,serif\" font-size\u003d\"14.00\" text-anchor\u003d\"middle\" x\u003d\"401\" y\u003d\"-19.8\"\u003eActivation: Dense\u003c/text\u003e\n",
              "\u003cpolyline fill\u003d\"none\" points\u003d\"458.5,-0.5 458.5,-46.5 \" stroke\u003d\"black\"/\u003e\n",
              "\u003ctext font-family\u003d\"Times New Roman,serif\" font-size\u003d\"14.00\" text-anchor\u003d\"middle\" x\u003d\"486.5\" y\u003d\"-31.3\"\u003einput:\u003c/text\u003e\n",
              "\u003cpolyline fill\u003d\"none\" points\u003d\"458.5,-23.5 514.5,-23.5 \" stroke\u003d\"black\"/\u003e\n",
              "\u003ctext font-family\u003d\"Times New Roman,serif\" font-size\u003d\"14.00\" text-anchor\u003d\"middle\" x\u003d\"486.5\" y\u003d\"-8.3\"\u003eoutput:\u003c/text\u003e\n",
              "\u003cpolyline fill\u003d\"none\" points\u003d\"514.5,-0.5 514.5,-46.5 \" stroke\u003d\"black\"/\u003e\n",
              "\u003ctext font-family\u003d\"Times New Roman,serif\" font-size\u003d\"14.00\" text-anchor\u003d\"middle\" x\u003d\"553\" y\u003d\"-31.3\"\u003e(None, 20)\u003c/text\u003e\n",
              "\u003cpolyline fill\u003d\"none\" points\u003d\"514.5,-23.5 591.5,-23.5 \" stroke\u003d\"black\"/\u003e\n",
              "\u003ctext font-family\u003d\"Times New Roman,serif\" font-size\u003d\"14.00\" text-anchor\u003d\"middle\" x\u003d\"553\" y\u003d\"-8.3\"\u003e(None, 1)\u003c/text\u003e\n",
              "\u003c/g\u003e\n",
              "\u003c!-- 1491091400184\u0026#45;\u0026gt;1491091529232 --\u003e\n",
              "\u003cg class\u003d\"edge\" id\u003d\"edge13\"\u003e\u003ctitle\u003e1491091400184-\u0026gt;1491091529232\u003c/title\u003e\n",
              "\u003cpath d\u003d\"M467.5,-83.3664C467.5,-75.1516 467.5,-65.6579 467.5,-56.7252\" fill\u003d\"none\" stroke\u003d\"black\"/\u003e\n",
              "\u003cpolygon fill\u003d\"black\" points\u003d\"471,-56.6068 467.5,-46.6068 464,-56.6069 471,-56.6068\" stroke\u003d\"black\"/\u003e\n",
              "\u003c/g\u003e\n",
              "\u003c/g\u003e\n",
              "\u003c/svg\u003e"
            ],
            "text/plain": [
              "\u003cIPython.core.display.SVG object\u003e"
            ]
          },
          "execution_count": 13,
          "metadata": {},
          "output_type": "execute_result"
        }
      ],
      "source": [
        "# Keras model\n",
        "n_latent_factors_user \u003d 5\n",
        "n_latent_factors_movie \u003d 8\n",
        "\n",
        "movie_input \u003d keras.layers.Input(shape\u003d[1],name\u003d\u0027Movie\u0027)\n",
        "movie_embedding \u003d keras.layers.Embedding(n_movies + 1, n_latent_factors_movie, name\u003d\u0027Movie-Embedding\u0027)(movie_input)\n",
        "movie_vec \u003d keras.layers.Flatten(name\u003d\u0027FlattenMovies\u0027)(movie_embedding)\n",
        "movie_vec \u003d keras.layers.Dropout(0.5)(movie_vec)\n",
        "\n",
        "\n",
        "user_input \u003d keras.layers.Input(shape\u003d[1],name\u003d\u0027User\u0027)\n",
        "user_vec \u003d keras.layers.Flatten(name\u003d\u0027FlattenUsers\u0027)(keras.layers.Embedding(n_users + 1, n_latent_factors_user,name\u003d\u0027User-Embedding\u0027)(user_input))\n",
        "user_vec \u003d keras.layers.Dropout(0.5)(user_vec)\n",
        "\n",
        "genre_input \u003d keras.layers.Input(shape\u003d[20],name\u003d\u0027Genre\u0027)\n",
        "# genre_vec \u003d keras.layers.Flatten(name\u003d\u0027FlattenGenre\u0027)(keras.layers.Embedding(20, 7 ,name\u003d\u0027Genre-Embedding\u0027)(genre_input))\n",
        "\n",
        "\n",
        "concat \u003d keras.layers.concatenate([movie_vec, user_vec,genre_input])\n",
        "concat_dropout \u003d keras.layers.Dropout(0.2)(concat)\n",
        "dense \u003d keras.layers.Dense(200,name\u003d\u0027FullyConnected\u0027)(concat)\n",
        "dropout_1 \u003d keras.layers.Dropout(0.2,name\u003d\u0027Dropout\u0027)(dense)\n",
        "dense_2 \u003d keras.layers.Dense(100,name\u003d\u0027FullyConnected-1\u0027)(concat)\n",
        "dropout_2 \u003d keras.layers.Dropout(0.2,name\u003d\u0027Dropout\u0027)(dense_2)\n",
        "dense_3 \u003d keras.layers.Dense(50,name\u003d\u0027FullyConnected-2\u0027)(dense_2)\n",
        "dropout_3 \u003d keras.layers.Dropout(0.2,name\u003d\u0027Dropout\u0027)(dense_3)\n",
        "dense_4 \u003d keras.layers.Dense(20,name\u003d\u0027FullyConnected-3\u0027, activation\u003d\u0027relu\u0027)(dense_3)\n",
        "\n",
        "\n",
        "result \u003d keras.layers.Dense(1, activation\u003d\u0027relu\u0027,name\u003d\u0027Activation\u0027)(dense_4)\n",
        "model \u003d keras.Model([user_input, movie_input,genre_input], result)\n",
        "model.compile(optimizer\u003dAdam(lr\u003d0.001),loss\u003d \u0027mean_absolute_error\u0027)\n",
        "\n",
        "#visualize model\n",
        "SVG(model_to_dot(model,  show_shapes\u003dTrue, rankdir\u003d\u0027HB\u0027).create(prog\u003d\u0027dot\u0027, format\u003d\u0027svg\u0027))"
      ]
    },
    {
      "cell_type": "code",
      "execution_count": 14,
      "metadata": {
        "pycharm": {
          "metadata": false,
          "name": "#%%\n"
        }
      },
      "outputs": [
        {
          "data": {
            "text/plain": [
              "Text(0, 0.5, \u0027Train Error\u0027)"
            ]
          },
          "execution_count": 14,
          "metadata": {},
          "output_type": "execute_result"
        },
        {
          "data": {
            "image/png": "iVBORw0KGgoAAAANSUhEUgAAAYsAAAEKCAYAAADjDHn2AAAABHNCSVQICAgIfAhkiAAAAAlwSFlzAAALEgAACxIB0t1+/AAAADl0RVh0U29mdHdhcmUAbWF0cGxvdGxpYiB2ZXJzaW9uIDMuMC4zLCBodHRwOi8vbWF0cGxvdGxpYi5vcmcvnQurowAAIABJREFUeJzt3XuYXFWd7vHvr6q6+n5Ld+7dnQt0ICAESAQUYbgIRnRExxugDjMyMuMBx1FHB+d4HA6j8+hcdPSZHEdGGD1zVIajjOY4SAYQ5A4JhABJyK1Dks617+l7d3X9zh9VCUWn01VJand1V7+f5+mna++99t6r6qnOm7XW3mubuyMiIjKeUK4rICIik5/CQkRE0lJYiIhIWgoLERFJS2EhIiJpKSxERCQthYWIiKSlsBARkbQUFiIiklYk1xXIltraWl+4cGGuqyEiMqW88MILre4+M125vAmLhQsXsm7dulxXQ0RkSjGzXZmUUzeUiIikpbAQEZG0FBYiIpKWwkJERNJSWIiISFoKCxERSUthISIiaeVNWBw8PMChwwO5roaISF7Km7A41D3I/i6FhYhIEPImLACGRuK5roKISF7Kr7CIKSxERIKgsBARkbTyKiwGFRYiIoHIq7AY1piFiEgg8ios1A0lIhKMQMPCzFaa2RYz225mt4+xvcHMHjWz9Wb2spldm1y/0Mz6zeyl5M8/Z3I+XQ0lIhKMwB5+ZGZhYBVwNdAMrDWz1e6+KaXYV4D73P17ZnYW8ACwMLlth7ufdyLnVMtCRCQYQbYsLgS2u3uTuw8B9wLXjSrjQEXydSWw71ROqLAQEQlGkGExH9iTstycXJfqDuDjZtZMolXxmZRti5LdU781s0vHOoGZ3WJm68xsHagbSkQkKEGGhY2xzkct3wD80N3rgGuBfzOzELAfaHD384HPAz8xs4pR++Lud7n7CndfAbp0VkQkKEGGRTNQn7Jcx7HdTDcD9wG4+zNAEVDr7oPu3pZc/wKwA1gy3skMdUOJiAQlyLBYCzSa2SIziwLXA6tHldkNXAVgZktJhEWLmc1MDpBjZouBRqBpvJOZmcJCRCQggV0N5e4xM7sNWAOEgXvcfaOZ3Qmsc/fVwBeAfzGzz5HoovoDd3czuwy408xiwAjwJ+7ePt75zGBoZCSotyMiMq0FFhYA7v4AiYHr1HVfTXm9CbhkjP1+Dvz8RM5lwHBs9JCIiIhkQ97cwR0y09VQIiIByZuwMNMAt4hIUPIoLEyXzoqIBCR/wgLdlCciEpS8CYuQGUMxXQ0lIhKEvAkLjVmIiAQnv8JC3VAiIoHIn7BAd3CLiAQlf8LCYHhEN+WJiAQhb8IipLmhREQCkzdhYaYpykVEgpI/YQG6dFZEJCD5ExaaG0pEJDB5ExYh3WchIhKYvAkLMyPuEFPrQkQk6/InLJK/1RUlIpJ9+RMWybRQV5SISPblUVgk0kItCxGR7MubsDjyRtSyEBHJvrwJi6MtC4WFiEjW5VFYJH6rG0pEJPvyLyzUshARybq8CYsQ6oYSEQlK3oSFWhYiIsHJo7BIpMWgxixERLIuj8Ii8VstCxGR7MubsDgyZjGsloWISNYFGhZmttLMtpjZdjO7fYztDWb2qJmtN7OXzezalG1fTu63xczelf5cid9qWYiIZF8kqAObWRhYBVwNNANrzWy1u29KKfYV4D53/56ZnQU8ACxMvr4eOBuYBzxsZkvc/bhPN1JYiIgEJ8iWxYXAdndvcvch4F7gulFlHKhIvq4E9iVfXwfc6+6D7r4T2J483nFpbigRkeAEGRbzgT0py83JdanuAD5uZs0kWhWfOYF9MbNbzGydma1rb2sD1LIQEQlCkGFhY6zzUcs3AD909zrgWuDfzCyU4b64+13uvsLdV8ysrQVgUGEhIpJ1gY1ZkGgN1Kcs1/FGN9MRNwMrAdz9GTMrAmoz3PdNNGYhIhKcIFsWa4FGM1tkZlESA9arR5XZDVwFYGZLgSKgJVnuejMrNLNFQCPwfLoTFoRNYxYiIgEIrGXh7jEzuw1YA4SBe9x9o5ndCaxz99XAF4B/MbPPkehm+gN3d2Cjmd0HbAJiwK3jXQl1RDQcUstCRCQAQXZD4e4PkBi4Tl331ZTXm4BLjrPv14Gvn8j5ohGFhYhIEPLmDm6AgnBId3CLiAQgr8JCLQsRkWDkXVho1lkRkezLr7DQALeISCDyKiwK1Q0lIhKIvAoLjVmIiAQj/8JCYxYiIlmXX2GhMQsRkUDkV1ioG0pEJBB5FRa6KU9EJBh5FRbRSEhTlIuIBCCvwqJQA9wiIoHIq7DQALeISDDyKyw0wC0iEoj8Cwt1Q4mIZF1+hUU4zEjcGYkf87huERE5BfkVFpHE21FXlIhIdiksREQkrfwMC41biIhkVX6FRdgAhYWISLblV1ioG0pEJBDjhoWZhczsoomqzKmKhsOAwkJEJNvGDQt3jwPfmaC6nDK1LEREgpFJN9RDZnZd4DXJgjcGuEdyXBMRkfwSyaDMbUClmQ0C/YAB7u4zAq3ZSYiGE2GhmWdFRLIrk7CoDbwWWaJuKBGRYKQNC3cfMbNrgcuSqx5z9weDrdbJKVRYiIgEIu2YhZl9HfgS0JT8+ZKZfS2Tg5vZSjPbYmbbzez2MbZ/28xeSv5sNbPOlG0jKdtWZ3K+Iy2L4RHNDSUikk2ZdEP9LnC+u48AmNk9wIvAV8bbyczCwCrgaqAZWGtmq91905Ey7v65lPKfAc5POUS/u5+X6RuBxGNVQQPcIiLZlulNeRUpr8sz3OdCYLu7N7n7EHAvMN5VVTcAP83w2GPSmIWISDAyaVn8LfCimT1C4kqoy4GvZrDffGBPynIzMOYNfma2AFgE/CZldZGZrQNiwDfc/RfpTnjkaiiFhYhIdo0bFmZmwCPAoyT+oTfgq+6+N4Nj2xjrjjeYcD3wsyNdXUkN7r7PzBYDvzGzV9x9x6j63QLcAtDQ0HC0ZaFLZ0VEsivdHdwO/Mrd97r7/e7+8wyDAhItifqU5Tpg33HKXs+oLih335f83QQ8xpvHM46UucvdV7j7ipkzZ75xNZQmEhQRyapMxiyeN7MLTuLYa4FGM1tkZlESgXDMVU1mdgZQDTyTsq7azAqTr2uBS4BNo/cdTd1QIiLByGTM4h3Ap8xsB9DLG3dwjxsg7h4zs9uANUAYuMfdN5rZncA6dz8SHDcA9yZbMUcsBb5vZnESgfaN1KuojicUMiIhU1iIiGRZJmHx/pM9uLs/ADwwat1XRy3fMcZ+TwPnnMw5o5GQwkJEJMvSDXCHgfvdfdkE1eeURSMhhjVmISKSVekGuEeATWY2f4Lqc8qi4ZAGuEVEsizTiQQ3m9kzJMYsAHD33wusVqegIBzSpbMiIlmWSVh8I/BaZFGhxixERLLuuGFhZo3uvs3dHzGziLvHUra9dWKqd+I0wC0ikn3jjVn8e8rr50dt+34AdcmKaERjFiIi2TZeWNhxXo+1PGlEw2pZiIhk23hh4cd5PdbypKFuKBGR7BtvgLvOzL5FohVx5DXJ5Ul7KW00EqJnMJa+oIiIZGy8sPjycV4D/GUAdckKdUOJiGTfccPC3e+eyIpkiwa4RUSyL9Mn5U0ZalmIiGRf/oWFBrhFRLIuP8NC3VAiIlmVdrqP5MOHPgksTC3v7rcEV62Tp24oEZHsy2RuqF8CzwJPAiNpyuacuqFERLIvk7AodfcvBF6TLIlGQsTiTjzuhEKT9kZzEZEpJZMxi1+b2TWB1yRLopHkc7g1biEikjWZhMWfAA+aWY+ZtZtZh5m1B12xkxUNJ96SnmkhIpI9mT78aMooTLYs9GhVEZHsSfs8C+Ds4xR5OZgqnZqj3VBqWYiIZM14LYvbgZuBVWNsc+CyQGp0igrCCgsRkWwbb26om5O/L5246pw6DXCLiGRfJmMWmNmZwFlA0ZF17v6ToCp1KqJqWYiIZF0md3B/BbgGOBNYA7yLxA16kzMsIroaSkQk2zK5dPajwBXAfnf/BLCMDFskuaABbhGR7MskLPrdfQSImVk5cABYHGy1Tl6hxixERLIuk7BYb2ZVwD3AOuB54MVMDm5mK81si5ltN7Pbx9j+bTN7Kfmz1cw6U7bdZGbbkj83Zfh+iIbDgFoWIiLZNG53kpkZcIe7dwKrzGwNUOHuacPCzMIkLru9GmgG1prZanffdKSMu38upfxngPOTr2cAfwWsIHGZ7gvJfTvSnTeqm/JERLJu3JaFuzvwq5Tl7ZkERdKFwHZ3b3L3IeBe4Lpxyt8A/DT5+l3AQ+7engyIh4CVmZxUYxYiItmXSTfU82Z2wUkcez6wJ2W5ObnuGGa2AFgE/OZE9x2tIJyYaVZhISKSPeNN9xFx9xjwDuBTZrYD6AWMRKMjXYCMNT+4H6fs9cDPkgPpGe9rZrcAtwA0NDQAKZfOqhtKRCRrxhuzeB64AHj/SR67GahPWa4D9h2n7PXAraP2vXzUvo+N3snd7wLuAlixYoUDFGqAW0Qk68YLCwNw9x0neey1QKOZLQL2kgiEG485idkZQDXwTMrqNcDfmFl1cvka4MuZnFRjFiIi2TdeWMw0s88fb6O7f2u8A7t7zMxuI/EPfxi4x903mtmdwDp3X50segNwb3Iw/ci+7Wb21yQCB+BOd8/oGRoKCxGR7BsvLMJAGWOPH2TE3R8AHhi17qujlu84zr73kLi344SEQ0Y4ZAyNTPrHhYuITBnjhcV+d79zwmqSRdFwSC0LEZEsGu/S2ZNuUeRaNBJiYFhhISKSLeOFxVUTVossO31WGRv3deW6GiIieeO4YZHpgPJkdPHiGbzc3EXvYCzXVRERyQuZ3ME95Vy8uIZY3HlhV9qppEREJAN5GRbLF1QTCRnPNrXluioiInkhL8OiJBphWX0VzygsRESyIi/DAjRuISKSTXkcFjWMxJ11GrcQETlleRsWGrcQEcmevA2LI+MWCgsRkVOXt2EBGrcQEcmWPA8LjVuIiGRDXoeFxi1ERLIjr8NC4xYiItmR12EBcGljLRv2dPJ6a2+uqyIiMmXlfVjceFEDkXCI7z9+sk+HFRGRvA+LWeVFfHh5HT9/YS8HDw/kujoiIlNS3ocFwB9fdhqxeJwfPNGU66qIiExJ0yIsGmpK+N1l8/jxc7vp7BvKdXVERKacaREWAJ++/DT6hkb40dO7cl0VEZEpZ9qExZlzKrjqzFn88Omd9A3pjm4RkRMxbcIC4L9dcRodfcP8w39tzXVVRESmlGkVFssXzOD337aAu5/cyZqNB3JdHRGRKWNahQXAf3/PUs6ZX8mf/98N7G7ry3V1RESmhGkXFoWRMP/rYxcAcOtPXmQwNpLjGomITH7TLiwA6meU8A8fXsYre7v4wn0bNIW5iEgagYaFma00sy1mtt3Mbj9OmY+Y2SYz22hmP0lZP2JmLyV/Vme7btecPYcvrTyD/3xlP+/57hO8uFvTmIuIHI+5ezAHNgsDW4GrgWZgLXCDu29KKdMI3Adc6e4dZjbL3Q8lt/W4e1mm51uxYoWvW7fuhOv5XFMbn79vAwcOD3Dr5adx65WnUxgJn/BxRESmIjN7wd1XpCsXZMviQmC7uze5+xBwL3DdqDKfAla5ewfAkaCYSBctruHXf3Yp1503j+/+Zjvv/scneGJby0RXQ0RkUgsyLOYDe1KWm5PrUi0BlpjZU2b2rJmtTNlWZGbrkuvfH2A9qSgq4FsfOY8fffJC4u584u7nufXHL+pqKRGRpEiAx7Yx1o3u84oAjcDlQB3whJm9xd07gQZ332dmi4HfmNkr7v6mecbN7BbgFoCGhoZTrvDvLJnJg392Gd//bROrHtvOr1/dz7vPmcstly5mWX3VKR9fRGSqCrJl0QzUpyzXAfvGKPNLdx92953AFhLhgbvvS/5uAh4Dzh99Ane/y91XuPuKmTNnZqXSRQVhPvvORh7/4hV86rLFPL6lhetWPcUnf7iWrr7hrJxDRGSqCTIs1gKNZrbIzKLA9cDoq5p+AVwBYGa1JLqlmsys2swKU9ZfAmxiAs2pLOLL717K01++kr9YeSZPbGvhA997il1teuKeiEw/gYWFu8eA24A1wGbgPnffaGZ3mtn7ksXWAG1mtgl4FPiiu7cBS4F1ZrYhuf4bqVdRTaTyogI+fflp/J+bL6K9d4j3r3qKta+356IqIiI5E9ilsxPtZC+dPRE7W3v55A/Xsqe9j3PqKjl3fiXn1FWxfEE1C2tKMBtrmEZEZPLK9NJZhcUJ6uwb4nu/3cH63Z28ureLvqHEdCFzK4t42+Iarlo6m2vPmaPgEJEpIdOwCPJqqLxUVRLly+9eCsBI3Glq6eG5ne08s6ONx7a2cP/6vbzn3Ll884PnUlaoj1dE8oP+NTsF4ZDROLucxtnlfPziBcTjzvcfb+Lv1rzG5v2H+eePL2fJ7PJcV1NE5JQpLLIoFDI+fflpnFdfxWd+up73/dOTnFtXRXVJAVXFUc6pq+RDy+soKtB0IiIytWjMIiCHDg/wd2u2sLu9j86+Ydp6h2jtGWRORRG3XnEaH3lrveagEpGc0wD3JOPuPL2jjW8/tJV1uzqYV1nEpy8/jQ+vqFdLQ0RyRmExSbk7T25v5R8f3sYLuzqYXVHIH192Gh99az2lGhAXkQmmsJjk3J1ndrTxnUe28dzOdooKQlx55izee+48Ljm9ltJomEh4Wj6bSkQmkC6dneTMjLefXsvbT6/lhV0d/PKlvTzwyn4eeOXA0TLhkFFeFOHzVy/hExcv0L0bIpIzallMIiNx57mmNl7d18XgcJzBWJz1ezp4ansbHzh/Pn/zgXMojmp8Q0SyRy2LKSgceqO1cUQ87vzTo9v59sNb2bz/MN/84LmcW1epVoaITCiFxSQXChl/elUj59ZV8tl7X+K6VU9RW1bIpY21XNpYy0WLa5hfVZzraopInlM31BTS1jPIo1taeGJbC09ua6WtdwiA+hnFXLiwhgU1JVSXRqkuKWBmWSF1M0qYU1FEOKRWiIiMTd1QeaimrJAPLa/jQ8vriMed1w5089zONp5tauOxLYeOhkeqSMion1HC750/nxsvaqCmrDAHNReRqU4tizwyFIvT2T9ER+8wBw8PsLezn+aOPjbs6eLJ7a1EIyE+cN58bnr7Qs6aV5Hr6orIJKCWxTQUjYSYVV7ErPIizpjz5gkMtx/q5l+fep2fv9jMv6/bw/kNVdx4YQOXnF7LtkM9bNzXxa7WPt67bC6XNmbnEbUikj/UsphmOvuGuP/Fvfz4uV3saHnzI2JLo2F6h0a45qzZfOU9Z9FQU5KjWorIRNEd3DIud+fZpnZeO3CYM+aUc/bcSgoLQtz95E5WPbqdWNx577lzWTqngiVzyplfVUxH3xCHDg/S0j2Ak2jJFEbClETDVBUXUFUSpaYsyqzyQl3aKzJFKCzkpB3oGuDv/2sLv93aQkv34AnvX1tWyPIFVVzQUM3vnDGTM+dofERkslJYSFZ09A6x9WA3+7r6qSktZFZFITPLCgmHjMFYnMHhOD2DMbr6h+nqH+Lg4UE2NHfy4q4OXm/rA+DMOeV84Pz5XLS4hp2tPWze3822g90MxuKYgWEsnlnKJy9ZxMLa0hy/Y5HpRWEhOXeoe4AHXz3Af6zfy/rdnUfXR8MhTptVRmk0jANxdzbuPUwsHufac+bysYsWMDA8wp6OPpo7+qmvLuaqpbOZp5sPRbJOYSGTys7WXjbvP8zps8pYVFtKwagZdQ8dHuDup3by42d30zMYO7q+IGwMjyS+o2fNrWBZfSXdA4mWTP/QCPUzSjhjTjlnzCnnrLkVGi8ROUEKC5mSuvqHeWZHKzPLC6mvLmFmeSE7Wnp4ePMhHtl8kB0tvVQURagsLqCoIMzu9j72dw0c3X9GaZSz5lawdG45Z8yp4IzZ5TTOLjvmAVPDI3HW7+5k68Furj1nLjNKoxP9VkUmBYWFTBtdfcO8duAwrx3oZtO+w2zaf5gtB7sZisUBMIO5FUXMry6mrrqE7oEYz+xopXdoBIDK4gK+cM0SbrywgUg4xKHuAda8eoDd7X1cvLiGixfXHH0wlbvT0TdMUUGIkqhuU5KpT2Eh01psJM6u9j62Huhmy8Fudrcnxj/2dvQTCRuXnF7LZY0zmVNZxN8++BpP72jjzDnlVJUU8NzOdtwTU6XE4k5B2Di/vpq+4Ri72vroHohRGAnxzqWzed95iYdV7TjUw4bmTl7d20VNWSFvXVjN8oYZVJYU5PqjEBmXwkIkQ+7Omo0H+NsHtxAKGdeeM5f3nDOXhbUlrHu9g8e3tvDcznYqiwtYUFNCw4wS9rT38auX9x8zH9eM0iiH+4eJxRN/Vw0zSqgpizKjJMrM8kKWL6jmsiUzmV1RlIu3KnIMhYVIwGIjcZ7a0cb63R0smV3Osvoq5lUWMTAc56U9nax7vZ1th3po7x2ivXeI/V39dPQNA4nLiZcvqKZxVhlLZpdTV13CcDzOUCzO8EicxlnlaR90FRuJE4s7kZARDpkG9uWkKCxEJhl3Z/P+bh7f1sLjW1t4ZW8X3QOxMcsWRkJc2ljL1WfNZsnscg4PxOjsG6Kle/Do2My2Q91HrxSDxM2Q737LHH532TxWLKgmlJya/sjfuMJExjIpwsLMVgLfAcLAD9z9G2OU+QhwB+DABne/Mbn+JuAryWJfc/cfjXcuhYVMNe7Ooe5Bth3sYV9XP4WREIWREGA829TGQ5sOsrez/5j9asuinDWvkqVzy6ksLiA24sRG4uxo6eWR1w4yMByntqyQwkiI7oFhegZj1FWX8MEL6vjg8vnUVZfQ2jPIU9tbeWZHGwXhEPOqiplfXczpM8s4c0750aCR/JfzsDCzMLAVuBpoBtYCN7j7ppQyjcB9wJXu3mFms9z9kJnNANYBK0iEyAvAcnfvON75FBaSb9wTzyzZ39VPZXEBlcUFVJdEmVEaPW4roXcwxsObD/LYlhbMoKKogNLCMC/t6eTpHW24w8KakqN311cWJwbgu/qHjx6jtizKO06v5ZLTa2mcXc6CGSVUlRSkbZnERuJ09g9TEA4dPe4RQ7E4u9v7mF9VrOfITzKTYYryC4Ht7t6UrNC9wHXAppQynwJWHQkBdz+UXP8u4CF3b0/u+xCwEvhpgPUVmVTMjKVzK1g6N/O5tUoLI1x33nyuO2/+MduaO/q4/8W9vLSnkw+vqOfSxlrOnldJOGT0DMbY19nPq3u7eHxrC09sa+UXL+07um9FUYQFNaUsrC1lYU0JlcUFNHf0s6utlz0d/bT2DNLVP8yR/3vWlEZZVFtKbVkhO1t7aWrtYXjEmVEa5eZ3LOLjFy84JlBkcguyZfEhYKW7/1Fy+RPARe5+W0qZX5BofVxCoqvqDnd/0Mz+HChy968ly/0PoN/d/37UOW4BbgFoaGhYvmvXrkDei8h0E487O1p62Nnay+72Pna39/F6Wx+vt/bS3NFH3BNT2jfUlNIwo5hZ5UVUl0apKY0yMDzC6229NLX00tIzyKKaUpbMKWdhTQm/fvUAj21pobwwwmVnzKSrb5hD3QO09w5THA0dbUEVRd5ofZQWRnjnWbN559JZurclAJOhZTFWm3V0MkWARuByoA54wszekuG+uPtdwF2Q6IY6lcqKyBtCIaNxdjmNs8uP2TYUi9M7GMuoa2q0j761gVf3dvG9x3awYU8ntWWFLKwpZfmCKP1DI8kJKYff1C12oHmQ1Rv2UVwQ5oozZ1IQDrG/a4D9Xf30D8WpKIpQXhShqiTKmXPLWVZXxbl1lcyvKtagfhYFGRbNQH3Kch2wb4wyz7r7MLDTzLaQCI9mEgGSuu9jgdVURDIWjYSIRk5+epS3zK9k1ccuyLj8SNxZ+3o7/2/DPh7efDAxIF9ZzPn11ZQWhukeiNE9EKO1Z5B7nmw9eoVYbVkhFzRUccGCauqrS9jf1U9zRz8HugZwnIJwiIJwiKqSAhbWlNJQU8Ls8iK6+ocTlzv3DTGvsohz66qYWa5n1wfZDRUh0cV0FbCXxAD3je6+MaXMShKD3jeZWS2wHjiPNwa1j3yjXiQxwN1+vPNpgFtEBmMjvLa/mw3Nnazf3cn63W9MlQ9QVhhhbmUR4ZAxNJK4p6WtZ4i+5NQvxzOvsogFNYnp8x3HMGrKosyuKGJ2RSEF4RADw3EGhkeIRkJcuGgG59VXHTNh5mSU824od4+Z2W3AGhLjEfe4+0YzuxNY5+6rk9uuMbNNwAjwRXdvS76BvyYRMAB3jhcUIiIAhZEwy+qrWFZfxe+/LbGurWeQg4cHmVdVRGXxsV1n7k5LzyC72/po6R6ksriAmrJCKosL2N3ex8vNnWxo7mJ/Z3/i+StmxONxNu47zCObD9E/PHbQlEbDrFg4g9LCMP1DI/QPj1BWGOH0WeU0zipjXlUxezr62HGoh6bWXuqrS7jm7NmsWFBNZIyQaeke5NHXDhEJG1edOfukp5I50DVAcUH4hPfXTXkiIifJ3ekZjBEbcYoKwhRGQhweGObZpjae3N7K2p0djLhTXBCmqCDE4f7Y0SvDjoiGQ9TPKGZPRz9DsTjVJQVctKiGmrIoVSUFFIRDPLmtlRd2dxy92iwSMi5eXMNlS2opLyogGg5RWBBibmURC2tKj7m8urNviP98ZT//8eJe1u3qIBwyli+o5uqls7nld07L/U15E0lhISJTwfBInF1tfezv6qe+uoS66mIi4RA9gzEe39rCmo0HeGVvF519w3T2DRH3xLNcrjl7Nu86ew5DsTgPbjzAmlcP0NTaO+Y5KooizCiN0jc0Qt/QCL1DMdzh9FllfOD8+fQPjfDw5oO8dqCbXd98r8JCRGQqi8edwVh8zBsZ3Z3OvmEGYiMMxeIMDMfZ19lPU2svTS09dA/EKC0MUxKNUFFUwFVLZ3H2vIo3tTiaO/qon1Ga80tnRUTkFIRCdtw73s2M6lEP7TpjTjlXnMDx66pLMq/LCRxXRESmKYWFiIikpbAQEZG0FBYiIpKWwkJERNJSWIiISFoKCxERSUthISIiaeXNHdxm1g1syXU9JpFaoDXXlZhE9Hm8QZ/Fm033z2OBu89MVyif7uDekskt69OFma3T5/EGfR5v0GfxZvo8MqNNYmfJAAAE6klEQVRuKBERSUthISIiaeVTWNyV6wpMMvo83kyfxxv0WbyZPo8M5M0At4iIBCefWhYiIhKQvAgLM1tpZlvMbLuZ3Z7r+kw0M6s3s0fNbLOZbTSzzybXzzCzh8xsW/J3da7rOlHMLGxm683sV8nlRWb2XPKz+Hczi6Y7Rr4wsyoz+5mZvZb8jrxtun43zOxzyb+RV83sp2ZWNJ2/GydiyoeFmYWBVcC7gbOAG8zsrNzWasLFgC+4+1LgYuDW5GdwO/CIuzcCjySXp4vPAptTlr8JfDv5WXQAN+ekVrnxHeBBdz8TWEbic5l23w0zmw/8KbDC3d8ChIHrmd7fjYxN+bAALgS2u3uTuw8B9wLX5bhOE8rd97v7i8nX3ST+MZhP4nP4UbLYj4D356aGE8vM6oD3AD9ILhtwJfCzZJHp9FlUAJcBdwO4+5C7dzJNvxsk7i0rNrMIUALsZ5p+N05UPoTFfGBPynJzct20ZGYLgfOB54DZ7r4fEoECzMpdzSbUPwJfAuLJ5Rqg091jyeXp9B1ZDLQA/5rslvuBmZUyDb8b7r4X+HtgN4mQ6AJeYPp+N05IPoSFjbFuWl7iZWZlwM+BP3P3w7muTy6Y2XuBQ+7+QurqMYpOl+9IBLgA+J67nw/0Mg26nMaSHJe5DlgEzANKSXRfjzZdvhsnJB/CohmoT1muA/blqC45Y2YFJILix+5+f3L1QTObm9w+FziUq/pNoEuA95nZ6yS6JK8k0dKoSnY9wPT6jjQDze7+XHL5ZyTCYzp+N94J7HT3FncfBu4H3s70/W6ckHwIi7VAY/KKhiiJAavVOa7ThEr2yd8NbHb3b6VsWg3clHx9E/DLia7bRHP3L7t7nbsvJPFd+I27fwx4FPhQsti0+CwA3P0AsMfMzkiuugrYxDT8bpDofrrYzEqSfzNHPotp+d04UXlxU56ZXUvif49h4B53/3qOqzShzOwdwBPAK7zRT/+XJMYt7gMaSPyhfNjd23NSyRwws8uBP3f395rZYhItjRnAeuDj7j6Yy/pNFDM7j8RgfxRoAv6QxH8Up913w8z+J/BRElcQrgf+iMQYxbT8bpyIvAgLEREJVj50Q4mISMAUFiIikpbCQkRE0lJYiIhIWgoLERFJS2EhcgLMbMTMXkr5ydrd0Ga20MxezdbxRLIpkr6IiKTod/fzcl0JkYmmloVIFpjZ62b2TTN7PvlzenL9AjN7xMxeTv5uSK6fbWb/YWYbkj9vTx4qbGb/knzmwn+ZWXHO3pRICoWFyIkpHtUN9dGUbYfd/ULgn0jMKEDy9f9293OBHwPfTa7/LvBbd19GYq6mjcn1jcAqdz8b6AQ+GPD7EcmI7uAWOQFm1uPuZWOsfx240t2bkpM6HnD3GjNrBea6+3By/X53rzWzFqAudVqJ5PTyDyUfwoOZ/QVQ4O5fC/6diYxPLQuR7PHjvD5embGkzkk0gsYVZZJQWIhkz0dTfj+TfP00idlvAT4GPJl8/QjwaTj6vPCKiaqkyMnQ/1pETkyxmb2Usvygux+5fLbQzJ4j8Z+wG5Lr/hS4x8y+SOKJdX+YXP9Z4C4zu5lEC+LTJJ7eJjIpacxCJAuSYxYr3L0113URCYK6oUREJC21LEREJC21LEREJC2FhYiIpKWwEBGRtBQWIiKSlsJCRETSUliIiEha/x8j/CWHgaf3HwAAAABJRU5ErkJggg\u003d\u003d\n",
            "text/plain": [
              "\u003cFigure size 432x288 with 1 Axes\u003e"
            ]
          },
          "metadata": {
            "needs_background": "light"
          },
          "output_type": "display_data"
        }
      ],
      "source": [
        "history \u003d model.fit([train[\u0027userId\u0027], train[\u0027movieId\u0027],genres_train], train.rating,batch_size\u003d256, epochs\u003d100, verbose\u003d0)\n",
        "pd.Series(history.history[\u0027loss\u0027]).plot()\n",
        "plt.xlabel(\"Epoch\")\n",
        "plt.ylabel(\"Train Error\")\n"
      ]
    },
    {
      "cell_type": "code",
      "execution_count": 15,
      "metadata": {
        "pycharm": {
          "is_executing": false,
          "metadata": false,
          "name": "#%%\n"
        }
      },
      "outputs": [
        {
          "name": "stdout",
          "output_type": "stream",
          "text": [
            "MAE: 0.6709628702392185\n",
            "RMSE: 0.886185815843049\n"
          ]
        }
      ],
      "source": [
        "y_hat \u003d model.predict([test.userId, test.movieId,genres_test])\n",
        "y_true \u003d test.rating\n",
        "\n",
        "print(\"MAE:\",mean_absolute_error(y_true,y_hat))\n",
        "print(\"RMSE:\",sqrt(mean_squared_error(y_true, y_hat)))"
      ]
    }
  ],
  "metadata": {
    "kernelspec": {
      "display_name": "TF GPU",
      "language": "python",
      "name": "tf-gpu"
    },
    "language_info": {
      "codemirror_mode": {
        "name": "ipython",
        "version": 3
      },
      "file_extension": ".py",
      "mimetype": "text/x-python",
      "name": "python",
      "nbconvert_exporter": "python",
      "pygments_lexer": "ipython3",
      "version": "3.7.3"
    }
  },
  "nbformat": 4,
  "nbformat_minor": 1
}