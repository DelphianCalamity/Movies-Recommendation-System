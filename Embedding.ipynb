{
 "cells": [
  {
   "cell_type": "code",
   "execution_count": 1,
   "metadata": {
    "pycharm": {
     "is_executing": false
    }
   },
   "outputs": [
    {
     "name": "stderr",
     "output_type": "stream",
     "text": [
      "Using TensorFlow backend.\n"
     ]
    },
    {
     "name": "stdout",
     "output_type": "stream",
     "text": [
      "   userId  movieId  rating   timestamp             title\n",
      "0       0        0     4.0   964982703  Toy Story (1995)\n",
      "1       4        0     4.0   847434962  Toy Story (1995)\n",
      "2       6        0     4.5  1106635946  Toy Story (1995)\n",
      "3      14        0     2.5  1510577970  Toy Story (1995)\n",
      "4      16        0     4.5  1305696483  Toy Story (1995)\n"
     ]
    }
   ],
   "source": [
    "import pandas as pd\n",
    "from datetime import datetime\n",
    "from matplotlib import pyplot as plt\n",
    "\n",
    "import keras\n",
    "from IPython.display import SVG\n",
    "from keras.optimizers import Adam\n",
    "from keras.utils.vis_utils import model_to_dot\n",
    "from sklearn.metrics import mean_absolute_error\n",
    "\n",
    "\n",
    "ratings = pd.read_csv('ml-latest-small/ratings.csv')\n",
    "movies = pd.read_csv('ml-latest-small/movies.csv')\n",
    "#print(movies.head())\n",
    "\n",
    "ratings = pd.merge(ratings, movies, left_on='movieId', right_on='movieId')\n",
    "\n",
    "ratings = ratings.drop('genres', 1)\n",
    "\n",
    "\n",
    "ratings.userId = ratings.userId.astype('category').cat.codes.values\n",
    "ratings.movieId = ratings.movieId.astype('category').cat.codes.values\n",
    "\n",
    "print(ratings.head())"
   ]
  },
  {
   "cell_type": "code",
   "execution_count": 2,
   "metadata": {
    "pycharm": {
     "is_executing": false,
     "metadata": false,
     "name": "#%% \n"
    }
   },
   "outputs": [
    {
     "data": {
      "text/plain": [
       "<matplotlib.axes._subplots.AxesSubplot at 0x2235e1fbf60>"
      ]
     },
     "execution_count": 2,
     "metadata": {},
     "output_type": "execute_result"
    },
    {
     "data": {
      "image/png": "[encoded data removed]",
      "text/plain": [
       "<Figure size 432x288 with 1 Axes>"
      ]
     },
     "metadata": {
      "needs_background": "light"
     },
     "output_type": "display_data"
    }
   ],
   "source": [
    "#Convert timestamps to dates\n",
    "ratings['timestamp'] = ratings['timestamp'].apply(lambda x: datetime.fromtimestamp(x).strftime('%Y-%m-%d'))\n",
    "ratings['timestamp'] = pd.to_datetime(ratings['timestamp'])\n",
    "\n",
    "#plot timestamps frequencies\n",
    "ratings[\"timestamp\"].groupby(ratings[\"timestamp\"].dt.year).count().plot(kind=\"bar\",)"
   ]
  },
  {
   "cell_type": "code",
   "execution_count": 3,
   "metadata": {
    "pycharm": {
     "is_executing": false,
     "metadata": false,
     "name": "#%%\n"
    }
   },
   "outputs": [
    {
     "data": {
      "text/plain": [
       "<matplotlib.axes._subplots.AxesSubplot at 0x223638766a0>"
      ]
     },
     "execution_count": 3,
     "metadata": {},
     "output_type": "execute_result"
    },
    {
     "data": {
      "image/png": "[encoded data removed]",
      "text/plain": [
       "<Figure size 432x288 with 1 Axes>"
      ]
     },
     "metadata": {
      "needs_background": "light"
     },
     "output_type": "display_data"
    }
   ],
   "source": [
    "# Plot ratings frequencies\n",
    "ratings['rating'].groupby(ratings['rating']).count().plot(kind='bar')"
   ]
  },
  {
   "cell_type": "code",
   "execution_count": 4,
   "metadata": {
    "pycharm": {
     "is_executing": false,
     "metadata": false,
     "name": "#%% Plot dates frequencies\n"
    }
   },
   "outputs": [],
   "source": [
    "#train = ratings[(ratings['timestamp'] < '2017-07-01') ]\n",
    "#test = ratings[(ratings['timestamp'] >= '2017-07-01') ]\n",
    "\n",
    "ratings = ratings.drop('timestamp', 1)"
   ]
  },
  {
   "cell_type": "code",
   "execution_count": 5,
   "metadata": {
    "pycharm": {
     "is_executing": false,
     "metadata": false,
     "name": "#%%\n"
    }
   },
   "outputs": [],
   "source": [
    "from sklearn.model_selection import train_test_split\n",
    "train, test = train_test_split(ratings, test_size=0.05)"
   ]
  },
  {
   "cell_type": "code",
   "execution_count": 6,
   "metadata": {
    "pycharm": {
     "is_executing": false,
     "metadata": false,
     "name": "#%%\n"
    }
   },
   "outputs": [
    {
     "name": "stdout",
     "output_type": "stream",
     "text": [
      "Number of rows in test data set: 5042\n",
      "Number of rows in training data set: 95794\n",
      "Number of users: 610\n",
      "Number of movies: 9724\n"
     ]
    }
   ],
   "source": [
    "print(\"Number of rows in test data set:\", (len(test)))\n",
    "print(\"Number of rows in training data set:\",(len(train)))\n",
    "n_users, n_movies = len(ratings['userId'].unique()), len(ratings['movieId'].unique())\n",
    "\n",
    "print(\"Number of users:\",n_users)\n",
    "print(\"Number of movies:\",n_movies)"
   ]
  },
  {
   "cell_type": "markdown",
   "metadata": {
    "pycharm": {}
   },
   "source": [
    "# Embedding only"
   ]
  },
  {
   "cell_type": "code",
   "execution_count": 7,
   "metadata": {
    "pycharm": {
     "is_executing": false,
     "metadata": false,
     "name": "#%%\n"
    }
   },
   "outputs": [
    {
     "name": "stdout",
     "output_type": "stream",
     "text": []
    }
   ],
   "source": [
    "n_latent_factors = 3\n",
    "movie_input = keras.layers.Input(shape=[1],name='Movie')\n",
    "movie_embedding = keras.layers.Embedding(n_movies + 1, n_latent_factors, name='Movie-Embedding')(movie_input)\n",
    "movie_vec = keras.layers.Flatten(name='FlattenMovies')(movie_embedding)\n",
    "\n",
    "user_input = keras.layers.Input(shape=[1],name='User')\n",
    "user_vec = keras.layers.Flatten(name='FlattenUsers')(keras.layers.Embedding(n_users + 1, n_latent_factors,name='User-Embedding')(user_input))\n",
    "\n",
    "prod = keras.layers.dot([movie_vec, user_vec],axes=-1)\n",
    "\n",
    "model = keras.Model([user_input, movie_input], prod)\n",
    "model.compile(optimizer=Adam(),loss= 'mean_absolute_error')\n"
   ]
  },
  {
   "cell_type": "code",
   "execution_count": 8,
   "metadata": {},
   "outputs": [
    {
     "data": {
      "image/svg+xml": [
       "<svg height=\"304pt\" viewBox=\"0.00 0.00 679.50 304.00\" width=\"680pt\" xmlns=\"http://www.w3.org/2000/svg\" xmlns:xlink=\"http://www.w3.org/1999/xlink\">\n",
       "<g class=\"graph\" id=\"graph0\" transform=\"scale(1 1) rotate(0) translate(4 300)\">\n",
       "<title>G</title>\n",
       "<polygon fill=\"white\" points=\"-4,4 -4,-300 675.5,-300 675.5,4 -4,4\" stroke=\"none\"/>\n",
       "<!-- 2351020392632 -->\n",
       "<g class=\"node\" id=\"node1\"><title>2351020392632</title>\n",
       "<polygon fill=\"none\" points=\"43,-249.5 43,-295.5 288,-295.5 288,-249.5 43,-249.5\" stroke=\"black\"/>\n",
       "<text font-family=\"Times New Roman,serif\" font-size=\"14.00\" text-anchor=\"middle\" x=\"102.5\" y=\"-268.8\">Movie: InputLayer</text>\n",
       "<polyline fill=\"none\" points=\"162,-249.5 162,-295.5 \" stroke=\"black\"/>\n",
       "<text font-family=\"Times New Roman,serif\" font-size=\"14.00\" text-anchor=\"middle\" x=\"190\" y=\"-280.3\">input:</text>\n",
       "<polyline fill=\"none\" points=\"162,-272.5 218,-272.5 \" stroke=\"black\"/>\n",
       "<text font-family=\"Times New Roman,serif\" font-size=\"14.00\" text-anchor=\"middle\" x=\"190\" y=\"-257.3\">output:</text>\n",
       "<polyline fill=\"none\" points=\"218,-249.5 218,-295.5 \" stroke=\"black\"/>\n",
       "<text font-family=\"Times New Roman,serif\" font-size=\"14.00\" text-anchor=\"middle\" x=\"253\" y=\"-280.3\">(None, 1)</text>\n",
       "<polyline fill=\"none\" points=\"218,-272.5 288,-272.5 \" stroke=\"black\"/>\n",
       "<text font-family=\"Times New Roman,serif\" font-size=\"14.00\" text-anchor=\"middle\" x=\"253\" y=\"-257.3\">(None, 1)</text>\n",
       "</g>\n",
       "<!-- 2351020023032 -->\n",
       "<g class=\"node\" id=\"node3\"><title>2351020023032</title>\n",
       "<polygon fill=\"none\" points=\"0,-166.5 0,-212.5 331,-212.5 331,-166.5 0,-166.5\" stroke=\"black\"/>\n",
       "<text font-family=\"Times New Roman,serif\" font-size=\"14.00\" text-anchor=\"middle\" x=\"95.5\" y=\"-185.8\">Movie-Embedding: Embedding</text>\n",
       "<polyline fill=\"none\" points=\"191,-166.5 191,-212.5 \" stroke=\"black\"/>\n",
       "<text font-family=\"Times New Roman,serif\" font-size=\"14.00\" text-anchor=\"middle\" x=\"219\" y=\"-197.3\">input:</text>\n",
       "<polyline fill=\"none\" points=\"191,-189.5 247,-189.5 \" stroke=\"black\"/>\n",
       "<text font-family=\"Times New Roman,serif\" font-size=\"14.00\" text-anchor=\"middle\" x=\"219\" y=\"-174.3\">output:</text>\n",
       "<polyline fill=\"none\" points=\"247,-166.5 247,-212.5 \" stroke=\"black\"/>\n",
       "<text font-family=\"Times New Roman,serif\" font-size=\"14.00\" text-anchor=\"middle\" x=\"289\" y=\"-197.3\">(None, 1)</text>\n",
       "<polyline fill=\"none\" points=\"247,-189.5 331,-189.5 \" stroke=\"black\"/>\n",
       "<text font-family=\"Times New Roman,serif\" font-size=\"14.00\" text-anchor=\"middle\" x=\"289\" y=\"-174.3\">(None, 1, 3)</text>\n",
       "</g>\n",
       "<!-- 2351020392632&#45;&gt;2351020023032 -->\n",
       "<g class=\"edge\" id=\"edge1\"><title>2351020392632-&gt;2351020023032</title>\n",
       "<path d=\"M165.5,-249.366C165.5,-241.152 165.5,-231.658 165.5,-222.725\" fill=\"none\" stroke=\"black\"/>\n",
       "<polygon fill=\"black\" points=\"169,-222.607 165.5,-212.607 162,-222.607 169,-222.607\" stroke=\"black\"/>\n",
       "</g>\n",
       "<!-- 2351020271544 -->\n",
       "<g class=\"node\" id=\"node2\"><title>2351020271544</title>\n",
       "<polygon fill=\"none\" points=\"392.5,-249.5 392.5,-295.5 628.5,-295.5 628.5,-249.5 392.5,-249.5\" stroke=\"black\"/>\n",
       "<text font-family=\"Times New Roman,serif\" font-size=\"14.00\" text-anchor=\"middle\" x=\"447.5\" y=\"-268.8\">User: InputLayer</text>\n",
       "<polyline fill=\"none\" points=\"502.5,-249.5 502.5,-295.5 \" stroke=\"black\"/>\n",
       "<text font-family=\"Times New Roman,serif\" font-size=\"14.00\" text-anchor=\"middle\" x=\"530.5\" y=\"-280.3\">input:</text>\n",
       "<polyline fill=\"none\" points=\"502.5,-272.5 558.5,-272.5 \" stroke=\"black\"/>\n",
       "<text font-family=\"Times New Roman,serif\" font-size=\"14.00\" text-anchor=\"middle\" x=\"530.5\" y=\"-257.3\">output:</text>\n",
       "<polyline fill=\"none\" points=\"558.5,-249.5 558.5,-295.5 \" stroke=\"black\"/>\n",
       "<text font-family=\"Times New Roman,serif\" font-size=\"14.00\" text-anchor=\"middle\" x=\"593.5\" y=\"-280.3\">(None, 1)</text>\n",
       "<polyline fill=\"none\" points=\"558.5,-272.5 628.5,-272.5 \" stroke=\"black\"/>\n",
       "<text font-family=\"Times New Roman,serif\" font-size=\"14.00\" text-anchor=\"middle\" x=\"593.5\" y=\"-257.3\">(None, 1)</text>\n",
       "</g>\n",
       "<!-- 2351020395432 -->\n",
       "<g class=\"node\" id=\"node4\"><title>2351020395432</title>\n",
       "<polygon fill=\"none\" points=\"349.5,-166.5 349.5,-212.5 671.5,-212.5 671.5,-166.5 349.5,-166.5\" stroke=\"black\"/>\n",
       "<text font-family=\"Times New Roman,serif\" font-size=\"14.00\" text-anchor=\"middle\" x=\"440.5\" y=\"-185.8\">User-Embedding: Embedding</text>\n",
       "<polyline fill=\"none\" points=\"531.5,-166.5 531.5,-212.5 \" stroke=\"black\"/>\n",
       "<text font-family=\"Times New Roman,serif\" font-size=\"14.00\" text-anchor=\"middle\" x=\"559.5\" y=\"-197.3\">input:</text>\n",
       "<polyline fill=\"none\" points=\"531.5,-189.5 587.5,-189.5 \" stroke=\"black\"/>\n",
       "<text font-family=\"Times New Roman,serif\" font-size=\"14.00\" text-anchor=\"middle\" x=\"559.5\" y=\"-174.3\">output:</text>\n",
       "<polyline fill=\"none\" points=\"587.5,-166.5 587.5,-212.5 \" stroke=\"black\"/>\n",
       "<text font-family=\"Times New Roman,serif\" font-size=\"14.00\" text-anchor=\"middle\" x=\"629.5\" y=\"-197.3\">(None, 1)</text>\n",
       "<polyline fill=\"none\" points=\"587.5,-189.5 671.5,-189.5 \" stroke=\"black\"/>\n",
       "<text font-family=\"Times New Roman,serif\" font-size=\"14.00\" text-anchor=\"middle\" x=\"629.5\" y=\"-174.3\">(None, 1, 3)</text>\n",
       "</g>\n",
       "<!-- 2351020271544&#45;&gt;2351020395432 -->\n",
       "<g class=\"edge\" id=\"edge2\"><title>2351020271544-&gt;2351020395432</title>\n",
       "<path d=\"M510.5,-249.366C510.5,-241.152 510.5,-231.658 510.5,-222.725\" fill=\"none\" stroke=\"black\"/>\n",
       "<polygon fill=\"black\" points=\"514,-222.607 510.5,-212.607 507,-222.607 514,-222.607\" stroke=\"black\"/>\n",
       "</g>\n",
       "<!-- 2351020271936 -->\n",
       "<g class=\"node\" id=\"node5\"><title>2351020271936</title>\n",
       "<polygon fill=\"none\" points=\"50.5,-83.5 50.5,-129.5 330.5,-129.5 330.5,-83.5 50.5,-83.5\" stroke=\"black\"/>\n",
       "<text font-family=\"Times New Roman,serif\" font-size=\"14.00\" text-anchor=\"middle\" x=\"120.5\" y=\"-102.8\">FlattenMovies: Flatten</text>\n",
       "<polyline fill=\"none\" points=\"190.5,-83.5 190.5,-129.5 \" stroke=\"black\"/>\n",
       "<text font-family=\"Times New Roman,serif\" font-size=\"14.00\" text-anchor=\"middle\" x=\"218.5\" y=\"-114.3\">input:</text>\n",
       "<polyline fill=\"none\" points=\"190.5,-106.5 246.5,-106.5 \" stroke=\"black\"/>\n",
       "<text font-family=\"Times New Roman,serif\" font-size=\"14.00\" text-anchor=\"middle\" x=\"218.5\" y=\"-91.3\">output:</text>\n",
       "<polyline fill=\"none\" points=\"246.5,-83.5 246.5,-129.5 \" stroke=\"black\"/>\n",
       "<text font-family=\"Times New Roman,serif\" font-size=\"14.00\" text-anchor=\"middle\" x=\"288.5\" y=\"-114.3\">(None, 1, 3)</text>\n",
       "<polyline fill=\"none\" points=\"246.5,-106.5 330.5,-106.5 \" stroke=\"black\"/>\n",
       "<text font-family=\"Times New Roman,serif\" font-size=\"14.00\" text-anchor=\"middle\" x=\"288.5\" y=\"-91.3\">(None, 3)</text>\n",
       "</g>\n",
       "<!-- 2351020023032&#45;&gt;2351020271936 -->\n",
       "<g class=\"edge\" id=\"edge3\"><title>2351020023032-&gt;2351020271936</title>\n",
       "<path d=\"M172.331,-166.366C174.894,-158.062 177.861,-148.451 180.644,-139.434\" fill=\"none\" stroke=\"black\"/>\n",
       "<polygon fill=\"black\" points=\"184.072,-140.194 183.677,-129.607 177.383,-138.13 184.072,-140.194\" stroke=\"black\"/>\n",
       "</g>\n",
       "<!-- 2351020392688 -->\n",
       "<g class=\"node\" id=\"node6\"><title>2351020392688</title>\n",
       "<polygon fill=\"none\" points=\"362,-83.5 362,-129.5 633,-129.5 633,-83.5 362,-83.5\" stroke=\"black\"/>\n",
       "<text font-family=\"Times New Roman,serif\" font-size=\"14.00\" text-anchor=\"middle\" x=\"427.5\" y=\"-102.8\">FlattenUsers: Flatten</text>\n",
       "<polyline fill=\"none\" points=\"493,-83.5 493,-129.5 \" stroke=\"black\"/>\n",
       "<text font-family=\"Times New Roman,serif\" font-size=\"14.00\" text-anchor=\"middle\" x=\"521\" y=\"-114.3\">input:</text>\n",
       "<polyline fill=\"none\" points=\"493,-106.5 549,-106.5 \" stroke=\"black\"/>\n",
       "<text font-family=\"Times New Roman,serif\" font-size=\"14.00\" text-anchor=\"middle\" x=\"521\" y=\"-91.3\">output:</text>\n",
       "<polyline fill=\"none\" points=\"549,-83.5 549,-129.5 \" stroke=\"black\"/>\n",
       "<text font-family=\"Times New Roman,serif\" font-size=\"14.00\" text-anchor=\"middle\" x=\"591\" y=\"-114.3\">(None, 1, 3)</text>\n",
       "<polyline fill=\"none\" points=\"549,-106.5 633,-106.5 \" stroke=\"black\"/>\n",
       "<text font-family=\"Times New Roman,serif\" font-size=\"14.00\" text-anchor=\"middle\" x=\"591\" y=\"-91.3\">(None, 3)</text>\n",
       "</g>\n",
       "<!-- 2351020395432&#45;&gt;2351020392688 -->\n",
       "<g class=\"edge\" id=\"edge4\"><title>2351020395432-&gt;2351020392688</title>\n",
       "<path d=\"M506.948,-166.366C505.629,-158.152 504.106,-148.658 502.672,-139.725\" fill=\"none\" stroke=\"black\"/>\n",
       "<polygon fill=\"black\" points=\"506.089,-138.926 501.048,-129.607 499.177,-140.035 506.089,-138.926\" stroke=\"black\"/>\n",
       "</g>\n",
       "<!-- 2351020393416 -->\n",
       "<g class=\"node\" id=\"node7\"><title>2351020393416</title>\n",
       "<polygon fill=\"none\" points=\"207,-0.5 207,-46.5 480,-46.5 480,-0.5 207,-0.5\" stroke=\"black\"/>\n",
       "<text font-family=\"Times New Roman,serif\" font-size=\"14.00\" text-anchor=\"middle\" x=\"245.5\" y=\"-19.8\">dot_1: Dot</text>\n",
       "<polyline fill=\"none\" points=\"284,-0.5 284,-46.5 \" stroke=\"black\"/>\n",
       "<text font-family=\"Times New Roman,serif\" font-size=\"14.00\" text-anchor=\"middle\" x=\"312\" y=\"-31.3\">input:</text>\n",
       "<polyline fill=\"none\" points=\"284,-23.5 340,-23.5 \" stroke=\"black\"/>\n",
       "<text font-family=\"Times New Roman,serif\" font-size=\"14.00\" text-anchor=\"middle\" x=\"312\" y=\"-8.3\">output:</text>\n",
       "<polyline fill=\"none\" points=\"340,-0.5 340,-46.5 \" stroke=\"black\"/>\n",
       "<text font-family=\"Times New Roman,serif\" font-size=\"14.00\" text-anchor=\"middle\" x=\"410\" y=\"-31.3\">[(None, 3), (None, 3)]</text>\n",
       "<polyline fill=\"none\" points=\"340,-23.5 480,-23.5 \" stroke=\"black\"/>\n",
       "<text font-family=\"Times New Roman,serif\" font-size=\"14.00\" text-anchor=\"middle\" x=\"410\" y=\"-8.3\">(None, 1)</text>\n",
       "</g>\n",
       "<!-- 2351020271936&#45;&gt;2351020393416 -->\n",
       "<g class=\"edge\" id=\"edge5\"><title>2351020271936-&gt;2351020393416</title>\n",
       "<path d=\"M232.308,-83.3664C250.945,-73.4998 273.067,-61.7881 292.652,-51.4194\" fill=\"none\" stroke=\"black\"/>\n",
       "<polygon fill=\"black\" points=\"294.542,-54.379 301.743,-46.6068 291.267,-48.1925 294.542,-54.379\" stroke=\"black\"/>\n",
       "</g>\n",
       "<!-- 2351020392688&#45;&gt;2351020393416 -->\n",
       "<g class=\"edge\" id=\"edge6\"><title>2351020392688-&gt;2351020393416</title>\n",
       "<path d=\"M455.419,-83.3664C436.575,-73.4551 414.192,-61.682 394.413,-51.2787\" fill=\"none\" stroke=\"black\"/>\n",
       "<polygon fill=\"black\" points=\"396.01,-48.1643 385.53,-46.6068 392.751,-54.3596 396.01,-48.1643\" stroke=\"black\"/>\n",
       "</g>\n",
       "</g>\n",
       "</svg>"
      ],
      "text/plain": [
       "<IPython.core.display.SVG object>"
      ]
     },
     "execution_count": 8,
     "metadata": {},
     "output_type": "execute_result"
    }
   ],
   "source": [
    "#visualize model\n",
    "SVG(model_to_dot(model,show_shapes=True, rankdir='HB').create(prog='dot', format='svg'))"
   ]
  },
  {
   "cell_type": "code",
   "execution_count": 9,
   "metadata": {
    "pycharm": {}
   },
   "outputs": [
    {
     "name": "stdout",
     "output_type": "stream",
     "text": []
    },
    {
     "data": {
      "text/plain": [
       "Text(0, 0.5, 'Train Error')"
      ]
     },
     "execution_count": 9,
     "metadata": {},
     "output_type": "execute_result"
    },
    {
     "data": {
      "image/png": "[encoded data removed]",
      "text/plain": [
       "<Figure size 432x288 with 1 Axes>"
      ]
     },
     "metadata": {
      "needs_background": "light"
     },
     "output_type": "display_data"
    }
   ],
   "source": [
    "history = model.fit([train['userId'], train['movieId']], train.rating,batch_size=128, epochs=100, verbose=0)\n",
    "pd.Series(history.history['loss']).plot()\n",
    "plt.xlabel(\"Epoch\")\n",
    "plt.ylabel(\"Train Error\")"
   ]
  },
  {
   "cell_type": "code",
   "execution_count": 10,
   "metadata": {
    "pycharm": {
     "is_executing": false,
     "metadata": false,
     "name": "#%%\n"
    }
   },
   "outputs": [
    {
     "data": {
      "text/plain": [
       "0.769539007194311"
      ]
     },
     "execution_count": 10,
     "metadata": {},
     "output_type": "execute_result"
    }
   ],
   "source": [
    "y_hat = model.predict([test.userId, test.movieId])\n",
    "y_true = test.rating\n",
    "\n",
    "mean_absolute_error(y_true,y_hat)"
   ]
  },
  {
   "cell_type": "markdown",
   "metadata": {
    "pycharm": {}
   },
   "source": [
    "# Embedding & Neural Network"
   ]
  },
  {
   "cell_type": "code",
   "execution_count": 11,
   "metadata": {
    "pycharm": {
     "is_executing": false,
     "metadata": false,
     "name": "#%%\n"
    }
   },
   "outputs": [
    {
     "name": "stdout",
     "output_type": "stream",
     "text": []
    }
   ],
   "source": [
    "n_latent_factors_user = 5\n",
    "n_latent_factors_movie = 8\n",
    "\n",
    "movie_input = keras.layers.Input(shape=[1],name='Movie')\n",
    "movie_embedding = keras.layers.Embedding(n_movies + 1, n_latent_factors_movie, name='Movie-Embedding')(movie_input)\n",
    "movie_vec = keras.layers.Flatten(name='FlattenMovies')(movie_embedding)\n",
    "movie_vec = keras.layers.Dropout(0.5)(movie_vec)\n",
    "\n",
    "\n",
    "user_input = keras.layers.Input(shape=[1],name='User')\n",
    "user_vec = keras.layers.Flatten(name='FlattenUsers')(keras.layers.Embedding(n_users + 1, n_latent_factors_user,name='User-Embedding')(user_input))\n",
    "user_vec = keras.layers.Dropout(0.5)(user_vec)\n",
    "\n",
    "\n",
    "concat = keras.layers.concatenate([movie_vec, user_vec])\n",
    "concat_dropout = keras.layers.Dropout(0.2)(concat)\n",
    "dense = keras.layers.Dense(200,name='FullyConnected')(concat)\n",
    "dropout_1 = keras.layers.Dropout(0.2,name='Dropout')(dense)\n",
    "dense_2 = keras.layers.Dense(100,name='FullyConnected-1')(concat)\n",
    "dropout_2 = keras.layers.Dropout(0.2,name='Dropout')(dense_2)\n",
    "dense_3 = keras.layers.Dense(50,name='FullyConnected-2')(dense_2)\n",
    "dropout_3 = keras.layers.Dropout(0.2,name='Dropout')(dense_3)\n",
    "dense_4 = keras.layers.Dense(20,name='FullyConnected-3', activation='relu')(dense_3)\n",
    "\n",
    "\n",
    "result = keras.layers.Dense(1, activation='relu',name='Activation')(dense_4)\n",
    "model = keras.Model([user_input, movie_input], result)\n",
    "model.compile(optimizer=Adam(lr=0.001),loss= 'mean_absolute_error')\n"
   ]
  },
  {
   "cell_type": "code",
   "execution_count": 12,
   "metadata": {},
   "outputs": [
    {
     "data": {
      "image/svg+xml": [
       "<svg height=\"719pt\" viewBox=\"0.00 0.00 679.50 719.00\" width=\"680pt\" xmlns=\"http://www.w3.org/2000/svg\" xmlns:xlink=\"http://www.w3.org/1999/xlink\">\n",
       "<g class=\"graph\" id=\"graph0\" transform=\"scale(1 1) rotate(0) translate(4 715)\">\n",
       "<title>G</title>\n",
       "<polygon fill=\"white\" points=\"-4,4 -4,-715 675.5,-715 675.5,4 -4,4\" stroke=\"none\"/>\n",
       "<!-- 2351025437272 -->\n",
       "<g class=\"node\" id=\"node1\"><title>2351025437272</title>\n",
       "<polygon fill=\"none\" points=\"43,-664.5 43,-710.5 288,-710.5 288,-664.5 43,-664.5\" stroke=\"black\"/>\n",
       "<text font-family=\"Times New Roman,serif\" font-size=\"14.00\" text-anchor=\"middle\" x=\"102.5\" y=\"-683.8\">Movie: InputLayer</text>\n",
       "<polyline fill=\"none\" points=\"162,-664.5 162,-710.5 \" stroke=\"black\"/>\n",
       "<text font-family=\"Times New Roman,serif\" font-size=\"14.00\" text-anchor=\"middle\" x=\"190\" y=\"-695.3\">input:</text>\n",
       "<polyline fill=\"none\" points=\"162,-687.5 218,-687.5 \" stroke=\"black\"/>\n",
       "<text font-family=\"Times New Roman,serif\" font-size=\"14.00\" text-anchor=\"middle\" x=\"190\" y=\"-672.3\">output:</text>\n",
       "<polyline fill=\"none\" points=\"218,-664.5 218,-710.5 \" stroke=\"black\"/>\n",
       "<text font-family=\"Times New Roman,serif\" font-size=\"14.00\" text-anchor=\"middle\" x=\"253\" y=\"-695.3\">(None, 1)</text>\n",
       "<polyline fill=\"none\" points=\"218,-687.5 288,-687.5 \" stroke=\"black\"/>\n",
       "<text font-family=\"Times New Roman,serif\" font-size=\"14.00\" text-anchor=\"middle\" x=\"253\" y=\"-672.3\">(None, 1)</text>\n",
       "</g>\n",
       "<!-- 2351016929656 -->\n",
       "<g class=\"node\" id=\"node3\"><title>2351016929656</title>\n",
       "<polygon fill=\"none\" points=\"0,-581.5 0,-627.5 331,-627.5 331,-581.5 0,-581.5\" stroke=\"black\"/>\n",
       "<text font-family=\"Times New Roman,serif\" font-size=\"14.00\" text-anchor=\"middle\" x=\"95.5\" y=\"-600.8\">Movie-Embedding: Embedding</text>\n",
       "<polyline fill=\"none\" points=\"191,-581.5 191,-627.5 \" stroke=\"black\"/>\n",
       "<text font-family=\"Times New Roman,serif\" font-size=\"14.00\" text-anchor=\"middle\" x=\"219\" y=\"-612.3\">input:</text>\n",
       "<polyline fill=\"none\" points=\"191,-604.5 247,-604.5 \" stroke=\"black\"/>\n",
       "<text font-family=\"Times New Roman,serif\" font-size=\"14.00\" text-anchor=\"middle\" x=\"219\" y=\"-589.3\">output:</text>\n",
       "<polyline fill=\"none\" points=\"247,-581.5 247,-627.5 \" stroke=\"black\"/>\n",
       "<text font-family=\"Times New Roman,serif\" font-size=\"14.00\" text-anchor=\"middle\" x=\"289\" y=\"-612.3\">(None, 1)</text>\n",
       "<polyline fill=\"none\" points=\"247,-604.5 331,-604.5 \" stroke=\"black\"/>\n",
       "<text font-family=\"Times New Roman,serif\" font-size=\"14.00\" text-anchor=\"middle\" x=\"289\" y=\"-589.3\">(None, 1, 8)</text>\n",
       "</g>\n",
       "<!-- 2351025437272&#45;&gt;2351016929656 -->\n",
       "<g class=\"edge\" id=\"edge1\"><title>2351025437272-&gt;2351016929656</title>\n",
       "<path d=\"M165.5,-664.366C165.5,-656.152 165.5,-646.658 165.5,-637.725\" fill=\"none\" stroke=\"black\"/>\n",
       "<polygon fill=\"black\" points=\"169,-637.607 165.5,-627.607 162,-637.607 169,-637.607\" stroke=\"black\"/>\n",
       "</g>\n",
       "<!-- 2351021475880 -->\n",
       "<g class=\"node\" id=\"node2\"><title>2351021475880</title>\n",
       "<polygon fill=\"none\" points=\"392.5,-664.5 392.5,-710.5 628.5,-710.5 628.5,-664.5 392.5,-664.5\" stroke=\"black\"/>\n",
       "<text font-family=\"Times New Roman,serif\" font-size=\"14.00\" text-anchor=\"middle\" x=\"447.5\" y=\"-683.8\">User: InputLayer</text>\n",
       "<polyline fill=\"none\" points=\"502.5,-664.5 502.5,-710.5 \" stroke=\"black\"/>\n",
       "<text font-family=\"Times New Roman,serif\" font-size=\"14.00\" text-anchor=\"middle\" x=\"530.5\" y=\"-695.3\">input:</text>\n",
       "<polyline fill=\"none\" points=\"502.5,-687.5 558.5,-687.5 \" stroke=\"black\"/>\n",
       "<text font-family=\"Times New Roman,serif\" font-size=\"14.00\" text-anchor=\"middle\" x=\"530.5\" y=\"-672.3\">output:</text>\n",
       "<polyline fill=\"none\" points=\"558.5,-664.5 558.5,-710.5 \" stroke=\"black\"/>\n",
       "<text font-family=\"Times New Roman,serif\" font-size=\"14.00\" text-anchor=\"middle\" x=\"593.5\" y=\"-695.3\">(None, 1)</text>\n",
       "<polyline fill=\"none\" points=\"558.5,-687.5 628.5,-687.5 \" stroke=\"black\"/>\n",
       "<text font-family=\"Times New Roman,serif\" font-size=\"14.00\" text-anchor=\"middle\" x=\"593.5\" y=\"-672.3\">(None, 1)</text>\n",
       "</g>\n",
       "<!-- 2351025495680 -->\n",
       "<g class=\"node\" id=\"node4\"><title>2351025495680</title>\n",
       "<polygon fill=\"none\" points=\"349.5,-581.5 349.5,-627.5 671.5,-627.5 671.5,-581.5 349.5,-581.5\" stroke=\"black\"/>\n",
       "<text font-family=\"Times New Roman,serif\" font-size=\"14.00\" text-anchor=\"middle\" x=\"440.5\" y=\"-600.8\">User-Embedding: Embedding</text>\n",
       "<polyline fill=\"none\" points=\"531.5,-581.5 531.5,-627.5 \" stroke=\"black\"/>\n",
       "<text font-family=\"Times New Roman,serif\" font-size=\"14.00\" text-anchor=\"middle\" x=\"559.5\" y=\"-612.3\">input:</text>\n",
       "<polyline fill=\"none\" points=\"531.5,-604.5 587.5,-604.5 \" stroke=\"black\"/>\n",
       "<text font-family=\"Times New Roman,serif\" font-size=\"14.00\" text-anchor=\"middle\" x=\"559.5\" y=\"-589.3\">output:</text>\n",
       "<polyline fill=\"none\" points=\"587.5,-581.5 587.5,-627.5 \" stroke=\"black\"/>\n",
       "<text font-family=\"Times New Roman,serif\" font-size=\"14.00\" text-anchor=\"middle\" x=\"629.5\" y=\"-612.3\">(None, 1)</text>\n",
       "<polyline fill=\"none\" points=\"587.5,-604.5 671.5,-604.5 \" stroke=\"black\"/>\n",
       "<text font-family=\"Times New Roman,serif\" font-size=\"14.00\" text-anchor=\"middle\" x=\"629.5\" y=\"-589.3\">(None, 1, 5)</text>\n",
       "</g>\n",
       "<!-- 2351021475880&#45;&gt;2351025495680 -->\n",
       "<g class=\"edge\" id=\"edge2\"><title>2351021475880-&gt;2351025495680</title>\n",
       "<path d=\"M510.5,-664.366C510.5,-656.152 510.5,-646.658 510.5,-637.725\" fill=\"none\" stroke=\"black\"/>\n",
       "<polygon fill=\"black\" points=\"514,-637.607 510.5,-627.607 507,-637.607 514,-637.607\" stroke=\"black\"/>\n",
       "</g>\n",
       "<!-- 2351021483904 -->\n",
       "<g class=\"node\" id=\"node5\"><title>2351021483904</title>\n",
       "<polygon fill=\"none\" points=\"50.5,-498.5 50.5,-544.5 330.5,-544.5 330.5,-498.5 50.5,-498.5\" stroke=\"black\"/>\n",
       "<text font-family=\"Times New Roman,serif\" font-size=\"14.00\" text-anchor=\"middle\" x=\"120.5\" y=\"-517.8\">FlattenMovies: Flatten</text>\n",
       "<polyline fill=\"none\" points=\"190.5,-498.5 190.5,-544.5 \" stroke=\"black\"/>\n",
       "<text font-family=\"Times New Roman,serif\" font-size=\"14.00\" text-anchor=\"middle\" x=\"218.5\" y=\"-529.3\">input:</text>\n",
       "<polyline fill=\"none\" points=\"190.5,-521.5 246.5,-521.5 \" stroke=\"black\"/>\n",
       "<text font-family=\"Times New Roman,serif\" font-size=\"14.00\" text-anchor=\"middle\" x=\"218.5\" y=\"-506.3\">output:</text>\n",
       "<polyline fill=\"none\" points=\"246.5,-498.5 246.5,-544.5 \" stroke=\"black\"/>\n",
       "<text font-family=\"Times New Roman,serif\" font-size=\"14.00\" text-anchor=\"middle\" x=\"288.5\" y=\"-529.3\">(None, 1, 8)</text>\n",
       "<polyline fill=\"none\" points=\"246.5,-521.5 330.5,-521.5 \" stroke=\"black\"/>\n",
       "<text font-family=\"Times New Roman,serif\" font-size=\"14.00\" text-anchor=\"middle\" x=\"288.5\" y=\"-506.3\">(None, 8)</text>\n",
       "</g>\n",
       "<!-- 2351016929656&#45;&gt;2351021483904 -->\n",
       "<g class=\"edge\" id=\"edge3\"><title>2351016929656-&gt;2351021483904</title>\n",
       "<path d=\"M172.331,-581.366C174.894,-573.062 177.861,-563.451 180.644,-554.434\" fill=\"none\" stroke=\"black\"/>\n",
       "<polygon fill=\"black\" points=\"184.072,-555.194 183.677,-544.607 177.383,-553.13 184.072,-555.194\" stroke=\"black\"/>\n",
       "</g>\n",
       "<!-- 2351025437496 -->\n",
       "<g class=\"node\" id=\"node6\"><title>2351025437496</title>\n",
       "<polygon fill=\"none\" points=\"362,-498.5 362,-544.5 633,-544.5 633,-498.5 362,-498.5\" stroke=\"black\"/>\n",
       "<text font-family=\"Times New Roman,serif\" font-size=\"14.00\" text-anchor=\"middle\" x=\"427.5\" y=\"-517.8\">FlattenUsers: Flatten</text>\n",
       "<polyline fill=\"none\" points=\"493,-498.5 493,-544.5 \" stroke=\"black\"/>\n",
       "<text font-family=\"Times New Roman,serif\" font-size=\"14.00\" text-anchor=\"middle\" x=\"521\" y=\"-529.3\">input:</text>\n",
       "<polyline fill=\"none\" points=\"493,-521.5 549,-521.5 \" stroke=\"black\"/>\n",
       "<text font-family=\"Times New Roman,serif\" font-size=\"14.00\" text-anchor=\"middle\" x=\"521\" y=\"-506.3\">output:</text>\n",
       "<polyline fill=\"none\" points=\"549,-498.5 549,-544.5 \" stroke=\"black\"/>\n",
       "<text font-family=\"Times New Roman,serif\" font-size=\"14.00\" text-anchor=\"middle\" x=\"591\" y=\"-529.3\">(None, 1, 5)</text>\n",
       "<polyline fill=\"none\" points=\"549,-521.5 633,-521.5 \" stroke=\"black\"/>\n",
       "<text font-family=\"Times New Roman,serif\" font-size=\"14.00\" text-anchor=\"middle\" x=\"591\" y=\"-506.3\">(None, 5)</text>\n",
       "</g>\n",
       "<!-- 2351025495680&#45;&gt;2351025437496 -->\n",
       "<g class=\"edge\" id=\"edge4\"><title>2351025495680-&gt;2351025437496</title>\n",
       "<path d=\"M506.948,-581.366C505.629,-573.152 504.106,-563.658 502.672,-554.725\" fill=\"none\" stroke=\"black\"/>\n",
       "<polygon fill=\"black\" points=\"506.089,-553.926 501.048,-544.607 499.177,-555.035 506.089,-553.926\" stroke=\"black\"/>\n",
       "</g>\n",
       "<!-- 2351021475376 -->\n",
       "<g class=\"node\" id=\"node7\"><title>2351021475376</title>\n",
       "<polygon fill=\"none\" points=\"78.5,-415.5 78.5,-461.5 334.5,-461.5 334.5,-415.5 78.5,-415.5\" stroke=\"black\"/>\n",
       "<text font-family=\"Times New Roman,serif\" font-size=\"14.00\" text-anchor=\"middle\" x=\"143.5\" y=\"-434.8\">dropout_1: Dropout</text>\n",
       "<polyline fill=\"none\" points=\"208.5,-415.5 208.5,-461.5 \" stroke=\"black\"/>\n",
       "<text font-family=\"Times New Roman,serif\" font-size=\"14.00\" text-anchor=\"middle\" x=\"236.5\" y=\"-446.3\">input:</text>\n",
       "<polyline fill=\"none\" points=\"208.5,-438.5 264.5,-438.5 \" stroke=\"black\"/>\n",
       "<text font-family=\"Times New Roman,serif\" font-size=\"14.00\" text-anchor=\"middle\" x=\"236.5\" y=\"-423.3\">output:</text>\n",
       "<polyline fill=\"none\" points=\"264.5,-415.5 264.5,-461.5 \" stroke=\"black\"/>\n",
       "<text font-family=\"Times New Roman,serif\" font-size=\"14.00\" text-anchor=\"middle\" x=\"299.5\" y=\"-446.3\">(None, 8)</text>\n",
       "<polyline fill=\"none\" points=\"264.5,-438.5 334.5,-438.5 \" stroke=\"black\"/>\n",
       "<text font-family=\"Times New Roman,serif\" font-size=\"14.00\" text-anchor=\"middle\" x=\"299.5\" y=\"-423.3\">(None, 8)</text>\n",
       "</g>\n",
       "<!-- 2351021483904&#45;&gt;2351021475376 -->\n",
       "<g class=\"edge\" id=\"edge5\"><title>2351021483904-&gt;2351021475376</title>\n",
       "<path d=\"M194.872,-498.366C196.512,-490.062 198.411,-480.451 200.192,-471.434\" fill=\"none\" stroke=\"black\"/>\n",
       "<polygon fill=\"black\" points=\"203.629,-472.096 202.133,-461.607 196.762,-470.739 203.629,-472.096\" stroke=\"black\"/>\n",
       "</g>\n",
       "<!-- 2351025495512 -->\n",
       "<g class=\"node\" id=\"node8\"><title>2351025495512</title>\n",
       "<polygon fill=\"none\" points=\"360.5,-415.5 360.5,-461.5 616.5,-461.5 616.5,-415.5 360.5,-415.5\" stroke=\"black\"/>\n",
       "<text font-family=\"Times New Roman,serif\" font-size=\"14.00\" text-anchor=\"middle\" x=\"425.5\" y=\"-434.8\">dropout_2: Dropout</text>\n",
       "<polyline fill=\"none\" points=\"490.5,-415.5 490.5,-461.5 \" stroke=\"black\"/>\n",
       "<text font-family=\"Times New Roman,serif\" font-size=\"14.00\" text-anchor=\"middle\" x=\"518.5\" y=\"-446.3\">input:</text>\n",
       "<polyline fill=\"none\" points=\"490.5,-438.5 546.5,-438.5 \" stroke=\"black\"/>\n",
       "<text font-family=\"Times New Roman,serif\" font-size=\"14.00\" text-anchor=\"middle\" x=\"518.5\" y=\"-423.3\">output:</text>\n",
       "<polyline fill=\"none\" points=\"546.5,-415.5 546.5,-461.5 \" stroke=\"black\"/>\n",
       "<text font-family=\"Times New Roman,serif\" font-size=\"14.00\" text-anchor=\"middle\" x=\"581.5\" y=\"-446.3\">(None, 5)</text>\n",
       "<polyline fill=\"none\" points=\"546.5,-438.5 616.5,-438.5 \" stroke=\"black\"/>\n",
       "<text font-family=\"Times New Roman,serif\" font-size=\"14.00\" text-anchor=\"middle\" x=\"581.5\" y=\"-423.3\">(None, 5)</text>\n",
       "</g>\n",
       "<!-- 2351025437496&#45;&gt;2351025495512 -->\n",
       "<g class=\"edge\" id=\"edge6\"><title>2351025437496-&gt;2351025495512</title>\n",
       "<path d=\"M495.041,-498.366C494.128,-490.152 493.073,-480.658 492.081,-471.725\" fill=\"none\" stroke=\"black\"/>\n",
       "<polygon fill=\"black\" points=\"495.539,-471.159 490.956,-461.607 488.582,-471.932 495.539,-471.159\" stroke=\"black\"/>\n",
       "</g>\n",
       "<!-- 2351025496016 -->\n",
       "<g class=\"node\" id=\"node9\"><title>2351025496016</title>\n",
       "<polygon fill=\"none\" points=\"163,-332.5 163,-378.5 532,-378.5 532,-332.5 163,-332.5\" stroke=\"black\"/>\n",
       "<text font-family=\"Times New Roman,serif\" font-size=\"14.00\" text-anchor=\"middle\" x=\"249.5\" y=\"-351.8\">concatenate_1: Concatenate</text>\n",
       "<polyline fill=\"none\" points=\"336,-332.5 336,-378.5 \" stroke=\"black\"/>\n",
       "<text font-family=\"Times New Roman,serif\" font-size=\"14.00\" text-anchor=\"middle\" x=\"364\" y=\"-363.3\">input:</text>\n",
       "<polyline fill=\"none\" points=\"336,-355.5 392,-355.5 \" stroke=\"black\"/>\n",
       "<text font-family=\"Times New Roman,serif\" font-size=\"14.00\" text-anchor=\"middle\" x=\"364\" y=\"-340.3\">output:</text>\n",
       "<polyline fill=\"none\" points=\"392,-332.5 392,-378.5 \" stroke=\"black\"/>\n",
       "<text font-family=\"Times New Roman,serif\" font-size=\"14.00\" text-anchor=\"middle\" x=\"462\" y=\"-363.3\">[(None, 8), (None, 5)]</text>\n",
       "<polyline fill=\"none\" points=\"392,-355.5 532,-355.5 \" stroke=\"black\"/>\n",
       "<text font-family=\"Times New Roman,serif\" font-size=\"14.00\" text-anchor=\"middle\" x=\"462\" y=\"-340.3\">(None, 13)</text>\n",
       "</g>\n",
       "<!-- 2351021475376&#45;&gt;2351025496016 -->\n",
       "<g class=\"edge\" id=\"edge7\"><title>2351021475376-&gt;2351025496016</title>\n",
       "<path d=\"M245.029,-415.366C261.971,-405.634 282.038,-394.106 299.904,-383.842\" fill=\"none\" stroke=\"black\"/>\n",
       "<polygon fill=\"black\" points=\"302.09,-386.623 309.018,-378.607 298.603,-380.553 302.09,-386.623\" stroke=\"black\"/>\n",
       "</g>\n",
       "<!-- 2351025495512&#45;&gt;2351025496016 -->\n",
       "<g class=\"edge\" id=\"edge8\"><title>2351025495512-&gt;2351025496016</title>\n",
       "<path d=\"M449.971,-415.366C433.029,-405.634 412.962,-394.106 395.096,-383.842\" fill=\"none\" stroke=\"black\"/>\n",
       "<polygon fill=\"black\" points=\"396.397,-380.553 385.982,-378.607 392.91,-386.623 396.397,-380.553\" stroke=\"black\"/>\n",
       "</g>\n",
       "<!-- 2351026637960 -->\n",
       "<g class=\"node\" id=\"node10\"><title>2351026637960</title>\n",
       "<polygon fill=\"none\" points=\"199,-249.5 199,-295.5 496,-295.5 496,-249.5 199,-249.5\" stroke=\"black\"/>\n",
       "<text font-family=\"Times New Roman,serif\" font-size=\"14.00\" text-anchor=\"middle\" x=\"278\" y=\"-268.8\">FullyConnected-1: Dense</text>\n",
       "<polyline fill=\"none\" points=\"357,-249.5 357,-295.5 \" stroke=\"black\"/>\n",
       "<text font-family=\"Times New Roman,serif\" font-size=\"14.00\" text-anchor=\"middle\" x=\"385\" y=\"-280.3\">input:</text>\n",
       "<polyline fill=\"none\" points=\"357,-272.5 413,-272.5 \" stroke=\"black\"/>\n",
       "<text font-family=\"Times New Roman,serif\" font-size=\"14.00\" text-anchor=\"middle\" x=\"385\" y=\"-257.3\">output:</text>\n",
       "<polyline fill=\"none\" points=\"413,-249.5 413,-295.5 \" stroke=\"black\"/>\n",
       "<text font-family=\"Times New Roman,serif\" font-size=\"14.00\" text-anchor=\"middle\" x=\"454.5\" y=\"-280.3\">(None, 13)</text>\n",
       "<polyline fill=\"none\" points=\"413,-272.5 496,-272.5 \" stroke=\"black\"/>\n",
       "<text font-family=\"Times New Roman,serif\" font-size=\"14.00\" text-anchor=\"middle\" x=\"454.5\" y=\"-257.3\">(None, 100)</text>\n",
       "</g>\n",
       "<!-- 2351025496016&#45;&gt;2351026637960 -->\n",
       "<g class=\"edge\" id=\"edge9\"><title>2351025496016-&gt;2351026637960</title>\n",
       "<path d=\"M347.5,-332.366C347.5,-324.152 347.5,-314.658 347.5,-305.725\" fill=\"none\" stroke=\"black\"/>\n",
       "<polygon fill=\"black\" points=\"351,-305.607 347.5,-295.607 344,-305.607 351,-305.607\" stroke=\"black\"/>\n",
       "</g>\n",
       "<!-- 2351027099296 -->\n",
       "<g class=\"node\" id=\"node11\"><title>2351027099296</title>\n",
       "<polygon fill=\"none\" points=\"199,-166.5 199,-212.5 496,-212.5 496,-166.5 199,-166.5\" stroke=\"black\"/>\n",
       "<text font-family=\"Times New Roman,serif\" font-size=\"14.00\" text-anchor=\"middle\" x=\"278\" y=\"-185.8\">FullyConnected-2: Dense</text>\n",
       "<polyline fill=\"none\" points=\"357,-166.5 357,-212.5 \" stroke=\"black\"/>\n",
       "<text font-family=\"Times New Roman,serif\" font-size=\"14.00\" text-anchor=\"middle\" x=\"385\" y=\"-197.3\">input:</text>\n",
       "<polyline fill=\"none\" points=\"357,-189.5 413,-189.5 \" stroke=\"black\"/>\n",
       "<text font-family=\"Times New Roman,serif\" font-size=\"14.00\" text-anchor=\"middle\" x=\"385\" y=\"-174.3\">output:</text>\n",
       "<polyline fill=\"none\" points=\"413,-166.5 413,-212.5 \" stroke=\"black\"/>\n",
       "<text font-family=\"Times New Roman,serif\" font-size=\"14.00\" text-anchor=\"middle\" x=\"454.5\" y=\"-197.3\">(None, 100)</text>\n",
       "<polyline fill=\"none\" points=\"413,-189.5 496,-189.5 \" stroke=\"black\"/>\n",
       "<text font-family=\"Times New Roman,serif\" font-size=\"14.00\" text-anchor=\"middle\" x=\"454.5\" y=\"-174.3\">(None, 50)</text>\n",
       "</g>\n",
       "<!-- 2351026637960&#45;&gt;2351027099296 -->\n",
       "<g class=\"edge\" id=\"edge10\"><title>2351026637960-&gt;2351027099296</title>\n",
       "<path d=\"M347.5,-249.366C347.5,-241.152 347.5,-231.658 347.5,-222.725\" fill=\"none\" stroke=\"black\"/>\n",
       "<polygon fill=\"black\" points=\"351,-222.607 347.5,-212.607 344,-222.607 351,-222.607\" stroke=\"black\"/>\n",
       "</g>\n",
       "<!-- 2351027520008 -->\n",
       "<g class=\"node\" id=\"node12\"><title>2351027520008</title>\n",
       "<polygon fill=\"none\" points=\"202,-83.5 202,-129.5 493,-129.5 493,-83.5 202,-83.5\" stroke=\"black\"/>\n",
       "<text font-family=\"Times New Roman,serif\" font-size=\"14.00\" text-anchor=\"middle\" x=\"281\" y=\"-102.8\">FullyConnected-3: Dense</text>\n",
       "<polyline fill=\"none\" points=\"360,-83.5 360,-129.5 \" stroke=\"black\"/>\n",
       "<text font-family=\"Times New Roman,serif\" font-size=\"14.00\" text-anchor=\"middle\" x=\"388\" y=\"-114.3\">input:</text>\n",
       "<polyline fill=\"none\" points=\"360,-106.5 416,-106.5 \" stroke=\"black\"/>\n",
       "<text font-family=\"Times New Roman,serif\" font-size=\"14.00\" text-anchor=\"middle\" x=\"388\" y=\"-91.3\">output:</text>\n",
       "<polyline fill=\"none\" points=\"416,-83.5 416,-129.5 \" stroke=\"black\"/>\n",
       "<text font-family=\"Times New Roman,serif\" font-size=\"14.00\" text-anchor=\"middle\" x=\"454.5\" y=\"-114.3\">(None, 50)</text>\n",
       "<polyline fill=\"none\" points=\"416,-106.5 493,-106.5 \" stroke=\"black\"/>\n",
       "<text font-family=\"Times New Roman,serif\" font-size=\"14.00\" text-anchor=\"middle\" x=\"454.5\" y=\"-91.3\">(None, 20)</text>\n",
       "</g>\n",
       "<!-- 2351027099296&#45;&gt;2351027520008 -->\n",
       "<g class=\"edge\" id=\"edge11\"><title>2351027099296-&gt;2351027520008</title>\n",
       "<path d=\"M347.5,-166.366C347.5,-158.152 347.5,-148.658 347.5,-139.725\" fill=\"none\" stroke=\"black\"/>\n",
       "<polygon fill=\"black\" points=\"351,-139.607 347.5,-129.607 344,-139.607 351,-139.607\" stroke=\"black\"/>\n",
       "</g>\n",
       "<!-- 2351027523144 -->\n",
       "<g class=\"node\" id=\"node13\"><title>2351027523144</title>\n",
       "<polygon fill=\"none\" points=\"223.5,-0.5 223.5,-46.5 471.5,-46.5 471.5,-0.5 223.5,-0.5\" stroke=\"black\"/>\n",
       "<text font-family=\"Times New Roman,serif\" font-size=\"14.00\" text-anchor=\"middle\" x=\"281\" y=\"-19.8\">Activation: Dense</text>\n",
       "<polyline fill=\"none\" points=\"338.5,-0.5 338.5,-46.5 \" stroke=\"black\"/>\n",
       "<text font-family=\"Times New Roman,serif\" font-size=\"14.00\" text-anchor=\"middle\" x=\"366.5\" y=\"-31.3\">input:</text>\n",
       "<polyline fill=\"none\" points=\"338.5,-23.5 394.5,-23.5 \" stroke=\"black\"/>\n",
       "<text font-family=\"Times New Roman,serif\" font-size=\"14.00\" text-anchor=\"middle\" x=\"366.5\" y=\"-8.3\">output:</text>\n",
       "<polyline fill=\"none\" points=\"394.5,-0.5 394.5,-46.5 \" stroke=\"black\"/>\n",
       "<text font-family=\"Times New Roman,serif\" font-size=\"14.00\" text-anchor=\"middle\" x=\"433\" y=\"-31.3\">(None, 20)</text>\n",
       "<polyline fill=\"none\" points=\"394.5,-23.5 471.5,-23.5 \" stroke=\"black\"/>\n",
       "<text font-family=\"Times New Roman,serif\" font-size=\"14.00\" text-anchor=\"middle\" x=\"433\" y=\"-8.3\">(None, 1)</text>\n",
       "</g>\n",
       "<!-- 2351027520008&#45;&gt;2351027523144 -->\n",
       "<g class=\"edge\" id=\"edge12\"><title>2351027520008-&gt;2351027523144</title>\n",
       "<path d=\"M347.5,-83.3664C347.5,-75.1516 347.5,-65.6579 347.5,-56.7252\" fill=\"none\" stroke=\"black\"/>\n",
       "<polygon fill=\"black\" points=\"351,-56.6068 347.5,-46.6068 344,-56.6069 351,-56.6068\" stroke=\"black\"/>\n",
       "</g>\n",
       "</g>\n",
       "</svg>"
      ],
      "text/plain": [
       "<IPython.core.display.SVG object>"
      ]
     },
     "execution_count": 12,
     "metadata": {},
     "output_type": "execute_result"
    }
   ],
   "source": [
    "#visualize model\n",
    "SVG(model_to_dot(model,  show_shapes=True, rankdir='HB').create(prog='dot', format='svg'))"
   ]
  },
  {
   "cell_type": "code",
   "execution_count": 13,
   "metadata": {
    "pycharm": {
     "is_executing": false,
     "metadata": false,
     "name": "#%%\n"
    }
   },
   "outputs": [
    {
     "data": {
      "text/plain": [
       "Text(0, 0.5, 'Train Error')"
      ]
     },
     "execution_count": 13,
     "metadata": {},
     "output_type": "execute_result"
    },
    {
     "data": {
      "image/png": "[encoded data removed]",
      "text/plain": [
       "<Figure size 432x288 with 1 Axes>"
      ]
     },
     "metadata": {
      "needs_background": "light"
     },
     "output_type": "display_data"
    }
   ],
   "source": [
    "history = model.fit([train['userId'], train['movieId']], train.rating,batch_size=256, epochs=100, verbose=0)\n",
    "pd.Series(history.history['loss']).plot()\n",
    "plt.xlabel(\"Epoch\")\n",
    "plt.ylabel(\"Train Error\")\n"
   ]
  },
  {
   "cell_type": "code",
   "execution_count": 14,
   "metadata": {
    "pycharm": {
     "is_executing": false,
     "metadata": false,
     "name": "#%%\n"
    }
   },
   "outputs": [
    {
     "data": {
      "text/plain": [
       "0.6498807130801871"
      ]
     },
     "execution_count": 14,
     "metadata": {},
     "output_type": "execute_result"
    }
   ],
   "source": [
    "y_hat = model.predict([test.userId, test.movieId])\n",
    "y_true = test.rating\n",
    "\n",
    "mean_absolute_error(y_true, y_hat)"
   ]
  }
 ],
 "metadata": {
  "kernelspec": {
   "display_name": "Python 3",
   "language": "python",
   "name": "python3"
  },
  "language_info": {
   "codemirror_mode": {
    "name": "ipython",
    "version": 3
   },
   "file_extension": ".py",
   "mimetype": "text/x-python",
   "name": "python",
   "nbconvert_exporter": "python",
   "pygments_lexer": "ipython3",
   "version": "3.7.2"
  }
 },
 "nbformat": 4,
 "nbformat_minor": 1
}
