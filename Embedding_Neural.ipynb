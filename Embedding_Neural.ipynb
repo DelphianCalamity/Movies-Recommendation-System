{
  "cells": [
    {
      "cell_type": "code",
      "execution_count": 1,
      "metadata": {
        "pycharm": {
          "is_executing": false,
          "metadata": false,
          "name": "#%%\n"
        }
      },
      "outputs": [
        {
          "name": "stderr",
          "output_type": "stream",
          "text": [
            "Using TensorFlow backend.\n"
          ]
        },
        {
          "data": {
            "text/plain": [
              "[\u0027/job:localhost/replica:0/task:0/device:GPU:0\u0027]"
            ]
          },
          "execution_count": 1,
          "metadata": {},
          "output_type": "execute_result"
        }
      ],
      "source": [
        "import pandas as pd\n",
        "from matplotlib import pyplot as plt\n",
        "from IPython.display import SVG\n",
        "import keras\n",
        "from keras.optimizers import Adam\n",
        "from keras.utils.vis_utils import model_to_dot\n",
        "from sklearn.metrics import mean_absolute_error\n",
        "from sklearn.metrics import mean_squared_error\n",
        "from math import sqrt\n",
        "from keras import backend as K\n",
        "from sklearn.model_selection import train_test_split\n",
        "\n",
        "K.tensorflow_backend._get_available_gpus()"
      ]
    },
    {
      "cell_type": "code",
      "execution_count": 2,
      "metadata": {
        "pycharm": {
          "metadata": false,
          "name": "#%%\n"
        }
      },
      "outputs": [
        {
          "name": "stdout",
          "output_type": "stream",
          "text": [
            "   userId  movieId  rating   timestamp             title  \\\n",
            "0       0        0     4.0   964982703  Toy Story (1995)   \n",
            "1       4        0     4.0   847434962  Toy Story (1995)   \n",
            "2       6        0     4.5  1106635946  Toy Story (1995)   \n",
            "3      14        0     2.5  1510577970  Toy Story (1995)   \n",
            "4      16        0     4.5  1305696483  Toy Story (1995)   \n",
            "\n",
            "                                        genres  \n",
            "0  Adventure|Animation|Children|Comedy|Fantasy  \n",
            "1  Adventure|Animation|Children|Comedy|Fantasy  \n",
            "2  Adventure|Animation|Children|Comedy|Fantasy  \n",
            "3  Adventure|Animation|Children|Comedy|Fantasy  \n",
            "4  Adventure|Animation|Children|Comedy|Fantasy  \n"
          ]
        }
      ],
      "source": "ratings \u003d pd.read_csv(\u0027ml-latest-small/ratings.csv\u0027)\nmovies \u003d pd.read_csv(\u0027ml-latest-small/movies.csv\u0027)\n\n#ratings \u003d pd.read_csv(\u0027ml-20m/ratings.csv\u0027)\n#movies \u003d pd.read_csv(\u0027ml-20m/movies.csv\u0027)\n#print(movies.head())\n\nratings \u003d pd.merge(ratings, movies, on\u003d\u0027movieId\u0027)\n\nratings.userId \u003d ratings.userId.astype(\u0027category\u0027).cat.codes.values\nratings.movieId \u003d ratings.movieId.astype(\u0027category\u0027).cat.codes.values\nprint(ratings.head())"
    },
    {
      "cell_type": "markdown",
      "metadata": {
        "pycharm": {
          "metadata": false
        }
      },
      "source": [
        "Dataset split"
      ]
    },
    {
      "cell_type": "code",
      "execution_count": 3,
      "metadata": {
        "pycharm": {
          "metadata": false,
          "name": "#%%\n"
        }
      },
      "outputs": [
        {
          "name": "stdout",
          "output_type": "stream",
          "text": [
            "Number of users: 610\n",
            "Number of movies: 9724\n",
            "Number of rows in test data set: 5042\n",
            "Number of rows in training data set: 95794\n"
          ]
        }
      ],
      "source": [
        "n_users, n_movies \u003d len(ratings[\u0027userId\u0027].unique()), len(ratings[\u0027movieId\u0027].unique())\n",
        "print(\"Number of users:\",n_users)\n",
        "print(\"Number of movies:\",n_movies)\n",
        "\n",
        "\n",
        "train, test \u003d train_test_split(ratings, test_size\u003d0.05)\n",
        "print(\"Number of rows in test data set:\", (len(test)))\n",
        "print(\"Number of rows in training data set:\",(len(train)))"
      ]
    },
    {
      "cell_type": "code",
      "execution_count": 4,
      "metadata": {
        "pycharm": {
          "metadata": false,
          "name": "#%%\n"
        }
      },
      "outputs": [
        {
          "name": "stdout",
          "output_type": "stream",
          "text": [
            "WARNING:tensorflow:From C:\\Users\\machine\\Anaconda3\\envs\\tf_gpu\\lib\\site-packages\\tensorflow\\python\\framework\\op_def_library.py:263: colocate_with (from tensorflow.python.framework.ops) is deprecated and will be removed in a future version.\n",
            "Instructions for updating:\n",
            "Colocations handled automatically by placer.\n",
            "WARNING:tensorflow:From C:\\Users\\machine\\Anaconda3\\envs\\tf_gpu\\lib\\site-packages\\keras\\backend\\tensorflow_backend.py:3445: calling dropout (from tensorflow.python.ops.nn_ops) with keep_prob is deprecated and will be removed in a future version.\n",
            "Instructions for updating:\n",
            "Please use `rate` instead of `keep_prob`. Rate should be set to `rate \u003d 1 - keep_prob`.\n"
          ]
        },
        {
          "data": {
            "image/svg+xml": [
              "\u003csvg height\u003d\"719pt\" viewBox\u003d\"0.00 0.00 679.50 719.00\" width\u003d\"680pt\" xmlns\u003d\"http://www.w3.org/2000/svg\" xmlns:xlink\u003d\"http://www.w3.org/1999/xlink\"\u003e\n",
              "\u003cg class\u003d\"graph\" id\u003d\"graph0\" transform\u003d\"scale(1 1) rotate(0) translate(4 715)\"\u003e\n",
              "\u003ctitle\u003eG\u003c/title\u003e\n",
              "\u003cpolygon fill\u003d\"white\" points\u003d\"-4,4 -4,-715 675.5,-715 675.5,4 -4,4\" stroke\u003d\"none\"/\u003e\n",
              "\u003c!-- 2304184205264 --\u003e\n",
              "\u003cg class\u003d\"node\" id\u003d\"node1\"\u003e\u003ctitle\u003e2304184205264\u003c/title\u003e\n",
              "\u003cpolygon fill\u003d\"none\" points\u003d\"43,-664.5 43,-710.5 288,-710.5 288,-664.5 43,-664.5\" stroke\u003d\"black\"/\u003e\n",
              "\u003ctext font-family\u003d\"Times New Roman,serif\" font-size\u003d\"14.00\" text-anchor\u003d\"middle\" x\u003d\"102.5\" y\u003d\"-683.8\"\u003eMovie: InputLayer\u003c/text\u003e\n",
              "\u003cpolyline fill\u003d\"none\" points\u003d\"162,-664.5 162,-710.5 \" stroke\u003d\"black\"/\u003e\n",
              "\u003ctext font-family\u003d\"Times New Roman,serif\" font-size\u003d\"14.00\" text-anchor\u003d\"middle\" x\u003d\"190\" y\u003d\"-695.3\"\u003einput:\u003c/text\u003e\n",
              "\u003cpolyline fill\u003d\"none\" points\u003d\"162,-687.5 218,-687.5 \" stroke\u003d\"black\"/\u003e\n",
              "\u003ctext font-family\u003d\"Times New Roman,serif\" font-size\u003d\"14.00\" text-anchor\u003d\"middle\" x\u003d\"190\" y\u003d\"-672.3\"\u003eoutput:\u003c/text\u003e\n",
              "\u003cpolyline fill\u003d\"none\" points\u003d\"218,-664.5 218,-710.5 \" stroke\u003d\"black\"/\u003e\n",
              "\u003ctext font-family\u003d\"Times New Roman,serif\" font-size\u003d\"14.00\" text-anchor\u003d\"middle\" x\u003d\"253\" y\u003d\"-695.3\"\u003e(None, 1)\u003c/text\u003e\n",
              "\u003cpolyline fill\u003d\"none\" points\u003d\"218,-687.5 288,-687.5 \" stroke\u003d\"black\"/\u003e\n",
              "\u003ctext font-family\u003d\"Times New Roman,serif\" font-size\u003d\"14.00\" text-anchor\u003d\"middle\" x\u003d\"253\" y\u003d\"-672.3\"\u003e(None, 1)\u003c/text\u003e\n",
              "\u003c/g\u003e\n",
              "\u003c!-- 2304184205208 --\u003e\n",
              "\u003cg class\u003d\"node\" id\u003d\"node3\"\u003e\u003ctitle\u003e2304184205208\u003c/title\u003e\n",
              "\u003cpolygon fill\u003d\"none\" points\u003d\"0,-581.5 0,-627.5 331,-627.5 331,-581.5 0,-581.5\" stroke\u003d\"black\"/\u003e\n",
              "\u003ctext font-family\u003d\"Times New Roman,serif\" font-size\u003d\"14.00\" text-anchor\u003d\"middle\" x\u003d\"95.5\" y\u003d\"-600.8\"\u003eMovie-Embedding: Embedding\u003c/text\u003e\n",
              "\u003cpolyline fill\u003d\"none\" points\u003d\"191,-581.5 191,-627.5 \" stroke\u003d\"black\"/\u003e\n",
              "\u003ctext font-family\u003d\"Times New Roman,serif\" font-size\u003d\"14.00\" text-anchor\u003d\"middle\" x\u003d\"219\" y\u003d\"-612.3\"\u003einput:\u003c/text\u003e\n",
              "\u003cpolyline fill\u003d\"none\" points\u003d\"191,-604.5 247,-604.5 \" stroke\u003d\"black\"/\u003e\n",
              "\u003ctext font-family\u003d\"Times New Roman,serif\" font-size\u003d\"14.00\" text-anchor\u003d\"middle\" x\u003d\"219\" y\u003d\"-589.3\"\u003eoutput:\u003c/text\u003e\n",
              "\u003cpolyline fill\u003d\"none\" points\u003d\"247,-581.5 247,-627.5 \" stroke\u003d\"black\"/\u003e\n",
              "\u003ctext font-family\u003d\"Times New Roman,serif\" font-size\u003d\"14.00\" text-anchor\u003d\"middle\" x\u003d\"289\" y\u003d\"-612.3\"\u003e(None, 1)\u003c/text\u003e\n",
              "\u003cpolyline fill\u003d\"none\" points\u003d\"247,-604.5 331,-604.5 \" stroke\u003d\"black\"/\u003e\n",
              "\u003ctext font-family\u003d\"Times New Roman,serif\" font-size\u003d\"14.00\" text-anchor\u003d\"middle\" x\u003d\"289\" y\u003d\"-589.3\"\u003e(None, 1, 8)\u003c/text\u003e\n",
              "\u003c/g\u003e\n",
              "\u003c!-- 2304184205264\u0026#45;\u0026gt;2304184205208 --\u003e\n",
              "\u003cg class\u003d\"edge\" id\u003d\"edge1\"\u003e\u003ctitle\u003e2304184205264-\u0026gt;2304184205208\u003c/title\u003e\n",
              "\u003cpath d\u003d\"M165.5,-664.366C165.5,-656.152 165.5,-646.658 165.5,-637.725\" fill\u003d\"none\" stroke\u003d\"black\"/\u003e\n",
              "\u003cpolygon fill\u003d\"black\" points\u003d\"169,-637.607 165.5,-627.607 162,-637.607 169,-637.607\" stroke\u003d\"black\"/\u003e\n",
              "\u003c/g\u003e\n",
              "\u003c!-- 2304184164760 --\u003e\n",
              "\u003cg class\u003d\"node\" id\u003d\"node2\"\u003e\u003ctitle\u003e2304184164760\u003c/title\u003e\n",
              "\u003cpolygon fill\u003d\"none\" points\u003d\"392.5,-664.5 392.5,-710.5 628.5,-710.5 628.5,-664.5 392.5,-664.5\" stroke\u003d\"black\"/\u003e\n",
              "\u003ctext font-family\u003d\"Times New Roman,serif\" font-size\u003d\"14.00\" text-anchor\u003d\"middle\" x\u003d\"447.5\" y\u003d\"-683.8\"\u003eUser: InputLayer\u003c/text\u003e\n",
              "\u003cpolyline fill\u003d\"none\" points\u003d\"502.5,-664.5 502.5,-710.5 \" stroke\u003d\"black\"/\u003e\n",
              "\u003ctext font-family\u003d\"Times New Roman,serif\" font-size\u003d\"14.00\" text-anchor\u003d\"middle\" x\u003d\"530.5\" y\u003d\"-695.3\"\u003einput:\u003c/text\u003e\n",
              "\u003cpolyline fill\u003d\"none\" points\u003d\"502.5,-687.5 558.5,-687.5 \" stroke\u003d\"black\"/\u003e\n",
              "\u003ctext font-family\u003d\"Times New Roman,serif\" font-size\u003d\"14.00\" text-anchor\u003d\"middle\" x\u003d\"530.5\" y\u003d\"-672.3\"\u003eoutput:\u003c/text\u003e\n",
              "\u003cpolyline fill\u003d\"none\" points\u003d\"558.5,-664.5 558.5,-710.5 \" stroke\u003d\"black\"/\u003e\n",
              "\u003ctext font-family\u003d\"Times New Roman,serif\" font-size\u003d\"14.00\" text-anchor\u003d\"middle\" x\u003d\"593.5\" y\u003d\"-695.3\"\u003e(None, 1)\u003c/text\u003e\n",
              "\u003cpolyline fill\u003d\"none\" points\u003d\"558.5,-687.5 628.5,-687.5 \" stroke\u003d\"black\"/\u003e\n",
              "\u003ctext font-family\u003d\"Times New Roman,serif\" font-size\u003d\"14.00\" text-anchor\u003d\"middle\" x\u003d\"593.5\" y\u003d\"-672.3\"\u003e(None, 1)\u003c/text\u003e\n",
              "\u003c/g\u003e\n",
              "\u003c!-- 2304184394472 --\u003e\n",
              "\u003cg class\u003d\"node\" id\u003d\"node4\"\u003e\u003ctitle\u003e2304184394472\u003c/title\u003e\n",
              "\u003cpolygon fill\u003d\"none\" points\u003d\"349.5,-581.5 349.5,-627.5 671.5,-627.5 671.5,-581.5 349.5,-581.5\" stroke\u003d\"black\"/\u003e\n",
              "\u003ctext font-family\u003d\"Times New Roman,serif\" font-size\u003d\"14.00\" text-anchor\u003d\"middle\" x\u003d\"440.5\" y\u003d\"-600.8\"\u003eUser-Embedding: Embedding\u003c/text\u003e\n",
              "\u003cpolyline fill\u003d\"none\" points\u003d\"531.5,-581.5 531.5,-627.5 \" stroke\u003d\"black\"/\u003e\n",
              "\u003ctext font-family\u003d\"Times New Roman,serif\" font-size\u003d\"14.00\" text-anchor\u003d\"middle\" x\u003d\"559.5\" y\u003d\"-612.3\"\u003einput:\u003c/text\u003e\n",
              "\u003cpolyline fill\u003d\"none\" points\u003d\"531.5,-604.5 587.5,-604.5 \" stroke\u003d\"black\"/\u003e\n",
              "\u003ctext font-family\u003d\"Times New Roman,serif\" font-size\u003d\"14.00\" text-anchor\u003d\"middle\" x\u003d\"559.5\" y\u003d\"-589.3\"\u003eoutput:\u003c/text\u003e\n",
              "\u003cpolyline fill\u003d\"none\" points\u003d\"587.5,-581.5 587.5,-627.5 \" stroke\u003d\"black\"/\u003e\n",
              "\u003ctext font-family\u003d\"Times New Roman,serif\" font-size\u003d\"14.00\" text-anchor\u003d\"middle\" x\u003d\"629.5\" y\u003d\"-612.3\"\u003e(None, 1)\u003c/text\u003e\n",
              "\u003cpolyline fill\u003d\"none\" points\u003d\"587.5,-604.5 671.5,-604.5 \" stroke\u003d\"black\"/\u003e\n",
              "\u003ctext font-family\u003d\"Times New Roman,serif\" font-size\u003d\"14.00\" text-anchor\u003d\"middle\" x\u003d\"629.5\" y\u003d\"-589.3\"\u003e(None, 1, 5)\u003c/text\u003e\n",
              "\u003c/g\u003e\n",
              "\u003c!-- 2304184164760\u0026#45;\u0026gt;2304184394472 --\u003e\n",
              "\u003cg class\u003d\"edge\" id\u003d\"edge2\"\u003e\u003ctitle\u003e2304184164760-\u0026gt;2304184394472\u003c/title\u003e\n",
              "\u003cpath d\u003d\"M510.5,-664.366C510.5,-656.152 510.5,-646.658 510.5,-637.725\" fill\u003d\"none\" stroke\u003d\"black\"/\u003e\n",
              "\u003cpolygon fill\u003d\"black\" points\u003d\"514,-637.607 510.5,-627.607 507,-637.607 514,-637.607\" stroke\u003d\"black\"/\u003e\n",
              "\u003c/g\u003e\n",
              "\u003c!-- 2304186062440 --\u003e\n",
              "\u003cg class\u003d\"node\" id\u003d\"node5\"\u003e\u003ctitle\u003e2304186062440\u003c/title\u003e\n",
              "\u003cpolygon fill\u003d\"none\" points\u003d\"50.5,-498.5 50.5,-544.5 330.5,-544.5 330.5,-498.5 50.5,-498.5\" stroke\u003d\"black\"/\u003e\n",
              "\u003ctext font-family\u003d\"Times New Roman,serif\" font-size\u003d\"14.00\" text-anchor\u003d\"middle\" x\u003d\"120.5\" y\u003d\"-517.8\"\u003eFlattenMovies: Flatten\u003c/text\u003e\n",
              "\u003cpolyline fill\u003d\"none\" points\u003d\"190.5,-498.5 190.5,-544.5 \" stroke\u003d\"black\"/\u003e\n",
              "\u003ctext font-family\u003d\"Times New Roman,serif\" font-size\u003d\"14.00\" text-anchor\u003d\"middle\" x\u003d\"218.5\" y\u003d\"-529.3\"\u003einput:\u003c/text\u003e\n",
              "\u003cpolyline fill\u003d\"none\" points\u003d\"190.5,-521.5 246.5,-521.5 \" stroke\u003d\"black\"/\u003e\n",
              "\u003ctext font-family\u003d\"Times New Roman,serif\" font-size\u003d\"14.00\" text-anchor\u003d\"middle\" x\u003d\"218.5\" y\u003d\"-506.3\"\u003eoutput:\u003c/text\u003e\n",
              "\u003cpolyline fill\u003d\"none\" points\u003d\"246.5,-498.5 246.5,-544.5 \" stroke\u003d\"black\"/\u003e\n",
              "\u003ctext font-family\u003d\"Times New Roman,serif\" font-size\u003d\"14.00\" text-anchor\u003d\"middle\" x\u003d\"288.5\" y\u003d\"-529.3\"\u003e(None, 1, 8)\u003c/text\u003e\n",
              "\u003cpolyline fill\u003d\"none\" points\u003d\"246.5,-521.5 330.5,-521.5 \" stroke\u003d\"black\"/\u003e\n",
              "\u003ctext font-family\u003d\"Times New Roman,serif\" font-size\u003d\"14.00\" text-anchor\u003d\"middle\" x\u003d\"288.5\" y\u003d\"-506.3\"\u003e(None, 8)\u003c/text\u003e\n",
              "\u003c/g\u003e\n",
              "\u003c!-- 2304184205208\u0026#45;\u0026gt;2304186062440 --\u003e\n",
              "\u003cg class\u003d\"edge\" id\u003d\"edge3\"\u003e\u003ctitle\u003e2304184205208-\u0026gt;2304186062440\u003c/title\u003e\n",
              "\u003cpath d\u003d\"M172.331,-581.366C174.894,-573.062 177.861,-563.451 180.644,-554.434\" fill\u003d\"none\" stroke\u003d\"black\"/\u003e\n",
              "\u003cpolygon fill\u003d\"black\" points\u003d\"184.072,-555.194 183.677,-544.607 177.383,-553.13 184.072,-555.194\" stroke\u003d\"black\"/\u003e\n",
              "\u003c/g\u003e\n",
              "\u003c!-- 2304184165208 --\u003e\n",
              "\u003cg class\u003d\"node\" id\u003d\"node6\"\u003e\u003ctitle\u003e2304184165208\u003c/title\u003e\n",
              "\u003cpolygon fill\u003d\"none\" points\u003d\"362,-498.5 362,-544.5 633,-544.5 633,-498.5 362,-498.5\" stroke\u003d\"black\"/\u003e\n",
              "\u003ctext font-family\u003d\"Times New Roman,serif\" font-size\u003d\"14.00\" text-anchor\u003d\"middle\" x\u003d\"427.5\" y\u003d\"-517.8\"\u003eFlattenUsers: Flatten\u003c/text\u003e\n",
              "\u003cpolyline fill\u003d\"none\" points\u003d\"493,-498.5 493,-544.5 \" stroke\u003d\"black\"/\u003e\n",
              "\u003ctext font-family\u003d\"Times New Roman,serif\" font-size\u003d\"14.00\" text-anchor\u003d\"middle\" x\u003d\"521\" y\u003d\"-529.3\"\u003einput:\u003c/text\u003e\n",
              "\u003cpolyline fill\u003d\"none\" points\u003d\"493,-521.5 549,-521.5 \" stroke\u003d\"black\"/\u003e\n",
              "\u003ctext font-family\u003d\"Times New Roman,serif\" font-size\u003d\"14.00\" text-anchor\u003d\"middle\" x\u003d\"521\" y\u003d\"-506.3\"\u003eoutput:\u003c/text\u003e\n",
              "\u003cpolyline fill\u003d\"none\" points\u003d\"549,-498.5 549,-544.5 \" stroke\u003d\"black\"/\u003e\n",
              "\u003ctext font-family\u003d\"Times New Roman,serif\" font-size\u003d\"14.00\" text-anchor\u003d\"middle\" x\u003d\"591\" y\u003d\"-529.3\"\u003e(None, 1, 5)\u003c/text\u003e\n",
              "\u003cpolyline fill\u003d\"none\" points\u003d\"549,-521.5 633,-521.5 \" stroke\u003d\"black\"/\u003e\n",
              "\u003ctext font-family\u003d\"Times New Roman,serif\" font-size\u003d\"14.00\" text-anchor\u003d\"middle\" x\u003d\"591\" y\u003d\"-506.3\"\u003e(None, 5)\u003c/text\u003e\n",
              "\u003c/g\u003e\n",
              "\u003c!-- 2304184394472\u0026#45;\u0026gt;2304184165208 --\u003e\n",
              "\u003cg class\u003d\"edge\" id\u003d\"edge4\"\u003e\u003ctitle\u003e2304184394472-\u0026gt;2304184165208\u003c/title\u003e\n",
              "\u003cpath d\u003d\"M506.948,-581.366C505.629,-573.152 504.106,-563.658 502.672,-554.725\" fill\u003d\"none\" stroke\u003d\"black\"/\u003e\n",
              "\u003cpolygon fill\u003d\"black\" points\u003d\"506.089,-553.926 501.048,-544.607 499.177,-555.035 506.089,-553.926\" stroke\u003d\"black\"/\u003e\n",
              "\u003c/g\u003e\n",
              "\u003c!-- 2304186062272 --\u003e\n",
              "\u003cg class\u003d\"node\" id\u003d\"node7\"\u003e\u003ctitle\u003e2304186062272\u003c/title\u003e\n",
              "\u003cpolygon fill\u003d\"none\" points\u003d\"78.5,-415.5 78.5,-461.5 334.5,-461.5 334.5,-415.5 78.5,-415.5\" stroke\u003d\"black\"/\u003e\n",
              "\u003ctext font-family\u003d\"Times New Roman,serif\" font-size\u003d\"14.00\" text-anchor\u003d\"middle\" x\u003d\"143.5\" y\u003d\"-434.8\"\u003edropout_1: Dropout\u003c/text\u003e\n",
              "\u003cpolyline fill\u003d\"none\" points\u003d\"208.5,-415.5 208.5,-461.5 \" stroke\u003d\"black\"/\u003e\n",
              "\u003ctext font-family\u003d\"Times New Roman,serif\" font-size\u003d\"14.00\" text-anchor\u003d\"middle\" x\u003d\"236.5\" y\u003d\"-446.3\"\u003einput:\u003c/text\u003e\n",
              "\u003cpolyline fill\u003d\"none\" points\u003d\"208.5,-438.5 264.5,-438.5 \" stroke\u003d\"black\"/\u003e\n",
              "\u003ctext font-family\u003d\"Times New Roman,serif\" font-size\u003d\"14.00\" text-anchor\u003d\"middle\" x\u003d\"236.5\" y\u003d\"-423.3\"\u003eoutput:\u003c/text\u003e\n",
              "\u003cpolyline fill\u003d\"none\" points\u003d\"264.5,-415.5 264.5,-461.5 \" stroke\u003d\"black\"/\u003e\n",
              "\u003ctext font-family\u003d\"Times New Roman,serif\" font-size\u003d\"14.00\" text-anchor\u003d\"middle\" x\u003d\"299.5\" y\u003d\"-446.3\"\u003e(None, 8)\u003c/text\u003e\n",
              "\u003cpolyline fill\u003d\"none\" points\u003d\"264.5,-438.5 334.5,-438.5 \" stroke\u003d\"black\"/\u003e\n",
              "\u003ctext font-family\u003d\"Times New Roman,serif\" font-size\u003d\"14.00\" text-anchor\u003d\"middle\" x\u003d\"299.5\" y\u003d\"-423.3\"\u003e(None, 8)\u003c/text\u003e\n",
              "\u003c/g\u003e\n",
              "\u003c!-- 2304186062440\u0026#45;\u0026gt;2304186062272 --\u003e\n",
              "\u003cg class\u003d\"edge\" id\u003d\"edge5\"\u003e\u003ctitle\u003e2304186062440-\u0026gt;2304186062272\u003c/title\u003e\n",
              "\u003cpath d\u003d\"M194.872,-498.366C196.512,-490.062 198.411,-480.451 200.192,-471.434\" fill\u003d\"none\" stroke\u003d\"black\"/\u003e\n",
              "\u003cpolygon fill\u003d\"black\" points\u003d\"203.629,-472.096 202.133,-461.607 196.762,-470.739 203.629,-472.096\" stroke\u003d\"black\"/\u003e\n",
              "\u003c/g\u003e\n",
              "\u003c!-- 2304184395704 --\u003e\n",
              "\u003cg class\u003d\"node\" id\u003d\"node8\"\u003e\u003ctitle\u003e2304184395704\u003c/title\u003e\n",
              "\u003cpolygon fill\u003d\"none\" points\u003d\"360.5,-415.5 360.5,-461.5 616.5,-461.5 616.5,-415.5 360.5,-415.5\" stroke\u003d\"black\"/\u003e\n",
              "\u003ctext font-family\u003d\"Times New Roman,serif\" font-size\u003d\"14.00\" text-anchor\u003d\"middle\" x\u003d\"425.5\" y\u003d\"-434.8\"\u003edropout_2: Dropout\u003c/text\u003e\n",
              "\u003cpolyline fill\u003d\"none\" points\u003d\"490.5,-415.5 490.5,-461.5 \" stroke\u003d\"black\"/\u003e\n",
              "\u003ctext font-family\u003d\"Times New Roman,serif\" font-size\u003d\"14.00\" text-anchor\u003d\"middle\" x\u003d\"518.5\" y\u003d\"-446.3\"\u003einput:\u003c/text\u003e\n",
              "\u003cpolyline fill\u003d\"none\" points\u003d\"490.5,-438.5 546.5,-438.5 \" stroke\u003d\"black\"/\u003e\n",
              "\u003ctext font-family\u003d\"Times New Roman,serif\" font-size\u003d\"14.00\" text-anchor\u003d\"middle\" x\u003d\"518.5\" y\u003d\"-423.3\"\u003eoutput:\u003c/text\u003e\n",
              "\u003cpolyline fill\u003d\"none\" points\u003d\"546.5,-415.5 546.5,-461.5 \" stroke\u003d\"black\"/\u003e\n",
              "\u003ctext font-family\u003d\"Times New Roman,serif\" font-size\u003d\"14.00\" text-anchor\u003d\"middle\" x\u003d\"581.5\" y\u003d\"-446.3\"\u003e(None, 5)\u003c/text\u003e\n",
              "\u003cpolyline fill\u003d\"none\" points\u003d\"546.5,-438.5 616.5,-438.5 \" stroke\u003d\"black\"/\u003e\n",
              "\u003ctext font-family\u003d\"Times New Roman,serif\" font-size\u003d\"14.00\" text-anchor\u003d\"middle\" x\u003d\"581.5\" y\u003d\"-423.3\"\u003e(None, 5)\u003c/text\u003e\n",
              "\u003c/g\u003e\n",
              "\u003c!-- 2304184165208\u0026#45;\u0026gt;2304184395704 --\u003e\n",
              "\u003cg class\u003d\"edge\" id\u003d\"edge6\"\u003e\u003ctitle\u003e2304184165208-\u0026gt;2304184395704\u003c/title\u003e\n",
              "\u003cpath d\u003d\"M495.041,-498.366C494.128,-490.152 493.073,-480.658 492.081,-471.725\" fill\u003d\"none\" stroke\u003d\"black\"/\u003e\n",
              "\u003cpolygon fill\u003d\"black\" points\u003d\"495.539,-471.159 490.956,-461.607 488.582,-471.932 495.539,-471.159\" stroke\u003d\"black\"/\u003e\n",
              "\u003c/g\u003e\n",
              "\u003c!-- 2304184394920 --\u003e\n",
              "\u003cg class\u003d\"node\" id\u003d\"node9\"\u003e\u003ctitle\u003e2304184394920\u003c/title\u003e\n",
              "\u003cpolygon fill\u003d\"none\" points\u003d\"163,-332.5 163,-378.5 532,-378.5 532,-332.5 163,-332.5\" stroke\u003d\"black\"/\u003e\n",
              "\u003ctext font-family\u003d\"Times New Roman,serif\" font-size\u003d\"14.00\" text-anchor\u003d\"middle\" x\u003d\"249.5\" y\u003d\"-351.8\"\u003econcatenate_1: Concatenate\u003c/text\u003e\n",
              "\u003cpolyline fill\u003d\"none\" points\u003d\"336,-332.5 336,-378.5 \" stroke\u003d\"black\"/\u003e\n",
              "\u003ctext font-family\u003d\"Times New Roman,serif\" font-size\u003d\"14.00\" text-anchor\u003d\"middle\" x\u003d\"364\" y\u003d\"-363.3\"\u003einput:\u003c/text\u003e\n",
              "\u003cpolyline fill\u003d\"none\" points\u003d\"336,-355.5 392,-355.5 \" stroke\u003d\"black\"/\u003e\n",
              "\u003ctext font-family\u003d\"Times New Roman,serif\" font-size\u003d\"14.00\" text-anchor\u003d\"middle\" x\u003d\"364\" y\u003d\"-340.3\"\u003eoutput:\u003c/text\u003e\n",
              "\u003cpolyline fill\u003d\"none\" points\u003d\"392,-332.5 392,-378.5 \" stroke\u003d\"black\"/\u003e\n",
              "\u003ctext font-family\u003d\"Times New Roman,serif\" font-size\u003d\"14.00\" text-anchor\u003d\"middle\" x\u003d\"462\" y\u003d\"-363.3\"\u003e[(None, 8), (None, 5)]\u003c/text\u003e\n",
              "\u003cpolyline fill\u003d\"none\" points\u003d\"392,-355.5 532,-355.5 \" stroke\u003d\"black\"/\u003e\n",
              "\u003ctext font-family\u003d\"Times New Roman,serif\" font-size\u003d\"14.00\" text-anchor\u003d\"middle\" x\u003d\"462\" y\u003d\"-340.3\"\u003e(None, 13)\u003c/text\u003e\n",
              "\u003c/g\u003e\n",
              "\u003c!-- 2304186062272\u0026#45;\u0026gt;2304184394920 --\u003e\n",
              "\u003cg class\u003d\"edge\" id\u003d\"edge7\"\u003e\u003ctitle\u003e2304186062272-\u0026gt;2304184394920\u003c/title\u003e\n",
              "\u003cpath d\u003d\"M245.029,-415.366C261.971,-405.634 282.038,-394.106 299.904,-383.842\" fill\u003d\"none\" stroke\u003d\"black\"/\u003e\n",
              "\u003cpolygon fill\u003d\"black\" points\u003d\"302.09,-386.623 309.018,-378.607 298.603,-380.553 302.09,-386.623\" stroke\u003d\"black\"/\u003e\n",
              "\u003c/g\u003e\n",
              "\u003c!-- 2304184395704\u0026#45;\u0026gt;2304184394920 --\u003e\n",
              "\u003cg class\u003d\"edge\" id\u003d\"edge8\"\u003e\u003ctitle\u003e2304184395704-\u0026gt;2304184394920\u003c/title\u003e\n",
              "\u003cpath d\u003d\"M449.971,-415.366C433.029,-405.634 412.962,-394.106 395.096,-383.842\" fill\u003d\"none\" stroke\u003d\"black\"/\u003e\n",
              "\u003cpolygon fill\u003d\"black\" points\u003d\"396.397,-380.553 385.982,-378.607 392.91,-386.623 396.397,-380.553\" stroke\u003d\"black\"/\u003e\n",
              "\u003c/g\u003e\n",
              "\u003c!-- 2304187909736 --\u003e\n",
              "\u003cg class\u003d\"node\" id\u003d\"node10\"\u003e\u003ctitle\u003e2304187909736\u003c/title\u003e\n",
              "\u003cpolygon fill\u003d\"none\" points\u003d\"199,-249.5 199,-295.5 496,-295.5 496,-249.5 199,-249.5\" stroke\u003d\"black\"/\u003e\n",
              "\u003ctext font-family\u003d\"Times New Roman,serif\" font-size\u003d\"14.00\" text-anchor\u003d\"middle\" x\u003d\"278\" y\u003d\"-268.8\"\u003eFullyConnected-1: Dense\u003c/text\u003e\n",
              "\u003cpolyline fill\u003d\"none\" points\u003d\"357,-249.5 357,-295.5 \" stroke\u003d\"black\"/\u003e\n",
              "\u003ctext font-family\u003d\"Times New Roman,serif\" font-size\u003d\"14.00\" text-anchor\u003d\"middle\" x\u003d\"385\" y\u003d\"-280.3\"\u003einput:\u003c/text\u003e\n",
              "\u003cpolyline fill\u003d\"none\" points\u003d\"357,-272.5 413,-272.5 \" stroke\u003d\"black\"/\u003e\n",
              "\u003ctext font-family\u003d\"Times New Roman,serif\" font-size\u003d\"14.00\" text-anchor\u003d\"middle\" x\u003d\"385\" y\u003d\"-257.3\"\u003eoutput:\u003c/text\u003e\n",
              "\u003cpolyline fill\u003d\"none\" points\u003d\"413,-249.5 413,-295.5 \" stroke\u003d\"black\"/\u003e\n",
              "\u003ctext font-family\u003d\"Times New Roman,serif\" font-size\u003d\"14.00\" text-anchor\u003d\"middle\" x\u003d\"454.5\" y\u003d\"-280.3\"\u003e(None, 13)\u003c/text\u003e\n",
              "\u003cpolyline fill\u003d\"none\" points\u003d\"413,-272.5 496,-272.5 \" stroke\u003d\"black\"/\u003e\n",
              "\u003ctext font-family\u003d\"Times New Roman,serif\" font-size\u003d\"14.00\" text-anchor\u003d\"middle\" x\u003d\"454.5\" y\u003d\"-257.3\"\u003e(None, 100)\u003c/text\u003e\n",
              "\u003c/g\u003e\n",
              "\u003c!-- 2304184394920\u0026#45;\u0026gt;2304187909736 --\u003e\n",
              "\u003cg class\u003d\"edge\" id\u003d\"edge9\"\u003e\u003ctitle\u003e2304184394920-\u0026gt;2304187909736\u003c/title\u003e\n",
              "\u003cpath d\u003d\"M347.5,-332.366C347.5,-324.152 347.5,-314.658 347.5,-305.725\" fill\u003d\"none\" stroke\u003d\"black\"/\u003e\n",
              "\u003cpolygon fill\u003d\"black\" points\u003d\"351,-305.607 347.5,-295.607 344,-305.607 351,-305.607\" stroke\u003d\"black\"/\u003e\n",
              "\u003c/g\u003e\n",
              "\u003c!-- 2304188365008 --\u003e\n",
              "\u003cg class\u003d\"node\" id\u003d\"node11\"\u003e\u003ctitle\u003e2304188365008\u003c/title\u003e\n",
              "\u003cpolygon fill\u003d\"none\" points\u003d\"199,-166.5 199,-212.5 496,-212.5 496,-166.5 199,-166.5\" stroke\u003d\"black\"/\u003e\n",
              "\u003ctext font-family\u003d\"Times New Roman,serif\" font-size\u003d\"14.00\" text-anchor\u003d\"middle\" x\u003d\"278\" y\u003d\"-185.8\"\u003eFullyConnected-2: Dense\u003c/text\u003e\n",
              "\u003cpolyline fill\u003d\"none\" points\u003d\"357,-166.5 357,-212.5 \" stroke\u003d\"black\"/\u003e\n",
              "\u003ctext font-family\u003d\"Times New Roman,serif\" font-size\u003d\"14.00\" text-anchor\u003d\"middle\" x\u003d\"385\" y\u003d\"-197.3\"\u003einput:\u003c/text\u003e\n",
              "\u003cpolyline fill\u003d\"none\" points\u003d\"357,-189.5 413,-189.5 \" stroke\u003d\"black\"/\u003e\n",
              "\u003ctext font-family\u003d\"Times New Roman,serif\" font-size\u003d\"14.00\" text-anchor\u003d\"middle\" x\u003d\"385\" y\u003d\"-174.3\"\u003eoutput:\u003c/text\u003e\n",
              "\u003cpolyline fill\u003d\"none\" points\u003d\"413,-166.5 413,-212.5 \" stroke\u003d\"black\"/\u003e\n",
              "\u003ctext font-family\u003d\"Times New Roman,serif\" font-size\u003d\"14.00\" text-anchor\u003d\"middle\" x\u003d\"454.5\" y\u003d\"-197.3\"\u003e(None, 100)\u003c/text\u003e\n",
              "\u003cpolyline fill\u003d\"none\" points\u003d\"413,-189.5 496,-189.5 \" stroke\u003d\"black\"/\u003e\n",
              "\u003ctext font-family\u003d\"Times New Roman,serif\" font-size\u003d\"14.00\" text-anchor\u003d\"middle\" x\u003d\"454.5\" y\u003d\"-174.3\"\u003e(None, 50)\u003c/text\u003e\n",
              "\u003c/g\u003e\n",
              "\u003c!-- 2304187909736\u0026#45;\u0026gt;2304188365008 --\u003e\n",
              "\u003cg class\u003d\"edge\" id\u003d\"edge10\"\u003e\u003ctitle\u003e2304187909736-\u0026gt;2304188365008\u003c/title\u003e\n",
              "\u003cpath d\u003d\"M347.5,-249.366C347.5,-241.152 347.5,-231.658 347.5,-222.725\" fill\u003d\"none\" stroke\u003d\"black\"/\u003e\n",
              "\u003cpolygon fill\u003d\"black\" points\u003d\"351,-222.607 347.5,-212.607 344,-222.607 351,-222.607\" stroke\u003d\"black\"/\u003e\n",
              "\u003c/g\u003e\n",
              "\u003c!-- 2304188468080 --\u003e\n",
              "\u003cg class\u003d\"node\" id\u003d\"node12\"\u003e\u003ctitle\u003e2304188468080\u003c/title\u003e\n",
              "\u003cpolygon fill\u003d\"none\" points\u003d\"202,-83.5 202,-129.5 493,-129.5 493,-83.5 202,-83.5\" stroke\u003d\"black\"/\u003e\n",
              "\u003ctext font-family\u003d\"Times New Roman,serif\" font-size\u003d\"14.00\" text-anchor\u003d\"middle\" x\u003d\"281\" y\u003d\"-102.8\"\u003eFullyConnected-3: Dense\u003c/text\u003e\n",
              "\u003cpolyline fill\u003d\"none\" points\u003d\"360,-83.5 360,-129.5 \" stroke\u003d\"black\"/\u003e\n",
              "\u003ctext font-family\u003d\"Times New Roman,serif\" font-size\u003d\"14.00\" text-anchor\u003d\"middle\" x\u003d\"388\" y\u003d\"-114.3\"\u003einput:\u003c/text\u003e\n",
              "\u003cpolyline fill\u003d\"none\" points\u003d\"360,-106.5 416,-106.5 \" stroke\u003d\"black\"/\u003e\n",
              "\u003ctext font-family\u003d\"Times New Roman,serif\" font-size\u003d\"14.00\" text-anchor\u003d\"middle\" x\u003d\"388\" y\u003d\"-91.3\"\u003eoutput:\u003c/text\u003e\n",
              "\u003cpolyline fill\u003d\"none\" points\u003d\"416,-83.5 416,-129.5 \" stroke\u003d\"black\"/\u003e\n",
              "\u003ctext font-family\u003d\"Times New Roman,serif\" font-size\u003d\"14.00\" text-anchor\u003d\"middle\" x\u003d\"454.5\" y\u003d\"-114.3\"\u003e(None, 50)\u003c/text\u003e\n",
              "\u003cpolyline fill\u003d\"none\" points\u003d\"416,-106.5 493,-106.5 \" stroke\u003d\"black\"/\u003e\n",
              "\u003ctext font-family\u003d\"Times New Roman,serif\" font-size\u003d\"14.00\" text-anchor\u003d\"middle\" x\u003d\"454.5\" y\u003d\"-91.3\"\u003e(None, 20)\u003c/text\u003e\n",
              "\u003c/g\u003e\n",
              "\u003c!-- 2304188365008\u0026#45;\u0026gt;2304188468080 --\u003e\n",
              "\u003cg class\u003d\"edge\" id\u003d\"edge11\"\u003e\u003ctitle\u003e2304188365008-\u0026gt;2304188468080\u003c/title\u003e\n",
              "\u003cpath d\u003d\"M347.5,-166.366C347.5,-158.152 347.5,-148.658 347.5,-139.725\" fill\u003d\"none\" stroke\u003d\"black\"/\u003e\n",
              "\u003cpolygon fill\u003d\"black\" points\u003d\"351,-139.607 347.5,-129.607 344,-139.607 351,-139.607\" stroke\u003d\"black\"/\u003e\n",
              "\u003c/g\u003e\n",
              "\u003c!-- 2304188468808 --\u003e\n",
              "\u003cg class\u003d\"node\" id\u003d\"node13\"\u003e\u003ctitle\u003e2304188468808\u003c/title\u003e\n",
              "\u003cpolygon fill\u003d\"none\" points\u003d\"223.5,-0.5 223.5,-46.5 471.5,-46.5 471.5,-0.5 223.5,-0.5\" stroke\u003d\"black\"/\u003e\n",
              "\u003ctext font-family\u003d\"Times New Roman,serif\" font-size\u003d\"14.00\" text-anchor\u003d\"middle\" x\u003d\"281\" y\u003d\"-19.8\"\u003eActivation: Dense\u003c/text\u003e\n",
              "\u003cpolyline fill\u003d\"none\" points\u003d\"338.5,-0.5 338.5,-46.5 \" stroke\u003d\"black\"/\u003e\n",
              "\u003ctext font-family\u003d\"Times New Roman,serif\" font-size\u003d\"14.00\" text-anchor\u003d\"middle\" x\u003d\"366.5\" y\u003d\"-31.3\"\u003einput:\u003c/text\u003e\n",
              "\u003cpolyline fill\u003d\"none\" points\u003d\"338.5,-23.5 394.5,-23.5 \" stroke\u003d\"black\"/\u003e\n",
              "\u003ctext font-family\u003d\"Times New Roman,serif\" font-size\u003d\"14.00\" text-anchor\u003d\"middle\" x\u003d\"366.5\" y\u003d\"-8.3\"\u003eoutput:\u003c/text\u003e\n",
              "\u003cpolyline fill\u003d\"none\" points\u003d\"394.5,-0.5 394.5,-46.5 \" stroke\u003d\"black\"/\u003e\n",
              "\u003ctext font-family\u003d\"Times New Roman,serif\" font-size\u003d\"14.00\" text-anchor\u003d\"middle\" x\u003d\"433\" y\u003d\"-31.3\"\u003e(None, 20)\u003c/text\u003e\n",
              "\u003cpolyline fill\u003d\"none\" points\u003d\"394.5,-23.5 471.5,-23.5 \" stroke\u003d\"black\"/\u003e\n",
              "\u003ctext font-family\u003d\"Times New Roman,serif\" font-size\u003d\"14.00\" text-anchor\u003d\"middle\" x\u003d\"433\" y\u003d\"-8.3\"\u003e(None, 1)\u003c/text\u003e\n",
              "\u003c/g\u003e\n",
              "\u003c!-- 2304188468080\u0026#45;\u0026gt;2304188468808 --\u003e\n",
              "\u003cg class\u003d\"edge\" id\u003d\"edge12\"\u003e\u003ctitle\u003e2304188468080-\u0026gt;2304188468808\u003c/title\u003e\n",
              "\u003cpath d\u003d\"M347.5,-83.3664C347.5,-75.1516 347.5,-65.6579 347.5,-56.7252\" fill\u003d\"none\" stroke\u003d\"black\"/\u003e\n",
              "\u003cpolygon fill\u003d\"black\" points\u003d\"351,-56.6068 347.5,-46.6068 344,-56.6069 351,-56.6068\" stroke\u003d\"black\"/\u003e\n",
              "\u003c/g\u003e\n",
              "\u003c/g\u003e\n",
              "\u003c/svg\u003e"
            ],
            "text/plain": [
              "\u003cIPython.core.display.SVG object\u003e"
            ]
          },
          "execution_count": 4,
          "metadata": {},
          "output_type": "execute_result"
        }
      ],
      "source": [
        "n_latent_factors_user \u003d 5\n",
        "n_latent_factors_movie \u003d 8\n",
        "\n",
        "movie_input \u003d keras.layers.Input(shape\u003d[1],name\u003d\u0027Movie\u0027)\n",
        "movie_embedding \u003d keras.layers.Embedding(n_movies + 1, n_latent_factors_movie, name\u003d\u0027Movie-Embedding\u0027)(movie_input)\n",
        "movie_vec \u003d keras.layers.Flatten(name\u003d\u0027FlattenMovies\u0027)(movie_embedding)\n",
        "movie_vec \u003d keras.layers.Dropout(0.5)(movie_vec)\n",
        "\n",
        "\n",
        "user_input \u003d keras.layers.Input(shape\u003d[1],name\u003d\u0027User\u0027)\n",
        "user_vec \u003d keras.layers.Flatten(name\u003d\u0027FlattenUsers\u0027)(keras.layers.Embedding(n_users + 1, n_latent_factors_user,name\u003d\u0027User-Embedding\u0027)(user_input))\n",
        "user_vec \u003d keras.layers.Dropout(0.5)(user_vec)\n",
        "\n",
        "\n",
        "concat \u003d keras.layers.concatenate([movie_vec, user_vec])\n",
        "concat_dropout \u003d keras.layers.Dropout(0.2)(concat)\n",
        "dense \u003d keras.layers.Dense(200,name\u003d\u0027FullyConnected\u0027)(concat)\n",
        "dropout_1 \u003d keras.layers.Dropout(0.2,name\u003d\u0027Dropout\u0027)(dense)\n",
        "dense_2 \u003d keras.layers.Dense(100,name\u003d\u0027FullyConnected-1\u0027)(concat)\n",
        "dropout_2 \u003d keras.layers.Dropout(0.2,name\u003d\u0027Dropout\u0027)(dense_2)\n",
        "dense_3 \u003d keras.layers.Dense(50,name\u003d\u0027FullyConnected-2\u0027)(dense_2)\n",
        "dropout_3 \u003d keras.layers.Dropout(0.2,name\u003d\u0027Dropout\u0027)(dense_3)\n",
        "dense_4 \u003d keras.layers.Dense(20,name\u003d\u0027FullyConnected-3\u0027, activation\u003d\u0027relu\u0027)(dense_3)\n",
        "\n",
        "\n",
        "result \u003d keras.layers.Dense(1, activation\u003d\u0027relu\u0027,name\u003d\u0027Activation\u0027)(dense_4)\n",
        "model \u003d keras.Model([user_input, movie_input], result)\n",
        "model.compile(optimizer\u003dAdam(lr\u003d0.001),loss\u003d \u0027mean_absolute_error\u0027)\n",
        "\n",
        "#visualize model\n",
        "SVG(model_to_dot(model,  show_shapes\u003dTrue, rankdir\u003d\u0027HB\u0027).create(prog\u003d\u0027dot\u0027, format\u003d\u0027svg\u0027))"
      ]
    },
    {
      "cell_type": "code",
      "execution_count": 5,
      "metadata": {
        "pycharm": {
          "metadata": false,
          "name": "#%%\n"
        }
      },
      "outputs": [
        {
          "name": "stdout",
          "output_type": "stream",
          "text": [
            "WARNING:tensorflow:From C:\\Users\\machine\\Anaconda3\\envs\\tf_gpu\\lib\\site-packages\\tensorflow\\python\\ops\\math_ops.py:3066: to_int32 (from tensorflow.python.ops.math_ops) is deprecated and will be removed in a future version.\n",
            "Instructions for updating:\n",
            "Use tf.cast instead.\n"
          ]
        },
        {
          "data": {
            "text/plain": [
              "Text(0, 0.5, \u0027Train Error\u0027)"
            ]
          },
          "execution_count": 5,
          "metadata": {},
          "output_type": "execute_result"
        },
        {
          "data": {
            "image/png": "[encoded data removed]",
            "text/plain": [
              "\u003cFigure size 432x288 with 1 Axes\u003e"
            ]
          },
          "metadata": {
            "needs_background": "light"
          },
          "output_type": "display_data"
        }
      ],
      "source": [
        "history \u003d model.fit([train[\u0027userId\u0027], train[\u0027movieId\u0027]], train.rating,batch_size\u003d256, epochs\u003d100, verbose\u003d0)\n",
        "pd.Series(history.history[\u0027loss\u0027]).plot()\n",
        "plt.xlabel(\"Epoch\")\n",
        "plt.ylabel(\"Train Error\")\n",
        "#model.save_weights(\u0027neural-weights.h5\u0027)"
      ]
    },
    {
      "cell_type": "code",
      "execution_count": 6,
      "metadata": {
        "pycharm": {
          "metadata": false,
          "name": "#%%\n"
        }
      },
      "outputs": [
        {
          "name": "stdout",
          "output_type": "stream",
          "text": [
            "MAE: 0.6562822706072352\n",
            "RMSE: 0.8961293645274964\n"
          ]
        }
      ],
      "source": [
        "y_hat \u003d model.predict([test.userId, test.movieId])\n",
        "y_true \u003d test.rating\n",
        "\n",
        "print(\"MAE:\",mean_absolute_error(y_true,y_hat))\n",
        "print(\"RMSE:\",sqrt(mean_squared_error(y_true, y_hat)))"
      ]
    },
    {
      "cell_type": "code",
      "execution_count": 7,
      "metadata": {
        "pycharm": {
          "metadata": false,
          "name": "#%%\n"
        }
      },
      "outputs": [],
      "source": [
        "def addRating(movieName,rating):\n",
        "    m \u003d ratings.loc[ratings[\u0027title\u0027]\u003d\u003dmovieName].movieId\n",
        "    id \u003d m.unique()\n",
        "    new_user \u003d [610]\n",
        "    history \u003d model.fit([new_user, id], [5] , epochs\u003d1, verbose\u003d0)\n",
        "    # pd.Series(history.history[\u0027loss\u0027]).plot()\n",
        "    # plt.xlabel(\"Epoch\")\n",
        "    # plt.ylabel(\"Train Error\")\n",
        "    \n",
        "    new_user \u003d new_user * n_movies\n",
        "    movieIds \u003d ratings[\u0027movieId\u0027].unique()\n",
        "    preds \u003d model.predict([new_user, movieIds])\n",
        "    \n",
        "    \n",
        "    preds \u003d pd.DataFrame(data\u003dpreds)\n",
        "    movieIds \u003d pd.DataFrame(data\u003dmovieIds)\n",
        "\n",
        "    \n",
        "    preds2 \u003d preds.merge(movieIds,left_index\u003dTrue,right_index\u003dTrue)\n",
        "    preds2.columns\u003d [\u0027rating\u0027,\u0027movieId\u0027]\n",
        "    \n",
        "    preds2 \u003d preds2.sort_values(by\u003d\u0027rating\u0027, ascending\u003dFalse)\n",
        "\n",
        "    return preds2.merge(ratings[[\u0027movieId\u0027,\u0027title\u0027,\u0027genres\u0027]], on\u003d\u0027movieId\u0027).drop_duplicates()"
      ]
    },
    {
      "cell_type": "code",
      "execution_count": 8,
      "metadata": {
        "pycharm": {
          "metadata": false,
          "name": "#%%\n"
        }
      },
      "outputs": [
        {
          "name": "stdout",
          "output_type": "stream",
          "text": [
            "     rating  movieId                           title  \\\n",
            "0  5.157592     8943                  Villain (1971)   \n",
            "1  5.108462     5423       Unfaithfully Yours (1948)   \n",
            "2  5.041214     7347           Enter the Void (2009)   \n",
            "4  5.040060     8708  The Fox and the Hound 2 (2006)   \n",
            "5  5.038970     5128           Little Murders (1971)   \n",
            "\n",
            "                                genres  \n",
            "0                 Crime|Drama|Thriller  \n",
            "1                               Comedy  \n",
            "2                                Drama  \n",
            "4  Adventure|Animation|Children|Comedy  \n",
            "5                         Comedy|Crime  \n"
          ]
        }
      ],
      "source": [
        "preds \u003d addRating(\"Lord of the Rings: The Fellowship of the Ring, The (2001)\",5)\n",
        "print(preds.head())"
      ]
    }
  ],
  "metadata": {
    "kernelspec": {
      "display_name": "TF GPU",
      "language": "python",
      "name": "tf-gpu"
    },
    "language_info": {
      "codemirror_mode": {
        "name": "ipython",
        "version": 3
      },
      "file_extension": ".py",
      "mimetype": "text/x-python",
      "name": "python",
      "nbconvert_exporter": "python",
      "pygments_lexer": "ipython3",
      "version": "3.7.3"
    },
    "stem_cell": {
      "cell_type": "raw",
      "metadata": {
        "pycharm": {
          "metadata": false
        }
      },
      "source": ""
    }
  },
  "nbformat": 4,
  "nbformat_minor": 1
}